{
 "cells": [
  {
   "cell_type": "markdown",
   "metadata": {},
   "source": [
    "## Python 3 Version of Andromeda"
   ]
  },
  {
   "cell_type": "code",
   "execution_count": 1,
   "metadata": {},
   "outputs": [],
   "source": [
    "%matplotlib notebook   \n",
    "#this is to get render in notebook\n",
    "import numpy as np\n",
    "import pandas as pd\n",
    "#import math\n",
    "import random\n",
    "#import os\n",
    "#import re\n",
    "import cv2\n",
    "from skimage.transform import resize\n",
    "#import csv\n",
    "#from functools import partial\n",
    "#from tqdm import tqdm\n",
    "import traceback\n",
    "\n",
    "#from os import listdir\n",
    "#from os.path import isfile, join\n",
    "#from math import isnan\n",
    "\n",
    "\"\"\" \n",
    "unnecessary with import from dimension_reduction\n",
    "#import required sklearn packages:\n",
    "from sklearn.decomposition import PCA\n",
    "from sklearn.manifold import MDS\n",
    "import sklearn.metrics.pairwise   #probably better: from sklearn.metrics.pairwise import manhattan_distances, euclidean_distances\n",
    "#and fix below \n",
    "\"\"\"\n",
    "from andromeda.dimension_reduction import distance_matrix_2D, distance_matrix_HD, dimension_reduction, stress #, compute_mds\n",
    "from sklearn.metrics import silhouette_score # never used\n",
    "\n",
    "#import matplotlib packages\n",
    "#import matplotlib as mpl\n",
    "import matplotlib.pyplot as plt\n",
    "import matplotlib.patches as mpatches\n",
    "from matplotlib.colors import Normalize\n",
    "from matplotlib.offsetbox import OffsetImage, AnnotationBbox\n",
    "#from matplotlib.patches import FancyBboxPatch\n",
    "#from matplotlib.widgets import Slider, Button\n",
    "\n",
    "#import ipyplot\n",
    "import io\n",
    "import urllib.request\n",
    "\n",
    "#import display packages\n",
    "from IPython.display import HTML, Javascript, display\n",
    "\n",
    "#import ipywidges and packages\n",
    "import ipywidgets as widgets\n",
    "from ipywidgets import interact, Layout, ButtonStyle #Button, GridBox,\n",
    "    # interact vs interactive: with interactive the checkboxes don't appear, otherwise seems the same\n",
    "\n",
    "#import interaction (Drag functions)\n",
    "from andromeda.DraggablePointsClass import DraggablePoints"
   ]
  },
  {
   "cell_type": "markdown",
   "metadata": {},
   "source": [
    "### Instantiate Upload Button"
   ]
  },
  {
   "cell_type": "code",
   "execution_count": 2,
   "metadata": {},
   "outputs": [
    {
     "data": {
      "application/vnd.jupyter.widget-view+json": {
       "model_id": "c43ee3656f75434e949a1674ed64fd1e",
       "version_major": 2,
       "version_minor": 0
      },
      "text/plain": [
       "FileUpload(value={}, accept='*.csv', description='Upload file', style=ButtonStyle(button_color='lightblue'))"
      ]
     },
     "metadata": {},
     "output_type": "display_data"
    },
    {
     "data": {
      "text/html": [
       "<script>\n",
       "code_show=true; \n",
       "function code_toggle() {\n",
       " if (code_show){\n",
       " $('div.input').hide();\n",
       " } else {\n",
       " $('div.input').show();\n",
       " }\n",
       " code_show = !code_show\n",
       "} \n",
       "$( document ).ready(code_toggle);\n",
       "</script>\n",
       "\n",
       "To toggle on/off the raw code, click <a href=\"javascript:code_toggle()\">here</a>."
      ],
      "text/plain": [
       "<IPython.core.display.HTML object>"
      ]
     },
     "execution_count": 2,
     "metadata": {},
     "output_type": "execute_result"
    }
   ],
   "source": [
    "w = widgets.IntSlider()\n",
    "uploader = widgets.FileUpload(accept = '*.csv',  # Accepted file extension e.g. '.txt', '.pdf', 'image/*', 'image/*,.pdf'\n",
    "                              multiple = False,  # True to accept multiple files upload else False\n",
    "                              description = 'Upload file',\n",
    "                              style=ButtonStyle(button_color='lightblue')\n",
    ")\n",
    "#only allow single file upload\n",
    "\n",
    "display(uploader)\n",
    "\n",
    "\n",
    "\n",
    "HTML('''<script>\n",
    "code_show=true; \n",
    "function code_toggle() {\n",
    " if (code_show){\n",
    " $('div.input').hide();\n",
    " } else {\n",
    " $('div.input').show();\n",
    " }\n",
    " code_show = !code_show\n",
    "} \n",
    "$( document ).ready(code_toggle);\n",
    "</script>\n",
    "\n",
    "To toggle on/off the raw code, click <a href=\"javascript:code_toggle()\">here</a>.''')"
   ]
  },
  {
   "cell_type": "markdown",
   "metadata": {},
   "source": [
    "### Run everything on launch button\n",
    "\n",
    "Does generate button before ready "
   ]
  },
  {
   "cell_type": "code",
   "execution_count": 11,
   "metadata": {
    "scrolled": true
   },
   "outputs": [
    {
     "data": {
      "application/javascript": "IPython.notebook.execute_cells_below()",
      "text/plain": [
       "<IPython.core.display.Javascript object>"
      ]
     },
     "metadata": {},
     "output_type": "display_data"
    },
    {
     "data": {
      "application/vnd.jupyter.widget-view+json": {
       "model_id": "bf2e593aa3f24ed8913157117be3668d",
       "version_major": 2,
       "version_minor": 0
      },
      "text/plain": [
       "Button(description='Launch Andromeda', style=ButtonStyle(button_color='lightblue'))"
      ]
     },
     "metadata": {},
     "output_type": "display_data"
    }
   ],
   "source": [
    "def run_all(ev):\n",
    "    display(Javascript('IPython.notebook.execute_cells_below()'))\n",
    "    #display(Javascript(\"Jupyter.notebook.execute_cell(2)\"))\n",
    "\n",
    "button = widgets.Button(description = \"Launch Andromeda\", \n",
    "                        style = ButtonStyle(button_color='lightblue'))\n",
    "button.on_click(run_all)\n",
    "display(button)"
   ]
  },
  {
   "cell_type": "markdown",
   "metadata": {},
   "source": [
    "#### try-exception\n",
    "\n",
    "I think this try, exception pair is born out of the fact that the whole notebook gets run before it has everything it needs, so there's a pass to then be able to run it again. However, the exception buried errors."
   ]
  },
  {
   "cell_type": "code",
   "execution_count": 12,
   "metadata": {
    "scrolled": false
   },
   "outputs": [
    {
     "name": "stderr",
     "output_type": "stream",
     "text": [
      "/opt/homebrew/Caskroom/miniforge/base/envs/andromeda/lib/python3.11/site-packages/sklearn/manifold/_mds.py:299: FutureWarning: The default value of `normalized_stress` will change to `'auto'` in version 1.4. To suppress this warning, manually set the value of `normalized_stress`.\n",
      "  warnings.warn(\n"
     ]
    }
   ],
   "source": [
    "try:    \n",
    "    input_file = list(uploader.value.values())[0]\n",
    "    content = input_file['content']\n",
    "    content = io.StringIO(content.decode('utf-8'))\n",
    "    df = pd.read_csv(content)\n",
    "    #df.rename(columns = {'Image_Label':'Name'}, inplace=True)\n",
    "    df.set_index('Image_Label', inplace = True)\n",
    "\n",
    "    label_names = df.index.tolist()\n",
    "    image_paths = {}\n",
    "    for name in label_names:\n",
    "        image_paths[name] = df['Image_Link'][name]\n",
    "\n",
    "    df = df.loc[:, ~df.columns.isin(['Image_Link','Species','User','Date','Time','Annotations','Hex_Color_Code'])]\n",
    "    df_numeric = df.select_dtypes(include='number')  #'int32' or 'int64' or 'float32' or 'float64'\n",
    "    df_numeric = df_numeric.loc[:, (df_numeric != df_numeric.iloc[0]).any()] \n",
    "    df_category = df.select_dtypes(exclude='number') #'object'  #never used\n",
    "    normalized_df = (df_numeric - df_numeric.mean()) / df_numeric.std()\n",
    "    min_weight, max_weight = 0.00001, 0.9999\n",
    "    init_weight = min_weight  # 1.0/len(normalized_df.columns) # initialize to min to make the sliders easier to use.\n",
    "    weights = pd.Series(init_weight, \n",
    "                        index = normalized_df.columns, \n",
    "                        name = \"Weight\")  # the current weight list\n",
    "    df_2D = dimension_reduction(normalized_df, weights)   # the current projected data\n",
    "\n",
    "except Exception as ex:\n",
    "    #pass\n",
    "    traceback.print_exception(ex)\n",
    "\n"
   ]
  },
  {
   "cell_type": "markdown",
   "metadata": {},
   "source": [
    "#### This will update the plot?"
   ]
  },
  {
   "cell_type": "code",
   "execution_count": 13,
   "metadata": {},
   "outputs": [],
   "source": [
    "##Updating Weights, based on manual re-organization of images in the plot\n",
    "\n",
    "\n",
    "def new_proposal(current, step, direction):\n",
    "    '''\n",
    "    what is this?\n",
    "    seems to be a suggestion of new weights\n",
    "    '''\n",
    "    return np.clip(current + direction*step*random.random(), 0.00001, 0.9999)\n",
    "\n",
    "def inverse_DR(dataHD, data2D, curWeights = None): \n",
    "    '''\n",
    "\n",
    "    Generates new weights based on manual movements of the images in the plot.\n",
    "\n",
    "    Parameters:\n",
    "    -----------\n",
    "    dataHD - DataFrame or Array of high-dimensional data\n",
    "    data2D - DataFrame or Array of projected 2D data\n",
    "    curWeights - Weights for features (columns of dataHD). list? Default value is None. \n",
    "\n",
    "    Returns:\n",
    "    --------\n",
    "    Series of new weights\n",
    "\n",
    "    '''\n",
    "    \"\"\"\n",
    "    ......\n",
    "    @parameters:\n",
    "        dataHD[pd.df or np.array]: high-dimensional data\n",
    "        data2D[pd.df or np.array]: projected 2D data\n",
    "    @return[pd.Series]: new weights  \n",
    "    \"\"\"\n",
    "    dist2D = distance_matrix_2D(data2D)  # compute 2D distances only once\n",
    "    col_names = dataHD.columns\n",
    "    dataHD = dataHD.to_numpy()  # use numpy for efficiency  <--??\n",
    "    row, col = dataHD.shape\n",
    "    \n",
    "    if curWeights == None:\n",
    "        curWeights = np.array([1.0/col]*col)  # default weights = 1/p\n",
    "    else:\n",
    "        curWeights = curWeights.to_numpy()\n",
    "        curWeights = curWeights / curWeights.sum()  # Normalize weights to sum to 1\n",
    "    newWeights = curWeights.copy()  # re-use this array for efficiency <---re-use? \n",
    "        #defining this way to confirm size/shape is the same for true_divide output later\n",
    "    \n",
    "    # Initialize state\n",
    "    flag = [0]*col         # degree of success of a weight change\n",
    "    direction = [1]*col  # direction to move a weight, pos or neg\n",
    "    step = [1.0/col]*col   # how much to change each weight\n",
    "    \n",
    "    dataHDw = dataHD * curWeights   # weighted space, re-use this array for efficiency                                \n",
    "    distHD = distance_matrix_HD(dataHDw)\n",
    "    curStress = stress(distHD, dist2D)\n",
    "    print('Starting stress =', curStress, 'Processing...')   # printing to console\n",
    "\n",
    "    MAX = 500   # default setting of the number of iterations\n",
    "\n",
    "    # Try to minorly adjust each weight to see if it reduces stress\n",
    "    for i in range(MAX):\n",
    "        for dim in range(col):            \n",
    "            # Get a new weight for current column\n",
    "            nw = new_proposal(curWeights[dim], step[dim], direction[dim])\n",
    "            \n",
    "            # Scale the weight list such that it sums to 1\n",
    "            s = 1.0  + nw - curWeights[dim]   # 1.0 == curWeights.sum()\n",
    "            '''\n",
    "            curWeights is being used instead of newWeights because\n",
    "            they are equal to each other until this next step in the first iteration, but then not\n",
    "            do need to instantiate newWeights to proper size/shape first for this to work\n",
    "            '''\n",
    "            np.true_divide(curWeights, s, out = newWeights)  # transfers to other array, while doing /\n",
    "            newWeights[dim] = nw/s\n",
    "            \n",
    "            # Apply new weights to HD data\n",
    "            np.multiply(dataHD, newWeights, out = dataHDw)  # dataHDw = dataHD * newWeights; efficiently reuses dataHDw array\n",
    "            distHD = distance_matrix_HD(dataHDw)\n",
    "\n",
    "            # Get the new stress\n",
    "            newStress = stress(distHD, dist2D)\n",
    "            \n",
    "            # If new stress is lower, then update weights and flag this success\n",
    "            if newStress < curStress:\n",
    "                temp = curWeights\n",
    "                curWeights = newWeights\n",
    "                newWeights = temp   # reuse the old array next iteration\n",
    "                curStress = newStress\n",
    "                flag[dim] = flag[dim] + 1\n",
    "            else:\n",
    "                flag[dim] = flag[dim] - 1\n",
    "                direction[dim] = -direction[dim]  # Reverse course\n",
    "    \n",
    "            # If recent success, then speed up the step rate\n",
    "            if flag[dim] >= 5:\n",
    "                step[dim] = step[dim] * 2\n",
    "                flag[dim] = 0\n",
    "            elif flag[dim] <= -5:\n",
    "                step[dim] = step[dim] / 2\n",
    "                flag[dim] = 0\n",
    "                \n",
    "    print('Solution stress =', curStress, 'Done.')  # printing to console, get warning on `normalized_stress`\n",
    "    return pd.Series(curWeights, index=col_names, name=\"Weight\")"
   ]
  },
  {
   "cell_type": "markdown",
   "metadata": {},
   "source": [
    "### Create the widgets/displays"
   ]
  },
  {
   "cell_type": "code",
   "execution_count": 14,
   "metadata": {},
   "outputs": [],
   "source": [
    "## displays, \n",
    "imgDisplaySize = 0.30\n",
    "        \n",
    "\n",
    "def create_plot(data2D, title = False): \n",
    "    '''\n",
    "    Function to generate the button to activate the size slider chosen size.\n",
    "    \n",
    "    Parameters:\n",
    "    -----------\n",
    "    data2D - DataFrame or Array of projected 2D data\n",
    "    imgDisplaySize - [float]: zoom image displayed size\n",
    "    title - Boolean: toggle title. Default is False.\n",
    "\n",
    "    Returns:\n",
    "    --------\n",
    "    ax - Axes for plot\n",
    "    \n",
    "    '''\n",
    "    \"\"\"\n",
    "    @parameters:\n",
    "        data2D[pd.df or np.array]: projected 2D data\n",
    "        title[boolean]: toggle title or not \n",
    "    @return[AxesSubplot]: plotting axes\n",
    "    \"\"\"\n",
    "    # Initialize DR plot figure   \n",
    "    fig, ax = plt.subplots(figsize= (6,6), dpi=80)\n",
    "    ax.selected_text = ax.figure.text(0, \n",
    "                                      0.005, \n",
    "                                      'Selected: none', \n",
    "                                      wrap = True, \n",
    "                                      color = 'green')\n",
    "    #no ticks\n",
    "    ax.set_xticks([])\n",
    "    ax.set_yticks([])\n",
    "    ax.figure.tight_layout()\n",
    "#     global imageIndex_path_dict\n",
    "    \n",
    "    # Store state data:\n",
    "    ax.dragpoint = None\n",
    "    draw_plot(ax, data2D, title = title)\n",
    "        \n",
    "    return ax\n",
    "\n",
    "\n",
    "def url_to_image(url):\n",
    "    '''\n",
    "    download the image, convert it to a NumPy array, and then read\n",
    "    it into OpenCV format\n",
    "\n",
    "    Parameters:\n",
    "    -----------\n",
    "    url - url of plot?\n",
    "\n",
    "    Returns:\n",
    "    --------\n",
    "    immage - Image of the plot? OpenCV format\n",
    "    '''\n",
    "    resp = urllib.request.urlopen(url)\n",
    "    image = np.asarray(bytearray(resp.read()), dtype=\"uint8\")\n",
    "    image = cv2.imdecode(image, cv2.IMREAD_COLOR)\n",
    "    # return the image\n",
    "    return image\n",
    "\n",
    "\n",
    "def image_preprocessing(imgIndex):\n",
    "    \"\"\"\n",
    "    segment images if background is black\n",
    "    @parameters:\n",
    "        imgIndex[str]: image index\n",
    "    @return[np.array(image)]: processed image\n",
    "    \"\"\"\n",
    "\n",
    "    #global image_paths   #variable defined (and initiated as empty) in try statement.\n",
    "                         #defining it as global here would change the value, \n",
    "                         #but the value isn't being changed, it's being used\n",
    "                         #commenting out doesn't fix, but doesn't seem to break\n",
    "    path = image_paths[imgIndex]\n",
    "    up_width = 150\n",
    "    up_height = 150\n",
    "    up_points = (up_width, up_height)    \n",
    "    src = url_to_image(path)\n",
    "    src = cv2.resize(src, \n",
    "                     up_points, \n",
    "                     interpolation = cv2.INTER_LINEAR)\n",
    "    tmp = cv2.cvtColor(src, \n",
    "                       cv2.COLOR_BGR2GRAY)        \n",
    "    _,alpha = cv2.threshold(tmp, \n",
    "                            0, \n",
    "                            255, \n",
    "                            cv2.THRESH_BINARY)\n",
    "    b, g, r = cv2.split(src)\n",
    "    rgba = [r,g,b, alpha]\n",
    "    processed_img = cv2.merge(rgba, 4)\n",
    "\n",
    "    return processed_img\n",
    "\n",
    "def draw_plot(ax, data2D, imgSize = imgDisplaySize, title = False, image = True): \n",
    "    \"\"\"\n",
    "\n",
    "    Function drawing the plot? Also calls the interactive \"DraggablePoints\" Class to allow interaction with plot.\n",
    "    Creates green circles behind images on click?\n",
    "\n",
    "    @parameters:\n",
    "        ax[AxesSubplot]: plot ax\n",
    "        data2D[dataframe]: projected 2D dataframe\n",
    "        imgSize[float]: zoom parameter of OffsetImage, determine size of displaying images. Default imgDisplaySize = .3.\n",
    "        title[boolean]: whether toggle title or not. Default is False\n",
    "        image[boolean]: whether toggle image or not. Default is True\n",
    "    \"\"\"\n",
    "    \n",
    "    labels_df = data2D.index.to_series().apply(lambda x: x.split('/')[0])\n",
    "    data2D['label'] = labels_df\n",
    "    label_list = list(set(data2D['label']))\n",
    "    conversion_dict = {k:v for k,v in zip(label_list,range(len(label_list)))}\n",
    "    data2D['label_num'] = data2D['label'].replace(conversion_dict)\n",
    "    ax.clear()\n",
    "    wid = max(data2D.x.max() - data2D.x.min(), data2D.y.max() - data2D.y.min()) # max range of x,y axes\n",
    "    if not image:\n",
    "        print(\"not image\")\n",
    "        cnorm = Normalize(vmin = data2D.label_num.min(),                #just import from matplotlib.colors\n",
    "                            vmax = data2D.label_num.max())\n",
    "        \n",
    "        ax.circles = data2D.apply(axis=1, func=lambda row: \n",
    "                                    mpatches.Circle(xy = (row.x, row.y), \n",
    "                                                        radius = wid/70, \n",
    "                                                        alpha=0.95, \n",
    "                                                        label=row.label_num,\n",
    "                                                        color = plt.cm.Set3(cnorm(row.label_num)), \n",
    "                                                        picker = True))\n",
    "        for i,c in enumerate(ax.circles):\n",
    "            # Store state data:\n",
    "            c.index, c.label, c.selected = i, data2D.index[i], False\n",
    "            # Draw circles and text labels in plot\n",
    "            ax.add_patch(c)\n",
    "            if title:\n",
    "                c.text = ax.text(c.center[0]+c.radius, c.center[1], c.label, color='black')\n",
    "            else:\n",
    "                c.text = ax.text(c.center[0]+c.radius, c.center[1], \"\", color='none')\n",
    "    else:\n",
    "        print(\"image true\")\n",
    "        ax.circles = []\n",
    "        for x0, y0, index in zip(data2D.x, data2D.y, data2D.index):\n",
    "            ax.circles.append(mpatches.Circle(xy = (x0, y0), \n",
    "                                                 radius = wid*imgSize/3, \n",
    "                                                 alpha = 0.5, \n",
    "                                                 color = 'none', \n",
    "                                                 picker = True))\n",
    "\n",
    "        for i,c in enumerate(ax.circles):\n",
    "            # Store state data:\n",
    "            c.index, c.label, c.selected = i, data2D.index[i], False\n",
    "            # Draw circles and text labels in plot\n",
    "            ax.add_patch(c)\n",
    "            processed_img = image_preprocessing(c.label)\n",
    "            img = OffsetImage(processed_img,zoom=imgSize)\n",
    "            c.ab = AnnotationBbox(img, (c.center[0], c.center[1]), frameon=False)\n",
    "            ax.add_artist(c.ab)\n",
    "            if title:\n",
    "                c.text = ax.text(c.center[0]+c.radius, c.center[1], c.label, color='black')\n",
    "            else:\n",
    "                c.text = ax.text(c.center[0]+c.radius, c.center[1], \"\", color='none')\n",
    "\n",
    "    # Make plot circles draggable\n",
    "    ax.dragpoint = DraggablePoints(ax, ax.circles)\n",
    "    # Clean up the plot \n",
    "    ax.set_xticks([])\n",
    "    ax.set_yticks([])\n",
    "    ax.axis('equal')\n",
    "    print(ax)\n",
    "    print(ax.figure)\n",
    "    ax.figure.canvas.draw()\n",
    "    #ax.figure.show()\n",
    "    #axis is reset, but plot not drawn\n",
    "    #plot_ax = create_plot(data2D, imgSize)\n",
    "    #return ax\n",
    "    \n"
   ]
  },
  {
   "cell_type": "code",
   "execution_count": 15,
   "metadata": {},
   "outputs": [],
   "source": [
    "# widget coding\n",
    "\n",
    "\n",
    "def create_size_slider(imgDisplaySize):\n",
    "    \"\"\"\n",
    "    Create image size adjust slider\n",
    "    @parameters:\n",
    "        imgDisplaySize[float]: zoom image displayed size\n",
    "    @return[widgets slider]: return the size adjustment slider \n",
    "    \"\"\"\n",
    "\n",
    "    style = {'description_width': 'initial'}\n",
    "    size_slider = widgets.FloatSlider(min = 0,                              \n",
    "                                      max = 1, \n",
    "                                      step = 0.01, \n",
    "                                      value = imgDisplaySize, \n",
    "                                      description = 'Adjust image size', \n",
    "                                      style = style, \n",
    "                                      continuous_update = False, \n",
    "                                      readout_format = '.5f',)\n",
    "    size_slider.style.handle_color = 'lightblue'\n",
    "    return size_slider\n",
    "\n",
    "# sliders for weights\n",
    "def create_sliders(wts):\n",
    "    '''\n",
    "    Function to generate a slider for each feature's weight\n",
    "    \n",
    "    Parameters:\n",
    "    -----------\n",
    "    wts - Series consisting of the potential weights for each feature.\n",
    "\n",
    "    Returns:\n",
    "    --------\n",
    "    sliders - Wigets (sliders).\n",
    "    \n",
    "    '''\n",
    "    # Create sliders, one for each dimension weight\n",
    "    sliders = [widgets.FloatSlider(min = min_weight, \n",
    "                                   max = max_weight, \n",
    "                                   step = 0.01, \n",
    "                                   value = value, \n",
    "                                   description = label, \n",
    "                                   continuous_update = False, \n",
    "                                   layout = Layout(width = '80%', height = '20px'),     #widgets.Layout\n",
    "                                   readout_format = '.5f')    \n",
    "                for (label, value) in wts.items()]\n",
    "    #for (label, value) in wts.items():\n",
    "        #print(label, \" , \", value)\n",
    "#     for slider in sliders:\n",
    "#         slider.style.handle_color = 'lightgreen'\n",
    "#         display(slider)\n",
    "        \n",
    "    return sliders \n",
    "\n",
    "# checkboxes --These select a unselect, don't do toggle\n",
    "def create_checkbox(size_slider, ax, df_2D):\n",
    "    '''\n",
    "    Function to generate the checkboxs for toggling the images and titles. Titles are the image index in the DataFrame.\n",
    "    \n",
    "    Parameters:\n",
    "    -----------\n",
    "    size_slider - slider for size of images (size_slider.value gives desired size)\n",
    "    ax - Axes of plot\n",
    "    df_2D - DataFrame of projected 2D data\n",
    "\n",
    "    Returns:\n",
    "    --------\n",
    "    title_checkbox - Checkbox to toggle titles (default is off)\n",
    "    image_checkbox - Checkbox to toggle images (default is on)\n",
    "    \n",
    "    '''\n",
    "    \"\"\"\n",
    "    @return: create the checkbox to toggle the images and titles(image index in the dataframe)  \n",
    "    \"\"\"\n",
    "    title_checkbox = widgets.Checkbox(False,                             \n",
    "                                      description = 'Toggle Titles', \n",
    "                                      indent=False,   \n",
    "                                      layout = Layout(width='20%', height='20px'))\n",
    "    image_checkbox = widgets.Checkbox(True, \n",
    "                                      description = 'Toggle Images', \n",
    "                                      indent = False,\n",
    "                                      layout = Layout(width='20%', height='20px'))\n",
    "   # print(\"title checkbox is\", title_checkbox.value)\n",
    "   # print(\"image checkbox is\", image_checkbox.value)\n",
    "\n",
    "    #running after click, but not updating plot\n",
    "    def title_check_clicked(x): \n",
    "        '''\n",
    "        Defines interaction with title_checkbox\n",
    "        If clicked, look at value of image_checkbox to determine if image is shown in plot.\n",
    "        Then get answer of title_checkbox clicked for whether to show title or not.\n",
    "        \n",
    "        Parameters:\n",
    "        -----------\n",
    "        x - Checkbox being interacted with (title_checkbox)\n",
    "        \n",
    "        '''  \n",
    "        image = image_checkbox.value\n",
    "        print(image, ax.figure.canvas)\n",
    "        draw_plot(ax, df_2D, size_slider.value, x, image)\n",
    "        print(image, x, ax.figure.canvas, \"plot drawn?\")\n",
    "        #ax.figure.canvas.draw_idle()\n",
    "       # print(image, x, \"ax.figure drawn?\")\n",
    "    interact(title_check_clicked, x = title_checkbox)                 #Q of interact vs interactive\n",
    "    title_checkbox.observe(title_check_clicked)\n",
    "\n",
    "    #running after click, but not updating plot\n",
    "    def image_check_clicked(x):   \n",
    "        '''\n",
    "        Defines interaction with image_checkbox\n",
    "        If clicked, look at value of title_checkbox to determine if title is shown in plot.\n",
    "        Then get answer of image_checkbox clicked for whether to show image or not.\n",
    "        \n",
    "        Parameters:\n",
    "        -----------\n",
    "        x - Checkbox being interacted with (image_checkbox)\n",
    "        \n",
    "        '''  \n",
    "        title = title_checkbox.value \n",
    "        print(title)  \n",
    "        draw_plot(ax, df_2D, size_slider.value, title, x)\n",
    "        print(title, x, ax.figure.canvas, \"plot drawn?\")\n",
    "       # ax.figure.canvas.draw()\n",
    "       # print(title, x, ax.figure.canvas, \"ax.figure drawn?\")\n",
    "\n",
    "    interact(image_check_clicked, x = image_checkbox)\n",
    "    image_checkbox.observe(image_check_clicked)\n",
    "    return title_checkbox, image_checkbox\n",
    "\n",
    "\n",
    "def create_size_slider_button(size_slider, ax, df_2D): \n",
    "    '''\n",
    "    Function to generate the button to activate the size slider chosen size.\n",
    "    \n",
    "    Parameters:\n",
    "    -----------\n",
    "    size_slider -\n",
    "    ax - Axes of plot\n",
    "    df_2D - DataFrame of projected 2D data\n",
    "\n",
    "    Returns:\n",
    "    --------\n",
    "    size_apply_button - Button (widget) to apply the size set by the slider.\n",
    "    \n",
    "    '''\n",
    "    \"\"\"\n",
    "    @parameters:\n",
    "        size_slider: \n",
    "        ax:\n",
    "    @return[button]: return image size adjust button\n",
    "    \"\"\"\n",
    "    size_apply_button = widgets.Button(description = 'Apply Slider Size',  \n",
    "                                        style = ButtonStyle(button_color = 'lightblue'))\n",
    "    \n",
    "    \n",
    "    def size_slider_button_clicked(change):         #change is used implicitly\n",
    "        toggle_image = hasattr(ax.dragpoint.artists[0], 'ab')\n",
    "        toggle_title = ax.dragpoint.artists[0].text.get_text() != ''\n",
    "        draw_plot(ax, \n",
    "                  df_2D, \n",
    "                  size_slider.value, \n",
    "                  toggle_title, \n",
    "                  toggle_image)\n",
    "        ax.figure.canvas.draw()\n",
    "        \n",
    "    size_apply_button.on_click(size_slider_button_clicked)\n",
    "    return size_apply_button\n",
    "\n",
    "# apply slider weights\n",
    "def create_slider_buttons(sliders, size_slider, ax, normalized_df):  \n",
    "    '''\n",
    "    Function to generate the buttons to activate the slider weight changes for all sliders.\n",
    "    \n",
    "    Parameters:\n",
    "    -----------\n",
    "    sliders - [list?] of sliders/features.\n",
    "    size_slider -\n",
    "    ax - Axes of plot\n",
    "    normalized_df - Normalized DataFrame of image data?\n",
    "\n",
    "    Returns:\n",
    "    --------\n",
    "    apply_button - Button (widget) to apply the weights set by the sliders to their respective features.\n",
    "    \n",
    "    '''  \n",
    "    #no need to pass df_2D because redefined before use\n",
    "    apply_button = widgets.Button(description = 'Apply Slider Weights', \n",
    "                                  style = ButtonStyle(button_color = 'lightgreen'), \n",
    "                                  layout = Layout(width='22.7%'))\n",
    "\n",
    "    # Callback functions\n",
    "    def apply_button_clicked():       #removed the input (change) that isn't used\n",
    "        ''' \n",
    "        Use the slider values to recompute the DR and redraw the plot\n",
    "        '''\n",
    "        #global weights, df_2D #, imageIndex_path_dict   # Update weights and df_2D globals\n",
    "                                #imageIndex_path_dict is never used\n",
    "                                #passing df_2D where needed\n",
    "        weights = pd.Series([s.value for s in sliders], \n",
    "                            index = normalized_df.columns, \n",
    "                            name='Weight')\n",
    "        df_2D = dimension_reduction(normalized_df, weights)   \n",
    "        \n",
    "        # Redraw the plot\n",
    "        toggle_image = hasattr(ax.dragpoint.artists[0], 'ab')\n",
    "        toggle_title = ax.dragpoint.artists[0].text.get_text() != ''\n",
    "        draw_plot(ax, \n",
    "                  df_2D, \n",
    "                  size_slider.value, \n",
    "                  toggle_title, \n",
    "                  toggle_image)\n",
    "        ax.figure.canvas.draw()\n",
    "\n",
    "    apply_button.on_click(apply_button_clicked)\n",
    "\n",
    "    return apply_button\n",
    "\n",
    "\n",
    "def create_reset_button(sliders, size_slider, ax, normalized_df):\n",
    "    '''\n",
    "    Function to generate the button to reset the plot.\n",
    "    \n",
    "    Parameters:\n",
    "    -----------\n",
    "    sliders - [list?] of sliders/features.\n",
    "    size_slider -\n",
    "    ax - Axes of plot\n",
    "    normalized_df - Normalized DataFrame of image data?\n",
    "\n",
    "    Returns:\n",
    "    --------\n",
    "    reset_button - Button (widget) to reset the plot to original.\n",
    "    \n",
    "    '''  \n",
    "    \"\"\"\n",
    "    @return[button]: return reset plot button  \n",
    "    \"\"\"  \n",
    "    #no need to pass df_2D since it's redefined before use\n",
    "    reset_button = widgets.Button(description = 'Reset Plot', \n",
    "                                  style = ButtonStyle(button_color = 'salmon'))\n",
    "    \n",
    "    def reset_button_clicked():             #removed the input (change) that isn't used\n",
    "        for s in sliders:\n",
    "            s.value = init_weight            \n",
    "        #global weights, df_2D, normalized_df   # Update weights and df_2D globals -- remove global\n",
    "        weights = pd.Series(init_weight, \n",
    "                            index = normalized_df.columns, \n",
    "                            name = \"Weight\")\n",
    "        df_2D = dimension_reduction(normalized_df, weights)   \n",
    "        toggle_image = hasattr(ax.dragpoint.artists[0], 'ab')\n",
    "        toggle_title = ax.dragpoint.artists[0].text.get_text() != ''\n",
    "\n",
    "        # Redraw the plot\n",
    "        draw_plot(ax, \n",
    "                  df_2D, \n",
    "                  size_slider.value, \n",
    "                  toggle_title, \n",
    "                  toggle_image)\n",
    "        ax.figure.canvas.draw()\n",
    "\n",
    "    reset_button.on_click(reset_button_clicked)\n",
    "\n",
    "    return reset_button\n",
    "\n",
    "def create_inverse_button(sliders, ax, normalized_df):\n",
    "    #removed size_slider and fig_show = False, as they are not used\n",
    "    '''\n",
    "    Generates button to call function to rebalance the weights based on the moved images when the inverse button is clicked\n",
    "\n",
    "    Parameters:\n",
    "    -----------\n",
    "    sliders - [list?] of sliders/features.\n",
    "    ax - Axes of plot\n",
    "    normalized_df - Normalized DataFrame of image data?\n",
    "\n",
    "    Returns:\n",
    "    --------\n",
    "    inverse_button - Button (widget) to recalculate weights based on the reorganized images in plot.\n",
    "        \n",
    "    '''\n",
    "    \"\"\"\n",
    "    @return[button]: return 'Learn New Weights' and 'Update Projections' buttons\n",
    "    \"\"\"\n",
    "#why passing unused variables?\n",
    "\n",
    "    inverse_button = widgets.Button(description = 'Apply Moved Observations',\n",
    "                                        style = ButtonStyle(button_color = 'darkseagreen'), \n",
    "                                        layout = Layout(width='22.7%'))\n",
    "#     copy_button = widgets.Button(description='Update Projections',\n",
    "#                                  style=ButtonStyle(button_color='darkseagreen'))\n",
    "\n",
    "    def inverse_button_clicked(): #removed the input (change) that isn't used\n",
    "        '''\n",
    "        Calls inverse_DR to rebalance the weights based on the moved images when the inverse button is clicked.\n",
    "        Only does so if at least 2 points moved\n",
    "        Sets new weights of sliders at end\n",
    "        \n",
    "        '''\n",
    "\n",
    "        # Check number of points moved\n",
    "        n = sum([i.selected for i in ax.dragpoint.artists])\n",
    "        if n < 2:\n",
    "            print('Need to select or move at least 2 points in the plot first.')\n",
    "            return\n",
    "\n",
    "        # Get selected data points\n",
    "        data2Dnew = pd.DataFrame([c.center for c in ax.dragpoint.artists if c.selected], \n",
    "                                    columns = ['x','y'], \n",
    "                                    index = [c.label for c in ax.dragpoint.artists if c.selected]) \n",
    "        #global normalized_df\n",
    "        dataHDpart = normalized_df.loc[data2Dnew.index]\n",
    "\n",
    "        # Learn new weights\n",
    "        #global weights\n",
    "        weights = inverse_DR(dataHDpart, data2Dnew)\n",
    "        \n",
    "        #set sliders' new weights\n",
    "        for i,s in enumerate(sliders):\n",
    "            s.value = weights[i]\n",
    "\n",
    "    inverse_button.on_click(inverse_button_clicked)\n",
    "        \n",
    "    return inverse_button"
   ]
  },
  {
   "cell_type": "markdown",
   "metadata": {},
   "source": [
    "## Make Plot"
   ]
  },
  {
   "cell_type": "code",
   "execution_count": 16,
   "metadata": {
    "scrolled": false
   },
   "outputs": [
    {
     "data": {
      "application/javascript": "/* Put everything inside the global mpl namespace */\n/* global mpl */\nwindow.mpl = {};\n\nmpl.get_websocket_type = function () {\n    if (typeof WebSocket !== 'undefined') {\n        return WebSocket;\n    } else if (typeof MozWebSocket !== 'undefined') {\n        return MozWebSocket;\n    } else {\n        alert(\n            'Your browser does not have WebSocket support. ' +\n                'Please try Chrome, Safari or Firefox ≥ 6. ' +\n                'Firefox 4 and 5 are also supported but you ' +\n                'have to enable WebSockets in about:config.'\n        );\n    }\n};\n\nmpl.figure = function (figure_id, websocket, ondownload, parent_element) {\n    this.id = figure_id;\n\n    this.ws = websocket;\n\n    this.supports_binary = this.ws.binaryType !== undefined;\n\n    if (!this.supports_binary) {\n        var warnings = document.getElementById('mpl-warnings');\n        if (warnings) {\n            warnings.style.display = 'block';\n            warnings.textContent =\n                'This browser does not support binary websocket messages. ' +\n                'Performance may be slow.';\n        }\n    }\n\n    this.imageObj = new Image();\n\n    this.context = undefined;\n    this.message = undefined;\n    this.canvas = undefined;\n    this.rubberband_canvas = undefined;\n    this.rubberband_context = undefined;\n    this.format_dropdown = undefined;\n\n    this.image_mode = 'full';\n\n    this.root = document.createElement('div');\n    this.root.setAttribute('style', 'display: inline-block');\n    this._root_extra_style(this.root);\n\n    parent_element.appendChild(this.root);\n\n    this._init_header(this);\n    this._init_canvas(this);\n    this._init_toolbar(this);\n\n    var fig = this;\n\n    this.waiting = false;\n\n    this.ws.onopen = function () {\n        fig.send_message('supports_binary', { value: fig.supports_binary });\n        fig.send_message('send_image_mode', {});\n        if (fig.ratio !== 1) {\n            fig.send_message('set_device_pixel_ratio', {\n                device_pixel_ratio: fig.ratio,\n            });\n        }\n        fig.send_message('refresh', {});\n    };\n\n    this.imageObj.onload = function () {\n        if (fig.image_mode === 'full') {\n            // Full images could contain transparency (where diff images\n            // almost always do), so we need to clear the canvas so that\n            // there is no ghosting.\n            fig.context.clearRect(0, 0, fig.canvas.width, fig.canvas.height);\n        }\n        fig.context.drawImage(fig.imageObj, 0, 0);\n    };\n\n    this.imageObj.onunload = function () {\n        fig.ws.close();\n    };\n\n    this.ws.onmessage = this._make_on_message_function(this);\n\n    this.ondownload = ondownload;\n};\n\nmpl.figure.prototype._init_header = function () {\n    var titlebar = document.createElement('div');\n    titlebar.classList =\n        'ui-dialog-titlebar ui-widget-header ui-corner-all ui-helper-clearfix';\n    var titletext = document.createElement('div');\n    titletext.classList = 'ui-dialog-title';\n    titletext.setAttribute(\n        'style',\n        'width: 100%; text-align: center; padding: 3px;'\n    );\n    titlebar.appendChild(titletext);\n    this.root.appendChild(titlebar);\n    this.header = titletext;\n};\n\nmpl.figure.prototype._canvas_extra_style = function (_canvas_div) {};\n\nmpl.figure.prototype._root_extra_style = function (_canvas_div) {};\n\nmpl.figure.prototype._init_canvas = function () {\n    var fig = this;\n\n    var canvas_div = (this.canvas_div = document.createElement('div'));\n    canvas_div.setAttribute('tabindex', '0');\n    canvas_div.setAttribute(\n        'style',\n        'border: 1px solid #ddd;' +\n            'box-sizing: content-box;' +\n            'clear: both;' +\n            'min-height: 1px;' +\n            'min-width: 1px;' +\n            'outline: 0;' +\n            'overflow: hidden;' +\n            'position: relative;' +\n            'resize: both;' +\n            'z-index: 2;'\n    );\n\n    function on_keyboard_event_closure(name) {\n        return function (event) {\n            return fig.key_event(event, name);\n        };\n    }\n\n    canvas_div.addEventListener(\n        'keydown',\n        on_keyboard_event_closure('key_press')\n    );\n    canvas_div.addEventListener(\n        'keyup',\n        on_keyboard_event_closure('key_release')\n    );\n\n    this._canvas_extra_style(canvas_div);\n    this.root.appendChild(canvas_div);\n\n    var canvas = (this.canvas = document.createElement('canvas'));\n    canvas.classList.add('mpl-canvas');\n    canvas.setAttribute(\n        'style',\n        'box-sizing: content-box;' +\n            'pointer-events: none;' +\n            'position: relative;' +\n            'z-index: 0;'\n    );\n\n    this.context = canvas.getContext('2d');\n\n    var backingStore =\n        this.context.backingStorePixelRatio ||\n        this.context.webkitBackingStorePixelRatio ||\n        this.context.mozBackingStorePixelRatio ||\n        this.context.msBackingStorePixelRatio ||\n        this.context.oBackingStorePixelRatio ||\n        this.context.backingStorePixelRatio ||\n        1;\n\n    this.ratio = (window.devicePixelRatio || 1) / backingStore;\n\n    var rubberband_canvas = (this.rubberband_canvas = document.createElement(\n        'canvas'\n    ));\n    rubberband_canvas.setAttribute(\n        'style',\n        'box-sizing: content-box;' +\n            'left: 0;' +\n            'pointer-events: none;' +\n            'position: absolute;' +\n            'top: 0;' +\n            'z-index: 1;'\n    );\n\n    // Apply a ponyfill if ResizeObserver is not implemented by browser.\n    if (this.ResizeObserver === undefined) {\n        if (window.ResizeObserver !== undefined) {\n            this.ResizeObserver = window.ResizeObserver;\n        } else {\n            var obs = _JSXTOOLS_RESIZE_OBSERVER({});\n            this.ResizeObserver = obs.ResizeObserver;\n        }\n    }\n\n    this.resizeObserverInstance = new this.ResizeObserver(function (entries) {\n        var nentries = entries.length;\n        for (var i = 0; i < nentries; i++) {\n            var entry = entries[i];\n            var width, height;\n            if (entry.contentBoxSize) {\n                if (entry.contentBoxSize instanceof Array) {\n                    // Chrome 84 implements new version of spec.\n                    width = entry.contentBoxSize[0].inlineSize;\n                    height = entry.contentBoxSize[0].blockSize;\n                } else {\n                    // Firefox implements old version of spec.\n                    width = entry.contentBoxSize.inlineSize;\n                    height = entry.contentBoxSize.blockSize;\n                }\n            } else {\n                // Chrome <84 implements even older version of spec.\n                width = entry.contentRect.width;\n                height = entry.contentRect.height;\n            }\n\n            // Keep the size of the canvas and rubber band canvas in sync with\n            // the canvas container.\n            if (entry.devicePixelContentBoxSize) {\n                // Chrome 84 implements new version of spec.\n                canvas.setAttribute(\n                    'width',\n                    entry.devicePixelContentBoxSize[0].inlineSize\n                );\n                canvas.setAttribute(\n                    'height',\n                    entry.devicePixelContentBoxSize[0].blockSize\n                );\n            } else {\n                canvas.setAttribute('width', width * fig.ratio);\n                canvas.setAttribute('height', height * fig.ratio);\n            }\n            /* This rescales the canvas back to display pixels, so that it\n             * appears correct on HiDPI screens. */\n            canvas.style.width = width + 'px';\n            canvas.style.height = height + 'px';\n\n            rubberband_canvas.setAttribute('width', width);\n            rubberband_canvas.setAttribute('height', height);\n\n            // And update the size in Python. We ignore the initial 0/0 size\n            // that occurs as the element is placed into the DOM, which should\n            // otherwise not happen due to the minimum size styling.\n            if (fig.ws.readyState == 1 && width != 0 && height != 0) {\n                fig.request_resize(width, height);\n            }\n        }\n    });\n    this.resizeObserverInstance.observe(canvas_div);\n\n    function on_mouse_event_closure(name) {\n        /* User Agent sniffing is bad, but WebKit is busted:\n         * https://bugs.webkit.org/show_bug.cgi?id=144526\n         * https://bugs.webkit.org/show_bug.cgi?id=181818\n         * The worst that happens here is that they get an extra browser\n         * selection when dragging, if this check fails to catch them.\n         */\n        var UA = navigator.userAgent;\n        var isWebKit = /AppleWebKit/.test(UA) && !/Chrome/.test(UA);\n        if(isWebKit) {\n            return function (event) {\n                /* This prevents the web browser from automatically changing to\n                 * the text insertion cursor when the button is pressed. We\n                 * want to control all of the cursor setting manually through\n                 * the 'cursor' event from matplotlib */\n                event.preventDefault()\n                return fig.mouse_event(event, name);\n            };\n        } else {\n            return function (event) {\n                return fig.mouse_event(event, name);\n            };\n        }\n    }\n\n    canvas_div.addEventListener(\n        'mousedown',\n        on_mouse_event_closure('button_press')\n    );\n    canvas_div.addEventListener(\n        'mouseup',\n        on_mouse_event_closure('button_release')\n    );\n    canvas_div.addEventListener(\n        'dblclick',\n        on_mouse_event_closure('dblclick')\n    );\n    // Throttle sequential mouse events to 1 every 20ms.\n    canvas_div.addEventListener(\n        'mousemove',\n        on_mouse_event_closure('motion_notify')\n    );\n\n    canvas_div.addEventListener(\n        'mouseenter',\n        on_mouse_event_closure('figure_enter')\n    );\n    canvas_div.addEventListener(\n        'mouseleave',\n        on_mouse_event_closure('figure_leave')\n    );\n\n    canvas_div.addEventListener('wheel', function (event) {\n        if (event.deltaY < 0) {\n            event.step = 1;\n        } else {\n            event.step = -1;\n        }\n        on_mouse_event_closure('scroll')(event);\n    });\n\n    canvas_div.appendChild(canvas);\n    canvas_div.appendChild(rubberband_canvas);\n\n    this.rubberband_context = rubberband_canvas.getContext('2d');\n    this.rubberband_context.strokeStyle = '#000000';\n\n    this._resize_canvas = function (width, height, forward) {\n        if (forward) {\n            canvas_div.style.width = width + 'px';\n            canvas_div.style.height = height + 'px';\n        }\n    };\n\n    // Disable right mouse context menu.\n    canvas_div.addEventListener('contextmenu', function (_e) {\n        event.preventDefault();\n        return false;\n    });\n\n    function set_focus() {\n        canvas.focus();\n        canvas_div.focus();\n    }\n\n    window.setTimeout(set_focus, 100);\n};\n\nmpl.figure.prototype._init_toolbar = function () {\n    var fig = this;\n\n    var toolbar = document.createElement('div');\n    toolbar.classList = 'mpl-toolbar';\n    this.root.appendChild(toolbar);\n\n    function on_click_closure(name) {\n        return function (_event) {\n            return fig.toolbar_button_onclick(name);\n        };\n    }\n\n    function on_mouseover_closure(tooltip) {\n        return function (event) {\n            if (!event.currentTarget.disabled) {\n                return fig.toolbar_button_onmouseover(tooltip);\n            }\n        };\n    }\n\n    fig.buttons = {};\n    var buttonGroup = document.createElement('div');\n    buttonGroup.classList = 'mpl-button-group';\n    for (var toolbar_ind in mpl.toolbar_items) {\n        var name = mpl.toolbar_items[toolbar_ind][0];\n        var tooltip = mpl.toolbar_items[toolbar_ind][1];\n        var image = mpl.toolbar_items[toolbar_ind][2];\n        var method_name = mpl.toolbar_items[toolbar_ind][3];\n\n        if (!name) {\n            /* Instead of a spacer, we start a new button group. */\n            if (buttonGroup.hasChildNodes()) {\n                toolbar.appendChild(buttonGroup);\n            }\n            buttonGroup = document.createElement('div');\n            buttonGroup.classList = 'mpl-button-group';\n            continue;\n        }\n\n        var button = (fig.buttons[name] = document.createElement('button'));\n        button.classList = 'mpl-widget';\n        button.setAttribute('role', 'button');\n        button.setAttribute('aria-disabled', 'false');\n        button.addEventListener('click', on_click_closure(method_name));\n        button.addEventListener('mouseover', on_mouseover_closure(tooltip));\n\n        var icon_img = document.createElement('img');\n        icon_img.src = '_images/' + image + '.png';\n        icon_img.srcset = '_images/' + image + '_large.png 2x';\n        icon_img.alt = tooltip;\n        button.appendChild(icon_img);\n\n        buttonGroup.appendChild(button);\n    }\n\n    if (buttonGroup.hasChildNodes()) {\n        toolbar.appendChild(buttonGroup);\n    }\n\n    var fmt_picker = document.createElement('select');\n    fmt_picker.classList = 'mpl-widget';\n    toolbar.appendChild(fmt_picker);\n    this.format_dropdown = fmt_picker;\n\n    for (var ind in mpl.extensions) {\n        var fmt = mpl.extensions[ind];\n        var option = document.createElement('option');\n        option.selected = fmt === mpl.default_extension;\n        option.innerHTML = fmt;\n        fmt_picker.appendChild(option);\n    }\n\n    var status_bar = document.createElement('span');\n    status_bar.classList = 'mpl-message';\n    toolbar.appendChild(status_bar);\n    this.message = status_bar;\n};\n\nmpl.figure.prototype.request_resize = function (x_pixels, y_pixels) {\n    // Request matplotlib to resize the figure. Matplotlib will then trigger a resize in the client,\n    // which will in turn request a refresh of the image.\n    this.send_message('resize', { width: x_pixels, height: y_pixels });\n};\n\nmpl.figure.prototype.send_message = function (type, properties) {\n    properties['type'] = type;\n    properties['figure_id'] = this.id;\n    this.ws.send(JSON.stringify(properties));\n};\n\nmpl.figure.prototype.send_draw_message = function () {\n    if (!this.waiting) {\n        this.waiting = true;\n        this.ws.send(JSON.stringify({ type: 'draw', figure_id: this.id }));\n    }\n};\n\nmpl.figure.prototype.handle_save = function (fig, _msg) {\n    var format_dropdown = fig.format_dropdown;\n    var format = format_dropdown.options[format_dropdown.selectedIndex].value;\n    fig.ondownload(fig, format);\n};\n\nmpl.figure.prototype.handle_resize = function (fig, msg) {\n    var size = msg['size'];\n    if (size[0] !== fig.canvas.width || size[1] !== fig.canvas.height) {\n        fig._resize_canvas(size[0], size[1], msg['forward']);\n        fig.send_message('refresh', {});\n    }\n};\n\nmpl.figure.prototype.handle_rubberband = function (fig, msg) {\n    var x0 = msg['x0'] / fig.ratio;\n    var y0 = (fig.canvas.height - msg['y0']) / fig.ratio;\n    var x1 = msg['x1'] / fig.ratio;\n    var y1 = (fig.canvas.height - msg['y1']) / fig.ratio;\n    x0 = Math.floor(x0) + 0.5;\n    y0 = Math.floor(y0) + 0.5;\n    x1 = Math.floor(x1) + 0.5;\n    y1 = Math.floor(y1) + 0.5;\n    var min_x = Math.min(x0, x1);\n    var min_y = Math.min(y0, y1);\n    var width = Math.abs(x1 - x0);\n    var height = Math.abs(y1 - y0);\n\n    fig.rubberband_context.clearRect(\n        0,\n        0,\n        fig.canvas.width / fig.ratio,\n        fig.canvas.height / fig.ratio\n    );\n\n    fig.rubberband_context.strokeRect(min_x, min_y, width, height);\n};\n\nmpl.figure.prototype.handle_figure_label = function (fig, msg) {\n    // Updates the figure title.\n    fig.header.textContent = msg['label'];\n};\n\nmpl.figure.prototype.handle_cursor = function (fig, msg) {\n    fig.canvas_div.style.cursor = msg['cursor'];\n};\n\nmpl.figure.prototype.handle_message = function (fig, msg) {\n    fig.message.textContent = msg['message'];\n};\n\nmpl.figure.prototype.handle_draw = function (fig, _msg) {\n    // Request the server to send over a new figure.\n    fig.send_draw_message();\n};\n\nmpl.figure.prototype.handle_image_mode = function (fig, msg) {\n    fig.image_mode = msg['mode'];\n};\n\nmpl.figure.prototype.handle_history_buttons = function (fig, msg) {\n    for (var key in msg) {\n        if (!(key in fig.buttons)) {\n            continue;\n        }\n        fig.buttons[key].disabled = !msg[key];\n        fig.buttons[key].setAttribute('aria-disabled', !msg[key]);\n    }\n};\n\nmpl.figure.prototype.handle_navigate_mode = function (fig, msg) {\n    if (msg['mode'] === 'PAN') {\n        fig.buttons['Pan'].classList.add('active');\n        fig.buttons['Zoom'].classList.remove('active');\n    } else if (msg['mode'] === 'ZOOM') {\n        fig.buttons['Pan'].classList.remove('active');\n        fig.buttons['Zoom'].classList.add('active');\n    } else {\n        fig.buttons['Pan'].classList.remove('active');\n        fig.buttons['Zoom'].classList.remove('active');\n    }\n};\n\nmpl.figure.prototype.updated_canvas_event = function () {\n    // Called whenever the canvas gets updated.\n    this.send_message('ack', {});\n};\n\n// A function to construct a web socket function for onmessage handling.\n// Called in the figure constructor.\nmpl.figure.prototype._make_on_message_function = function (fig) {\n    return function socket_on_message(evt) {\n        if (evt.data instanceof Blob) {\n            var img = evt.data;\n            if (img.type !== 'image/png') {\n                /* FIXME: We get \"Resource interpreted as Image but\n                 * transferred with MIME type text/plain:\" errors on\n                 * Chrome.  But how to set the MIME type?  It doesn't seem\n                 * to be part of the websocket stream */\n                img.type = 'image/png';\n            }\n\n            /* Free the memory for the previous frames */\n            if (fig.imageObj.src) {\n                (window.URL || window.webkitURL).revokeObjectURL(\n                    fig.imageObj.src\n                );\n            }\n\n            fig.imageObj.src = (window.URL || window.webkitURL).createObjectURL(\n                img\n            );\n            fig.updated_canvas_event();\n            fig.waiting = false;\n            return;\n        } else if (\n            typeof evt.data === 'string' &&\n            evt.data.slice(0, 21) === 'data:image/png;base64'\n        ) {\n            fig.imageObj.src = evt.data;\n            fig.updated_canvas_event();\n            fig.waiting = false;\n            return;\n        }\n\n        var msg = JSON.parse(evt.data);\n        var msg_type = msg['type'];\n\n        // Call the  \"handle_{type}\" callback, which takes\n        // the figure and JSON message as its only arguments.\n        try {\n            var callback = fig['handle_' + msg_type];\n        } catch (e) {\n            console.log(\n                \"No handler for the '\" + msg_type + \"' message type: \",\n                msg\n            );\n            return;\n        }\n\n        if (callback) {\n            try {\n                // console.log(\"Handling '\" + msg_type + \"' message: \", msg);\n                callback(fig, msg);\n            } catch (e) {\n                console.log(\n                    \"Exception inside the 'handler_\" + msg_type + \"' callback:\",\n                    e,\n                    e.stack,\n                    msg\n                );\n            }\n        }\n    };\n};\n\nfunction getModifiers(event) {\n    var mods = [];\n    if (event.ctrlKey) {\n        mods.push('ctrl');\n    }\n    if (event.altKey) {\n        mods.push('alt');\n    }\n    if (event.shiftKey) {\n        mods.push('shift');\n    }\n    if (event.metaKey) {\n        mods.push('meta');\n    }\n    return mods;\n}\n\n/*\n * return a copy of an object with only non-object keys\n * we need this to avoid circular references\n * https://stackoverflow.com/a/24161582/3208463\n */\nfunction simpleKeys(original) {\n    return Object.keys(original).reduce(function (obj, key) {\n        if (typeof original[key] !== 'object') {\n            obj[key] = original[key];\n        }\n        return obj;\n    }, {});\n}\n\nmpl.figure.prototype.mouse_event = function (event, name) {\n    if (name === 'button_press') {\n        this.canvas.focus();\n        this.canvas_div.focus();\n    }\n\n    // from https://stackoverflow.com/q/1114465\n    var boundingRect = this.canvas.getBoundingClientRect();\n    var x = (event.clientX - boundingRect.left) * this.ratio;\n    var y = (event.clientY - boundingRect.top) * this.ratio;\n\n    this.send_message(name, {\n        x: x,\n        y: y,\n        button: event.button,\n        step: event.step,\n        modifiers: getModifiers(event),\n        guiEvent: simpleKeys(event),\n    });\n\n    return false;\n};\n\nmpl.figure.prototype._key_event_extra = function (_event, _name) {\n    // Handle any extra behaviour associated with a key event\n};\n\nmpl.figure.prototype.key_event = function (event, name) {\n    // Prevent repeat events\n    if (name === 'key_press') {\n        if (event.key === this._key) {\n            return;\n        } else {\n            this._key = event.key;\n        }\n    }\n    if (name === 'key_release') {\n        this._key = null;\n    }\n\n    var value = '';\n    if (event.ctrlKey && event.key !== 'Control') {\n        value += 'ctrl+';\n    }\n    else if (event.altKey && event.key !== 'Alt') {\n        value += 'alt+';\n    }\n    else if (event.shiftKey && event.key !== 'Shift') {\n        value += 'shift+';\n    }\n\n    value += 'k' + event.key;\n\n    this._key_event_extra(event, name);\n\n    this.send_message(name, { key: value, guiEvent: simpleKeys(event) });\n    return false;\n};\n\nmpl.figure.prototype.toolbar_button_onclick = function (name) {\n    if (name === 'download') {\n        this.handle_save(this, null);\n    } else {\n        this.send_message('toolbar_button', { name: name });\n    }\n};\n\nmpl.figure.prototype.toolbar_button_onmouseover = function (tooltip) {\n    this.message.textContent = tooltip;\n};\n\n///////////////// REMAINING CONTENT GENERATED BY embed_js.py /////////////////\n// prettier-ignore\nvar _JSXTOOLS_RESIZE_OBSERVER=function(A){var t,i=new WeakMap,n=new WeakMap,a=new WeakMap,r=new WeakMap,o=new Set;function s(e){if(!(this instanceof s))throw new TypeError(\"Constructor requires 'new' operator\");i.set(this,e)}function h(){throw new TypeError(\"Function is not a constructor\")}function c(e,t,i,n){e=0 in arguments?Number(arguments[0]):0,t=1 in arguments?Number(arguments[1]):0,i=2 in arguments?Number(arguments[2]):0,n=3 in arguments?Number(arguments[3]):0,this.right=(this.x=this.left=e)+(this.width=i),this.bottom=(this.y=this.top=t)+(this.height=n),Object.freeze(this)}function d(){t=requestAnimationFrame(d);var s=new WeakMap,p=new Set;o.forEach((function(t){r.get(t).forEach((function(i){var r=t instanceof window.SVGElement,o=a.get(t),d=r?0:parseFloat(o.paddingTop),f=r?0:parseFloat(o.paddingRight),l=r?0:parseFloat(o.paddingBottom),u=r?0:parseFloat(o.paddingLeft),g=r?0:parseFloat(o.borderTopWidth),m=r?0:parseFloat(o.borderRightWidth),w=r?0:parseFloat(o.borderBottomWidth),b=u+f,F=d+l,v=(r?0:parseFloat(o.borderLeftWidth))+m,W=g+w,y=r?0:t.offsetHeight-W-t.clientHeight,E=r?0:t.offsetWidth-v-t.clientWidth,R=b+v,z=F+W,M=r?t.width:parseFloat(o.width)-R-E,O=r?t.height:parseFloat(o.height)-z-y;if(n.has(t)){var k=n.get(t);if(k[0]===M&&k[1]===O)return}n.set(t,[M,O]);var S=Object.create(h.prototype);S.target=t,S.contentRect=new c(u,d,M,O),s.has(i)||(s.set(i,[]),p.add(i)),s.get(i).push(S)}))})),p.forEach((function(e){i.get(e).call(e,s.get(e),e)}))}return s.prototype.observe=function(i){if(i instanceof window.Element){r.has(i)||(r.set(i,new Set),o.add(i),a.set(i,window.getComputedStyle(i)));var n=r.get(i);n.has(this)||n.add(this),cancelAnimationFrame(t),t=requestAnimationFrame(d)}},s.prototype.unobserve=function(i){if(i instanceof window.Element&&r.has(i)){var n=r.get(i);n.has(this)&&(n.delete(this),n.size||(r.delete(i),o.delete(i))),n.size||r.delete(i),o.size||cancelAnimationFrame(t)}},A.DOMRectReadOnly=c,A.ResizeObserver=s,A.ResizeObserverEntry=h,A}; // eslint-disable-line\nmpl.toolbar_items = [[\"Home\", \"Reset original view\", \"fa fa-home\", \"home\"], [\"Back\", \"Back to previous view\", \"fa fa-arrow-left\", \"back\"], [\"Forward\", \"Forward to next view\", \"fa fa-arrow-right\", \"forward\"], [\"\", \"\", \"\", \"\"], [\"Pan\", \"Left button pans, Right button zooms\\nx/y fixes axis, CTRL fixes aspect\", \"fa fa-arrows\", \"pan\"], [\"Zoom\", \"Zoom to rectangle\\nx/y fixes axis\", \"fa fa-square-o\", \"zoom\"], [\"\", \"\", \"\", \"\"], [\"Download\", \"Download plot\", \"fa fa-floppy-o\", \"download\"]];\n\nmpl.extensions = [\"eps\", \"jpeg\", \"pgf\", \"pdf\", \"png\", \"ps\", \"raw\", \"svg\", \"tif\", \"webp\"];\n\nmpl.default_extension = \"png\";/* global mpl */\n\nvar comm_websocket_adapter = function (comm) {\n    // Create a \"websocket\"-like object which calls the given IPython comm\n    // object with the appropriate methods. Currently this is a non binary\n    // socket, so there is still some room for performance tuning.\n    var ws = {};\n\n    ws.binaryType = comm.kernel.ws.binaryType;\n    ws.readyState = comm.kernel.ws.readyState;\n    function updateReadyState(_event) {\n        if (comm.kernel.ws) {\n            ws.readyState = comm.kernel.ws.readyState;\n        } else {\n            ws.readyState = 3; // Closed state.\n        }\n    }\n    comm.kernel.ws.addEventListener('open', updateReadyState);\n    comm.kernel.ws.addEventListener('close', updateReadyState);\n    comm.kernel.ws.addEventListener('error', updateReadyState);\n\n    ws.close = function () {\n        comm.close();\n    };\n    ws.send = function (m) {\n        //console.log('sending', m);\n        comm.send(m);\n    };\n    // Register the callback with on_msg.\n    comm.on_msg(function (msg) {\n        //console.log('receiving', msg['content']['data'], msg);\n        var data = msg['content']['data'];\n        if (data['blob'] !== undefined) {\n            data = {\n                data: new Blob(msg['buffers'], { type: data['blob'] }),\n            };\n        }\n        // Pass the mpl event to the overridden (by mpl) onmessage function.\n        ws.onmessage(data);\n    });\n    return ws;\n};\n\nmpl.mpl_figure_comm = function (comm, msg) {\n    // This is the function which gets called when the mpl process\n    // starts-up an IPython Comm through the \"matplotlib\" channel.\n\n    var id = msg.content.data.id;\n    // Get hold of the div created by the display call when the Comm\n    // socket was opened in Python.\n    var element = document.getElementById(id);\n    var ws_proxy = comm_websocket_adapter(comm);\n\n    function ondownload(figure, _format) {\n        window.open(figure.canvas.toDataURL());\n    }\n\n    var fig = new mpl.figure(id, ws_proxy, ondownload, element);\n\n    // Call onopen now - mpl needs it, as it is assuming we've passed it a real\n    // web socket which is closed, not our websocket->open comm proxy.\n    ws_proxy.onopen();\n\n    fig.parent_element = element;\n    fig.cell_info = mpl.find_output_cell(\"<div id='\" + id + \"'></div>\");\n    if (!fig.cell_info) {\n        console.error('Failed to find cell for figure', id, fig);\n        return;\n    }\n    fig.cell_info[0].output_area.element.on(\n        'cleared',\n        { fig: fig },\n        fig._remove_fig_handler\n    );\n};\n\nmpl.figure.prototype.handle_close = function (fig, msg) {\n    var width = fig.canvas.width / fig.ratio;\n    fig.cell_info[0].output_area.element.off(\n        'cleared',\n        fig._remove_fig_handler\n    );\n    fig.resizeObserverInstance.unobserve(fig.canvas_div);\n\n    // Update the output cell to use the data from the current canvas.\n    fig.push_to_output();\n    var dataURL = fig.canvas.toDataURL();\n    // Re-enable the keyboard manager in IPython - without this line, in FF,\n    // the notebook keyboard shortcuts fail.\n    IPython.keyboard_manager.enable();\n    fig.parent_element.innerHTML =\n        '<img src=\"' + dataURL + '\" width=\"' + width + '\">';\n    fig.close_ws(fig, msg);\n};\n\nmpl.figure.prototype.close_ws = function (fig, msg) {\n    fig.send_message('closing', msg);\n    // fig.ws.close()\n};\n\nmpl.figure.prototype.push_to_output = function (_remove_interactive) {\n    // Turn the data on the canvas into data in the output cell.\n    var width = this.canvas.width / this.ratio;\n    var dataURL = this.canvas.toDataURL();\n    this.cell_info[1]['text/html'] =\n        '<img src=\"' + dataURL + '\" width=\"' + width + '\">';\n};\n\nmpl.figure.prototype.updated_canvas_event = function () {\n    // Tell IPython that the notebook contents must change.\n    IPython.notebook.set_dirty(true);\n    this.send_message('ack', {});\n    var fig = this;\n    // Wait a second, then push the new image to the DOM so\n    // that it is saved nicely (might be nice to debounce this).\n    setTimeout(function () {\n        fig.push_to_output();\n    }, 1000);\n};\n\nmpl.figure.prototype._init_toolbar = function () {\n    var fig = this;\n\n    var toolbar = document.createElement('div');\n    toolbar.classList = 'btn-toolbar';\n    this.root.appendChild(toolbar);\n\n    function on_click_closure(name) {\n        return function (_event) {\n            return fig.toolbar_button_onclick(name);\n        };\n    }\n\n    function on_mouseover_closure(tooltip) {\n        return function (event) {\n            if (!event.currentTarget.disabled) {\n                return fig.toolbar_button_onmouseover(tooltip);\n            }\n        };\n    }\n\n    fig.buttons = {};\n    var buttonGroup = document.createElement('div');\n    buttonGroup.classList = 'btn-group';\n    var button;\n    for (var toolbar_ind in mpl.toolbar_items) {\n        var name = mpl.toolbar_items[toolbar_ind][0];\n        var tooltip = mpl.toolbar_items[toolbar_ind][1];\n        var image = mpl.toolbar_items[toolbar_ind][2];\n        var method_name = mpl.toolbar_items[toolbar_ind][3];\n\n        if (!name) {\n            /* Instead of a spacer, we start a new button group. */\n            if (buttonGroup.hasChildNodes()) {\n                toolbar.appendChild(buttonGroup);\n            }\n            buttonGroup = document.createElement('div');\n            buttonGroup.classList = 'btn-group';\n            continue;\n        }\n\n        button = fig.buttons[name] = document.createElement('button');\n        button.classList = 'btn btn-default';\n        button.href = '#';\n        button.title = name;\n        button.innerHTML = '<i class=\"fa ' + image + ' fa-lg\"></i>';\n        button.addEventListener('click', on_click_closure(method_name));\n        button.addEventListener('mouseover', on_mouseover_closure(tooltip));\n        buttonGroup.appendChild(button);\n    }\n\n    if (buttonGroup.hasChildNodes()) {\n        toolbar.appendChild(buttonGroup);\n    }\n\n    // Add the status bar.\n    var status_bar = document.createElement('span');\n    status_bar.classList = 'mpl-message pull-right';\n    toolbar.appendChild(status_bar);\n    this.message = status_bar;\n\n    // Add the close button to the window.\n    var buttongrp = document.createElement('div');\n    buttongrp.classList = 'btn-group inline pull-right';\n    button = document.createElement('button');\n    button.classList = 'btn btn-mini btn-primary';\n    button.href = '#';\n    button.title = 'Stop Interaction';\n    button.innerHTML = '<i class=\"fa fa-power-off icon-remove icon-large\"></i>';\n    button.addEventListener('click', function (_evt) {\n        fig.handle_close(fig, {});\n    });\n    button.addEventListener(\n        'mouseover',\n        on_mouseover_closure('Stop Interaction')\n    );\n    buttongrp.appendChild(button);\n    var titlebar = this.root.querySelector('.ui-dialog-titlebar');\n    titlebar.insertBefore(buttongrp, titlebar.firstChild);\n};\n\nmpl.figure.prototype._remove_fig_handler = function (event) {\n    var fig = event.data.fig;\n    if (event.target !== this) {\n        // Ignore bubbled events from children.\n        return;\n    }\n    fig.close_ws(fig, {});\n};\n\nmpl.figure.prototype._root_extra_style = function (el) {\n    el.style.boxSizing = 'content-box'; // override notebook setting of border-box.\n};\n\nmpl.figure.prototype._canvas_extra_style = function (el) {\n    // this is important to make the div 'focusable\n    el.setAttribute('tabindex', 0);\n    // reach out to IPython and tell the keyboard manager to turn it's self\n    // off when our div gets focus\n\n    // location in version 3\n    if (IPython.notebook.keyboard_manager) {\n        IPython.notebook.keyboard_manager.register_events(el);\n    } else {\n        // location in version 2\n        IPython.keyboard_manager.register_events(el);\n    }\n};\n\nmpl.figure.prototype._key_event_extra = function (event, _name) {\n    // Check for shift+enter\n    if (event.shiftKey && event.which === 13) {\n        this.canvas_div.blur();\n        // select the cell after this one\n        var index = IPython.notebook.find_cell_index(this.cell_info[0]);\n        IPython.notebook.select(index + 1);\n    }\n};\n\nmpl.figure.prototype.handle_save = function (fig, _msg) {\n    fig.ondownload(fig, null);\n};\n\nmpl.find_output_cell = function (html_output) {\n    // Return the cell and output element which can be found *uniquely* in the notebook.\n    // Note - this is a bit hacky, but it is done because the \"notebook_saving.Notebook\"\n    // IPython event is triggered only after the cells have been serialised, which for\n    // our purposes (turning an active figure into a static one), is too late.\n    var cells = IPython.notebook.get_cells();\n    var ncells = cells.length;\n    for (var i = 0; i < ncells; i++) {\n        var cell = cells[i];\n        if (cell.cell_type === 'code') {\n            for (var j = 0; j < cell.output_area.outputs.length; j++) {\n                var data = cell.output_area.outputs[j];\n                if (data.data) {\n                    // IPython >= 3 moved mimebundle to data attribute of output\n                    data = data.data;\n                }\n                if (data['text/html'] === html_output) {\n                    return [cell, data, j];\n                }\n            }\n        }\n    }\n};\n\n// Register the function which deals with the matplotlib target/channel.\n// The kernel may be null if the page has been refreshed.\nif (IPython.notebook.kernel !== null) {\n    IPython.notebook.kernel.comm_manager.register_target(\n        'matplotlib',\n        mpl.mpl_figure_comm\n    );\n}\n",
      "text/plain": [
       "<IPython.core.display.Javascript object>"
      ]
     },
     "metadata": {},
     "output_type": "display_data"
    },
    {
     "data": {
      "text/html": [
       "<img src=\"data:image/png;base64,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\" width=\"480\">"
      ],
      "text/plain": [
       "<IPython.core.display.HTML object>"
      ]
     },
     "metadata": {},
     "output_type": "display_data"
    },
    {
     "name": "stdout",
     "output_type": "stream",
     "text": [
      "image true\n",
      "Axes(0.025,0.025;0.95x0.95)\n",
      "Figure(480x480)\n"
     ]
    }
   ],
   "source": [
    "if 'df_2D' in locals():\n",
    "    plot_ax = create_plot(df_2D) #, imgDisplaySize)"
   ]
  },
  {
   "cell_type": "markdown",
   "metadata": {},
   "source": [
    "## Display the widgets to adjust the plot\n",
    "\n",
    "Will likely need to connect this to the plot display to put them on the side."
   ]
  },
  {
   "cell_type": "code",
   "execution_count": 17,
   "metadata": {
    "scrolled": false
   },
   "outputs": [
    {
     "data": {
      "application/vnd.jupyter.widget-view+json": {
       "model_id": "c66121d67b7343f7a6d4a68b199a9f2f",
       "version_major": 2,
       "version_minor": 0
      },
      "text/plain": [
       "HBox(children=(Button(description='Apply Moved Observations', layout=Layout(width='22.7%'), style=ButtonStyle(…"
      ]
     },
     "metadata": {},
     "output_type": "display_data"
    },
    {
     "data": {
      "application/vnd.jupyter.widget-view+json": {
       "model_id": "d24f8a557cd44a24a828b1645bac0ca3",
       "version_major": 2,
       "version_minor": 0
      },
      "text/plain": [
       "HBox(children=(FloatSlider(value=0.3, continuous_update=False, description='Adjust image size', max=1.0, reado…"
      ]
     },
     "metadata": {},
     "output_type": "display_data"
    },
    {
     "data": {
      "application/vnd.jupyter.widget-view+json": {
       "model_id": "dbc527de86474b5091a4b89aa352dec9",
       "version_major": 2,
       "version_minor": 0
      },
      "text/plain": [
       "interactive(children=(Checkbox(value=False, description='Toggle Titles', indent=False, layout=Layout(height='2…"
      ]
     },
     "metadata": {},
     "output_type": "display_data"
    },
    {
     "data": {
      "application/vnd.jupyter.widget-view+json": {
       "model_id": "72427419b0354ee3aa7eea6601d21cd0",
       "version_major": 2,
       "version_minor": 0
      },
      "text/plain": [
       "interactive(children=(Checkbox(value=True, description='Toggle Images', indent=False, layout=Layout(height='20…"
      ]
     },
     "metadata": {},
     "output_type": "display_data"
    },
    {
     "data": {
      "application/vnd.jupyter.widget-view+json": {
       "model_id": "716c12f1f71c495fbc821ec5aa8e9ff3",
       "version_major": 2,
       "version_minor": 0
      },
      "text/plain": [
       "FloatSlider(value=1e-05, continuous_update=False, description='Long', layout=Layout(height='20px', width='80%'…"
      ]
     },
     "metadata": {},
     "output_type": "display_data"
    },
    {
     "data": {
      "application/vnd.jupyter.widget-view+json": {
       "model_id": "be2a4a754ee040b48db76cfb8c3218c2",
       "version_major": 2,
       "version_minor": 0
      },
      "text/plain": [
       "FloatSlider(value=1e-05, continuous_update=False, description='R1', layout=Layout(height='20px', width='80%'),…"
      ]
     },
     "metadata": {},
     "output_type": "display_data"
    },
    {
     "data": {
      "application/vnd.jupyter.widget-view+json": {
       "model_id": "182744d501614f2bb869c749279a9277",
       "version_major": 2,
       "version_minor": 0
      },
      "text/plain": [
       "FloatSlider(value=1e-05, continuous_update=False, description='G1', layout=Layout(height='20px', width='80%'),…"
      ]
     },
     "metadata": {},
     "output_type": "display_data"
    },
    {
     "data": {
      "application/vnd.jupyter.widget-view+json": {
       "model_id": "fcdf1658b85d4f7ebfc80c1b3c201da4",
       "version_major": 2,
       "version_minor": 0
      },
      "text/plain": [
       "FloatSlider(value=1e-05, continuous_update=False, description='B1', layout=Layout(height='20px', width='80%'),…"
      ]
     },
     "metadata": {},
     "output_type": "display_data"
    },
    {
     "data": {
      "application/vnd.jupyter.widget-view+json": {
       "model_id": "d4f797577ed742b08c32d74cefdae5d4",
       "version_major": 2,
       "version_minor": 0
      },
      "text/plain": [
       "FloatSlider(value=1e-05, continuous_update=False, description='R2', layout=Layout(height='20px', width='80%'),…"
      ]
     },
     "metadata": {},
     "output_type": "display_data"
    },
    {
     "data": {
      "application/vnd.jupyter.widget-view+json": {
       "model_id": "6da68becd96d4e1683ec89843567c68a",
       "version_major": 2,
       "version_minor": 0
      },
      "text/plain": [
       "FloatSlider(value=1e-05, continuous_update=False, description='G2', layout=Layout(height='20px', width='80%'),…"
      ]
     },
     "metadata": {},
     "output_type": "display_data"
    },
    {
     "data": {
      "application/vnd.jupyter.widget-view+json": {
       "model_id": "9cd72d47a96b4fa0b91438a122a2c576",
       "version_major": 2,
       "version_minor": 0
      },
      "text/plain": [
       "FloatSlider(value=1e-05, continuous_update=False, description='B2', layout=Layout(height='20px', width='80%'),…"
      ]
     },
     "metadata": {},
     "output_type": "display_data"
    },
    {
     "data": {
      "application/vnd.jupyter.widget-view+json": {
       "model_id": "564fe350b79345a3af7858444eb0d1c3",
       "version_major": 2,
       "version_minor": 0
      },
      "text/plain": [
       "FloatSlider(value=1e-05, continuous_update=False, description='R3', layout=Layout(height='20px', width='80%'),…"
      ]
     },
     "metadata": {},
     "output_type": "display_data"
    },
    {
     "data": {
      "application/vnd.jupyter.widget-view+json": {
       "model_id": "603276c094c7437eafc5e059a432f13b",
       "version_major": 2,
       "version_minor": 0
      },
      "text/plain": [
       "FloatSlider(value=1e-05, continuous_update=False, description='G3', layout=Layout(height='20px', width='80%'),…"
      ]
     },
     "metadata": {},
     "output_type": "display_data"
    },
    {
     "data": {
      "application/vnd.jupyter.widget-view+json": {
       "model_id": "e07db54e5dfd442f931480fcbdab81c2",
       "version_major": 2,
       "version_minor": 0
      },
      "text/plain": [
       "FloatSlider(value=1e-05, continuous_update=False, description='B3', layout=Layout(height='20px', width='80%'),…"
      ]
     },
     "metadata": {},
     "output_type": "display_data"
    },
    {
     "data": {
      "application/vnd.jupyter.widget-view+json": {
       "model_id": "df360273fe1d4471a7419fd728e9ba9f",
       "version_major": 2,
       "version_minor": 0
      },
      "text/plain": [
       "FloatSlider(value=1e-05, continuous_update=False, description='Contour_Area', layout=Layout(height='20px', wid…"
      ]
     },
     "metadata": {},
     "output_type": "display_data"
    },
    {
     "data": {
      "application/vnd.jupyter.widget-view+json": {
       "model_id": "6591490397dc4bc1bfe9627f8eb817b7",
       "version_major": 2,
       "version_minor": 0
      },
      "text/plain": [
       "FloatSlider(value=1e-05, continuous_update=False, description='Aspect_Ratio', layout=Layout(height='20px', wid…"
      ]
     },
     "metadata": {},
     "output_type": "display_data"
    },
    {
     "data": {
      "application/vnd.jupyter.widget-view+json": {
       "model_id": "eed9dcdb7d9c43b7b35e18124bd422f5",
       "version_major": 2,
       "version_minor": 0
      },
      "text/plain": [
       "FloatSlider(value=1e-05, continuous_update=False, description='Extent', layout=Layout(height='20px', width='80…"
      ]
     },
     "metadata": {},
     "output_type": "display_data"
    },
    {
     "data": {
      "application/vnd.jupyter.widget-view+json": {
       "model_id": "2b15bfe9638e4975b81660bd2aa8bcb0",
       "version_major": 2,
       "version_minor": 0
      },
      "text/plain": [
       "FloatSlider(value=1e-05, continuous_update=False, description='Solidity', layout=Layout(height='20px', width='…"
      ]
     },
     "metadata": {},
     "output_type": "display_data"
    },
    {
     "ename": "TypeError",
     "evalue": "create_slider_buttons.<locals>.apply_button_clicked() takes 0 positional arguments but 1 was given",
     "output_type": "error",
     "traceback": [
      "\u001b[0;31m---------------------------------------------------------------------------\u001b[0m",
      "\u001b[0;31mTypeError\u001b[0m                                 Traceback (most recent call last)",
      "\u001b[0;31mTypeError\u001b[0m: create_slider_buttons.<locals>.apply_button_clicked() takes 0 positional arguments but 1 was given"
     ]
    },
    {
     "name": "stdout",
     "output_type": "stream",
     "text": [
      "False\n",
      "image true\n",
      "Axes(0.025,0.025;0.95x0.95)\n",
      "Figure(960x960)\n",
      "False {'name': '_property_lock', 'old': traitlets.Undefined, 'new': {'value': False}, 'owner': Checkbox(value=True, description='Toggle Images', indent=False, layout=Layout(height='20px', width='20%')), 'type': 'change'} <matplotlib.backends.backend_nbagg.FigureCanvasNbAgg object at 0x1611c5190> plot drawn?\n",
      "False\n",
      "image true\n",
      "Axes(0.025,0.025;0.95x0.95)\n",
      "Figure(960x960)\n",
      "False {'name': 'value', 'old': True, 'new': False, 'owner': Checkbox(value=False, description='Toggle Images', indent=False, layout=Layout(height='20px', width='20%')), 'type': 'change'} <matplotlib.backends.backend_nbagg.FigureCanvasNbAgg object at 0x1611c5190> plot drawn?\n",
      "False\n",
      "image true\n",
      "Axes(0.025,0.025;0.95x0.95)\n",
      "Figure(960x960)\n",
      "False {'name': '_property_lock', 'old': {'value': False}, 'new': {}, 'owner': Checkbox(value=False, description='Toggle Images', indent=False, layout=Layout(height='20px', width='20%')), 'type': 'change'} <matplotlib.backends.backend_nbagg.FigureCanvasNbAgg object at 0x1611c5190> plot drawn?\n",
      "False <matplotlib.backends.backend_nbagg.FigureCanvasNbAgg object at 0x1611c5190>\n",
      "not image\n",
      "Axes(0.025,0.025;0.95x0.95)\n",
      "Figure(960x960)\n",
      "False {'name': '_property_lock', 'old': traitlets.Undefined, 'new': {'value': True}, 'owner': Checkbox(value=False, description='Toggle Titles', indent=False, layout=Layout(height='20px', width='20%')), 'type': 'change'} <matplotlib.backends.backend_nbagg.FigureCanvasNbAgg object at 0x1611c5190> plot drawn?\n",
      "False <matplotlib.backends.backend_nbagg.FigureCanvasNbAgg object at 0x1611c5190>\n",
      "not image\n",
      "Axes(0.025,0.025;0.95x0.95)\n",
      "Figure(960x960)\n",
      "False {'name': 'value', 'old': False, 'new': True, 'owner': Checkbox(value=True, description='Toggle Titles', indent=False, layout=Layout(height='20px', width='20%')), 'type': 'change'} <matplotlib.backends.backend_nbagg.FigureCanvasNbAgg object at 0x1611c5190> plot drawn?\n",
      "False <matplotlib.backends.backend_nbagg.FigureCanvasNbAgg object at 0x1611c5190>\n",
      "not image\n",
      "Axes(0.025,0.025;0.95x0.95)\n",
      "Figure(960x960)\n",
      "False {'name': '_property_lock', 'old': {'value': True}, 'new': {}, 'owner': Checkbox(value=True, description='Toggle Titles', indent=False, layout=Layout(height='20px', width='20%')), 'type': 'change'} <matplotlib.backends.backend_nbagg.FigureCanvasNbAgg object at 0x1611c5190> plot drawn?\n"
     ]
    }
   ],
   "source": [
    "if 'df_2D' in locals():\n",
    "    size_slider = create_size_slider(imgDisplaySize)\n",
    "    sliders = create_sliders(weights)\n",
    "    size_apply_button = create_size_slider_button(size_slider, plot_ax, df_2D)\n",
    "\n",
    "    inverse_button = create_inverse_button(sliders, plot_ax, normalized_df)\n",
    "    display(widgets.HBox([inverse_button, create_slider_buttons(sliders, size_slider, plot_ax, normalized_df),\n",
    "                          create_reset_button(sliders, size_slider, plot_ax, normalized_df)]))\n",
    "    display(widgets.HBox([size_slider, size_apply_button]))\n",
    "\n",
    "    point_attribute = create_checkbox(size_slider, plot_ax, df_2D)\n",
    "\n",
    "    for slider in sliders:\n",
    "        slider.style.handle_color = 'lightgreen'\n",
    "        display(slider)"
   ]
  },
  {
   "cell_type": "code",
   "execution_count": 18,
   "metadata": {
    "scrolled": false
   },
   "outputs": [
    {
     "name": "stdout",
     "output_type": "stream",
     "text": [
      "image true\n",
      "Axes(0.025,0.025;0.95x0.95)\n",
      "Figure(480x480)\n"
     ]
    }
   ],
   "source": [
    "draw_plot(plot_ax, df_2D)"
   ]
  },
  {
   "cell_type": "code",
   "execution_count": null,
   "metadata": {},
   "outputs": [],
   "source": []
  }
 ],
 "metadata": {
  "kernelspec": {
   "display_name": "Python 3 (ipykernel)",
   "language": "python",
   "name": "python3"
  },
  "language_info": {
   "codemirror_mode": {
    "name": "ipython",
    "version": 3
   },
   "file_extension": ".py",
   "mimetype": "text/x-python",
   "name": "python",
   "nbconvert_exporter": "python",
   "pygments_lexer": "ipython3",
   "version": "3.11.3"
  }
 },
 "nbformat": 4,
 "nbformat_minor": 1
}
