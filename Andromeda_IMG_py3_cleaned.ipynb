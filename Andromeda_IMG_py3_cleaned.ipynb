{
 "cells": [
  {
   "cell_type": "markdown",
   "metadata": {},
   "source": [
    "## Python 3 Version of Andromeda"
   ]
  },
  {
   "cell_type": "code",
   "execution_count": 1,
   "metadata": {},
   "outputs": [],
   "source": [
    "#matplotlib notebook\n",
    "import numpy as np\n",
    "import pandas as pd\n",
    "#import math\n",
    "import random\n",
    "#import os\n",
    "#import re\n",
    "import cv2\n",
    "from skimage.transform import resize\n",
    "#import csv\n",
    "#from functools import partial\n",
    "#from tqdm import tqdm\n",
    "import traceback\n",
    "\n",
    "#from os import listdir\n",
    "#from os.path import isfile, join\n",
    "#from math import isnan\n",
    "\n",
    "\"\"\" \n",
    "unnecessary with import from dimension_reduction\n",
    "#import required sklearn packages:\n",
    "from sklearn.decomposition import PCA\n",
    "from sklearn.manifold import MDS\n",
    "import sklearn.metrics.pairwise   #probably better: from sklearn.metrics.pairwise import manhattan_distances, euclidean_distances\n",
    "#and fix below \n",
    "\"\"\"\n",
    "from andromeda.dimension_reduction import distance_matrix_2D, distance_matrix_HD, dimension_reduction, stress #, compute_mds\n",
    "from sklearn.metrics import silhouette_score\n",
    "\n",
    "#import matplotlib packages\n",
    "#import matplotlib as mpl\n",
    "import matplotlib.pyplot as plt\n",
    "import matplotlib.patches as mpatches\n",
    "from matplotlib.colors import Normalize\n",
    "from matplotlib.offsetbox import OffsetImage, AnnotationBbox\n",
    "#from matplotlib.patches import FancyBboxPatch\n",
    "#from matplotlib.widgets import Slider, Button\n",
    "\n",
    "#import ipyplot\n",
    "import io\n",
    "import urllib.request\n",
    "\n",
    "#import display packages\n",
    "from IPython.display import HTML, Javascript, display\n",
    "\n",
    "#import ipywidges and packages\n",
    "import ipywidgets as widgets\n",
    "from ipywidgets import interact, Layout, ButtonStyle #Button, GridBox,\n",
    "    # interact vs interactive: with interactive the checkboxes don't appear, otherwise seems the same\n",
    "\n",
    "#import interaction (Drag functions)\n",
    "from andromeda.DraggablePointsClass import DraggablePoints"
   ]
  },
  {
   "cell_type": "markdown",
   "metadata": {},
   "source": [
    "### Instantiate Upload Button"
   ]
  },
  {
   "cell_type": "code",
   "execution_count": 2,
   "metadata": {},
   "outputs": [
    {
     "data": {
      "application/vnd.jupyter.widget-view+json": {
       "model_id": "b4cc397a830e48e886e776679681b1fd",
       "version_major": 2,
       "version_minor": 0
      },
      "text/plain": [
       "FileUpload(value={}, accept='*.csv', description='Upload file', style=ButtonStyle(button_color='lightblue'))"
      ]
     },
     "metadata": {},
     "output_type": "display_data"
    },
    {
     "data": {
      "text/html": [
       "<script>\n",
       "code_show=true; \n",
       "function code_toggle() {\n",
       " if (code_show){\n",
       " $('div.input').hide();\n",
       " } else {\n",
       " $('div.input').show();\n",
       " }\n",
       " code_show = !code_show\n",
       "} \n",
       "$( document ).ready(code_toggle);\n",
       "</script>\n",
       "\n",
       "To toggle on/off the raw code, click <a href=\"javascript:code_toggle()\">here</a>."
      ],
      "text/plain": [
       "<IPython.core.display.HTML object>"
      ]
     },
     "execution_count": 2,
     "metadata": {},
     "output_type": "execute_result"
    }
   ],
   "source": [
    "w = widgets.IntSlider()\n",
    "uploader = widgets.FileUpload(accept = '*.csv',  # Accepted file extension e.g. '.txt', '.pdf', 'image/*', 'image/*,.pdf'\n",
    "                              multiple = False,  # True to accept multiple files upload else False\n",
    "                              description = 'Upload file',\n",
    "                              style=ButtonStyle(button_color='lightblue')\n",
    ")\n",
    "#only allow single file upload\n",
    "\n",
    "display(uploader)\n",
    "\n",
    "\n",
    "\n",
    "HTML('''<script>\n",
    "code_show=true; \n",
    "function code_toggle() {\n",
    " if (code_show){\n",
    " $('div.input').hide();\n",
    " } else {\n",
    " $('div.input').show();\n",
    " }\n",
    " code_show = !code_show\n",
    "} \n",
    "$( document ).ready(code_toggle);\n",
    "</script>\n",
    "\n",
    "To toggle on/off the raw code, click <a href=\"javascript:code_toggle()\">here</a>.''')"
   ]
  },
  {
   "cell_type": "markdown",
   "metadata": {},
   "source": [
    "### Run everything on launch button\n",
    "\n",
    "Does generate button before ready "
   ]
  },
  {
   "cell_type": "code",
   "execution_count": 9,
   "metadata": {
    "scrolled": true
   },
   "outputs": [
    {
     "data": {
      "application/javascript": "IPython.notebook.execute_cells_below()",
      "text/plain": [
       "<IPython.core.display.Javascript object>"
      ]
     },
     "metadata": {},
     "output_type": "display_data"
    },
    {
     "data": {
      "application/vnd.jupyter.widget-view+json": {
       "model_id": "ca1fb78706a04f7a8f6645499f1fc222",
       "version_major": 2,
       "version_minor": 0
      },
      "text/plain": [
       "Button(description='Launch Andromeda', style=ButtonStyle(button_color='lightblue'))"
      ]
     },
     "metadata": {},
     "output_type": "display_data"
    }
   ],
   "source": [
    "def run_all(ev):\n",
    "    display(Javascript('IPython.notebook.execute_cells_below()'))\n",
    "    #display(Javascript(\"Jupyter.notebook.execute_cell(2)\"))\n",
    "\n",
    "button = widgets.Button(description = \"Launch Andromeda\", \n",
    "                        style = ButtonStyle(button_color='lightblue'))\n",
    "button.on_click(run_all)\n",
    "display(button)"
   ]
  },
  {
   "cell_type": "markdown",
   "metadata": {},
   "source": [
    "#### try-exception\n",
    "\n",
    "I think this try, exception pair is born out of the fact that the whole notebook gets run before it has everything it needs, so there's a pass to then be able to run it again. However, the exception buried errors."
   ]
  },
  {
   "cell_type": "code",
   "execution_count": 10,
   "metadata": {
    "scrolled": false
   },
   "outputs": [
    {
     "name": "stderr",
     "output_type": "stream",
     "text": [
      "/opt/homebrew/Caskroom/miniforge/base/envs/andromeda/lib/python3.11/site-packages/sklearn/manifold/_mds.py:299: FutureWarning: The default value of `normalized_stress` will change to `'auto'` in version 1.4. To suppress this warning, manually set the value of `normalized_stress`.\n",
      "  warnings.warn(\n"
     ]
    }
   ],
   "source": [
    "try:    \n",
    "    input_file = list(uploader.value.values())[0]\n",
    "    content = input_file['content']\n",
    "    content = io.StringIO(content.decode('utf-8'))\n",
    "    df = pd.read_csv(content)\n",
    "    #df.rename(columns = {'Image_Label':'Name'}, inplace=True)\n",
    "    df.set_index('Image_Label', inplace = True)\n",
    "\n",
    "    label_names = df.index.tolist()\n",
    "    image_paths = {}\n",
    "    for name in label_names:\n",
    "        image_paths[name] = df['Image_Link'][name]\n",
    "\n",
    "    df = df.loc[:, ~df.columns.isin(['Image_Link','Species','User','Date','Time','Annotations','Hex_Color_Code'])]\n",
    "    df_numeric = df.select_dtypes(include='number')  #'int32' or 'int64' or 'float32' or 'float64'\n",
    "    df_numeric = df_numeric.loc[:, (df_numeric != df_numeric.iloc[0]).any()] \n",
    "    df_category = df.select_dtypes(exclude='number') #'object'\n",
    "    normalized_df = (df_numeric - df_numeric.mean()) / df_numeric.std()\n",
    "    min_weight, max_weight = 0.00001, 0.9999\n",
    "    init_weight = min_weight  # 1.0/len(normalized_df.columns) # initialize to min to make the sliders easier to use.\n",
    "    weights = pd.Series(init_weight, \n",
    "                        index = normalized_df.columns, \n",
    "                        name = \"Weight\")  # the current weight list\n",
    "    df_2D = dimension_reduction(normalized_df, weights)   # the current projected data\n",
    "\n",
    "except Exception as ex:\n",
    "    #pass\n",
    "    traceback.print_exception(ex)\n",
    "\n"
   ]
  },
  {
   "cell_type": "markdown",
   "metadata": {},
   "source": [
    "#### This will update the plot?"
   ]
  },
  {
   "cell_type": "code",
   "execution_count": 11,
   "metadata": {},
   "outputs": [],
   "source": [
    "##Updating Weights, based on manual re-organization of images in the plot\n",
    "\n",
    "\n",
    "def new_proposal(current, step, direction):\n",
    "    '''\n",
    "    what is this?\n",
    "    seems to be a suggestion of new weights\n",
    "    '''\n",
    "    return np.clip(current + direction*step*random.random(), 0.00001, 0.9999)\n",
    "\n",
    "def inverse_DR(dataHD, data2D, curWeights = None): \n",
    "    '''\n",
    "\n",
    "    Generates new weights based on manual movements of the images in the plot.\n",
    "\n",
    "    Parameters:\n",
    "    -----------\n",
    "    dataHD - DataFrame or Array of high-dimensional data\n",
    "    data2D - DataFrame or Array of projected 2D data\n",
    "    curWeights - Weights for features (columns of dataHD). list? Default value is None. \n",
    "\n",
    "    Returns:\n",
    "    --------\n",
    "    Series of new weights\n",
    "\n",
    "    '''\n",
    "    \"\"\"\n",
    "    ......\n",
    "    @parameters:\n",
    "        dataHD[pd.df or np.array]: high-dimensional data\n",
    "        data2D[pd.df or np.array]: projected 2D data\n",
    "    @return[pd.Series]: new weights  \n",
    "    \"\"\"\n",
    "    dist2D = distance_matrix_2D(data2D)  # compute 2D distances only once\n",
    "    col_names = dataHD.columns\n",
    "    dataHD = dataHD.to_numpy()  # use numpy for efficiency  <--??\n",
    "    row, col = dataHD.shape\n",
    "    \n",
    "    if curWeights == None:\n",
    "        curWeights = np.array([1.0/col]*col)  # default weights = 1/p\n",
    "    else:\n",
    "        curWeights = curWeights.to_numpy()\n",
    "        curWeights = curWeights / curWeights.sum()  # Normalize weights to sum to 1\n",
    "    newWeights = curWeights.copy()  # re-use this array for efficiency <---re-use? \n",
    "        #defining this way to confirm size/shape is the same for true_divide output later\n",
    "    \n",
    "    # Initialize state\n",
    "    flag = [0]*col         # degree of success of a weight change\n",
    "    direction = [1]*col  # direction to move a weight, pos or neg\n",
    "    step = [1.0/col]*col   # how much to change each weight\n",
    "    \n",
    "    dataHDw = dataHD * curWeights   # weighted space, re-use this array for efficiency                                \n",
    "    distHD = distance_matrix_HD(dataHDw)\n",
    "    curStress = stress(distHD, dist2D)\n",
    "    print('Starting stress =', curStress, 'Processing...')   #nothing printing\n",
    "\n",
    "    MAX = 500   # default setting of the number of iterations\n",
    "\n",
    "    # Try to minorly adjust each weight to see if it reduces stress\n",
    "    for i in range(MAX):\n",
    "        for dim in range(col):            \n",
    "            # Get a new weight for current column\n",
    "            nw = new_proposal(curWeights[dim], step[dim], direction[dim])\n",
    "            \n",
    "            # Scale the weight list such that it sums to 1\n",
    "            s = 1.0  + nw - curWeights[dim]   # 1.0 == curWeights.sum()\n",
    "            '''\n",
    "            curWeights is being used instead of newWeights because\n",
    "            they are equal to each other until this next step in the first iteration, but then not\n",
    "            do need to instantiate newWeights to proper size/shape first for this to work\n",
    "            '''\n",
    "            np.true_divide(curWeights, s, out = newWeights)  # transfers to other array, while doing /\n",
    "            newWeights[dim] = nw/s\n",
    "            \n",
    "            # Apply new weights to HD data\n",
    "            np.multiply(dataHD, newWeights, out = dataHDw)  # dataHDw = dataHD * newWeights; efficiently reuses dataHDw array\n",
    "            distHD = distance_matrix_HD(dataHDw)\n",
    "\n",
    "            # Get the new stress\n",
    "            newStress = stress(distHD, dist2D)\n",
    "            \n",
    "            # If new stress is lower, then update weights and flag this success\n",
    "            if newStress < curStress:\n",
    "                temp = curWeights\n",
    "                curWeights = newWeights\n",
    "                newWeights = temp   # reuse the old array next iteration\n",
    "                curStress = newStress\n",
    "                flag[dim] = flag[dim] + 1\n",
    "            else:\n",
    "                flag[dim] = flag[dim] - 1\n",
    "                direction[dim] = -direction[dim]  # Reverse course\n",
    "    \n",
    "            # If recent success, then speed up the step rate\n",
    "            if flag[dim] >= 5:\n",
    "                step[dim] = step[dim] * 2\n",
    "                flag[dim] = 0\n",
    "            elif flag[dim] <= -5:\n",
    "                step[dim] = step[dim] / 2\n",
    "                flag[dim] = 0\n",
    "                \n",
    "    print('Solution stress =', curStress, 'Done.')  #don't see printing. do get warning on `normalized_stress`\n",
    "    return pd.Series(curWeights, index=col_names, name=\"Weight\")"
   ]
  },
  {
   "cell_type": "markdown",
   "metadata": {},
   "source": [
    "### Create the widgets/displays"
   ]
  },
  {
   "cell_type": "code",
   "execution_count": 12,
   "metadata": {},
   "outputs": [],
   "source": [
    "## displays, widget coding\n",
    "\n",
    "\n",
    "\n",
    "def create_size_slider(imgDisplaySize):\n",
    "    \"\"\"\n",
    "    Create image size adjust slider\n",
    "    @parameters:\n",
    "        imgDisplaySize[float]: zoom image displayed size\n",
    "    @return[widgets slider]: return the size adjustment slider \n",
    "    \"\"\"\n",
    "\n",
    "    style = {'description_width': 'initial'}\n",
    "    size_slider = widgets.FloatSlider(min = 0,                              \n",
    "                                      max = 1, \n",
    "                                      step = 0.01, \n",
    "                                      value = imgDisplaySize, \n",
    "                                      description = 'Adjust image size', \n",
    "                                      style = style, \n",
    "                                      continuous_update = False, \n",
    "                                      readout_format = '.5f',)\n",
    "    size_slider.style.handle_color = 'lightblue'\n",
    "    return size_slider\n",
    "\n",
    "# sliders for weights\n",
    "def create_sliders(wts):\n",
    "    '''\n",
    "    Function to generate a slider for each feature's weight\n",
    "    \n",
    "    Parameters:\n",
    "    -----------\n",
    "    wts - Series consisting of the potential weights for each feature.\n",
    "\n",
    "    Returns:\n",
    "    --------\n",
    "    sliders - Wigets (sliders).\n",
    "    \n",
    "    '''\n",
    "    # Create sliders, one for each dimension weight\n",
    "    sliders = [widgets.FloatSlider(min = min_weight, \n",
    "                                   max = max_weight, \n",
    "                                   step = 0.01, \n",
    "                                   value = value, \n",
    "                                   description = label, \n",
    "                                   continuous_update = False, \n",
    "                                   layout = Layout(width = '80%', height = '20px'),     #widgets.Layout\n",
    "                                   readout_format = '.5f')    \n",
    "                for (label, value) in wts.items()]\n",
    "#     for slider in sliders:\n",
    "#         slider.style.handle_color = 'lightgreen'\n",
    "#         display(slider)\n",
    "        \n",
    "    return sliders \n",
    "\n",
    "# checkboxes\n",
    "def create_checkbox(size_slider, ax, df_2D):\n",
    "    '''\n",
    "    Function to generate the checkboxs for toggling the images and titles. Titles are the image index in the DataFrame.\n",
    "    \n",
    "    Parameters:\n",
    "    -----------\n",
    "    size_slider -\n",
    "    ax - Axes of plot\n",
    "    df_2D - DataFrame of projected 2D data\n",
    "\n",
    "    Returns:\n",
    "    --------\n",
    "    title_checkbox - Checkbox to toggle titles\n",
    "    image_checkbox - Checkbox to toggle images\n",
    "    \n",
    "    '''\n",
    "    \"\"\"\n",
    "    @return: create the checkbox to toggle the images and titles(image index in the dataframe)  \n",
    "    \"\"\"\n",
    "    title_checkbox = widgets.Checkbox(False,                             \n",
    "                                      description = 'Toggle Titles', \n",
    "                                      indent=False,   \n",
    "                                      layout = Layout(width='20%', height='20px'))\n",
    "    image_checkbox = widgets.Checkbox(True, \n",
    "                                      description = 'Toggle Images', \n",
    "                                      indent = False,\n",
    "                                      layout = Layout(width='20%', height='20px'))\n",
    "\n",
    "    def title_check_clicked(x): \n",
    "        '''\n",
    "        Defines interaction with title_checkbox\n",
    "        \n",
    "        Parameters:\n",
    "        -----------\n",
    "        x - Checkbox being interacted with (title_checkbox)\n",
    "        \n",
    "        '''  \n",
    "        image = image_checkbox.value\n",
    "        draw_plot(ax, df_2D, size_slider.value, x, image)\n",
    "        ax.figure.canvas.draw()\n",
    "    interact(title_check_clicked, x = title_checkbox)                 #Q of interact vs interactive\n",
    "    \n",
    "    def image_clicked(x):   \n",
    "        '''\n",
    "        Defines interaction with image_checkbox\n",
    "        \n",
    "        Parameters:\n",
    "        -----------\n",
    "        x - Checkbox being interacted with (image_checkbox)\n",
    "        \n",
    "        '''  \n",
    "        title = title_checkbox.value   \n",
    "        draw_plot(ax, df_2D, size_slider.value, title, x)\n",
    "        ax.figure.canvas.draw()\n",
    "\n",
    "    interact(image_clicked, x = image_checkbox)\n",
    "    return title_checkbox, image_checkbox\n",
    "\n",
    "\n",
    "def create_size_slider_button(size_slider, ax, df_2D): \n",
    "    '''\n",
    "    Function to generate the button to activate the size slider chosen size.\n",
    "    \n",
    "    Parameters:\n",
    "    -----------\n",
    "    size_slider -\n",
    "    ax - Axes of plot\n",
    "    df_2D - DataFrame of projected 2D data\n",
    "\n",
    "    Returns:\n",
    "    --------\n",
    "    size_apply_button - Button (widget) to apply the size set by the slider.\n",
    "    \n",
    "    '''\n",
    "    \"\"\"\n",
    "    @parameters:\n",
    "        size_slider: \n",
    "        ax:\n",
    "    @return[button]: return image size adjust button\n",
    "    \"\"\"\n",
    "    size_apply_button = widgets.Button(description = 'Apply Slider Size',  \n",
    "                                        style = ButtonStyle(button_color = 'lightblue'))\n",
    "    \n",
    "    \n",
    "    def size_slider_button_clicked():         #removed the input (change) that isn't used\n",
    "        toggle_image = hasattr(ax.dragpoint.artists[0], 'ab')\n",
    "        toggle_title = ax.dragpoint.artists[0].text.get_text() != ''\n",
    "        draw_plot(ax, \n",
    "                  df_2D, \n",
    "                  size_slider.value, \n",
    "                  toggle_title, \n",
    "                  toggle_image)\n",
    "        ax.figure.canvas.draw()\n",
    "        \n",
    "    size_apply_button.on_click(size_slider_button_clicked)\n",
    "    return size_apply_button\n",
    "\n",
    "# apply slider weights\n",
    "def create_slider_buttons(sliders, size_slider, ax, normalized_df):  \n",
    "    '''\n",
    "    Function to generate the buttons to activate the slider weight changes for all sliders.\n",
    "    \n",
    "    Parameters:\n",
    "    -----------\n",
    "    sliders - [list?] of sliders/features.\n",
    "    size_slider -\n",
    "    ax - Axes of plot\n",
    "    normalized_df - Normalized DataFrame of image data?\n",
    "\n",
    "    Returns:\n",
    "    --------\n",
    "    apply_button - Button (widget) to apply the weights set by the sliders to their respective features.\n",
    "    \n",
    "    '''  \n",
    "    #no need to pass df_2D because redefined before use\n",
    "    apply_button = widgets.Button(description = 'Apply Slider Weights', \n",
    "                                  style = ButtonStyle(button_color = 'lightgreen'), \n",
    "                                  layout = Layout(width='22.7%'))\n",
    "\n",
    "    # Callback functions\n",
    "    def apply_button_clicked():       #removed the input (change) that isn't used\n",
    "        ''' \n",
    "        Use the slider values to recompute the DR and redraw the plot\n",
    "        '''\n",
    "        #global weights, df_2D #, imageIndex_path_dict   # Update weights and df_2D globals\n",
    "                                #imageIndex_path_dict is never used\n",
    "                                #passing df_2D where needed\n",
    "        weights = pd.Series([s.value for s in sliders], \n",
    "                            index = normalized_df.columns, \n",
    "                            name='Weight')\n",
    "        df_2D = dimension_reduction(normalized_df, weights)   \n",
    "        \n",
    "        # Redraw the plot\n",
    "        toggle_image = hasattr(ax.dragpoint.artists[0], 'ab')\n",
    "        toggle_title = ax.dragpoint.artists[0].text.get_text() != ''\n",
    "        draw_plot(ax, \n",
    "                  df_2D, \n",
    "                  size_slider.value, \n",
    "                  toggle_title, \n",
    "                  toggle_image)\n",
    "        ax.figure.canvas.draw()\n",
    "\n",
    "    apply_button.on_click(apply_button_clicked)\n",
    "\n",
    "    return apply_button\n",
    "\n",
    "\n",
    "def create_reset_button(sliders, size_slider, ax, normalized_df):\n",
    "    '''\n",
    "    Function to generate the button to reset the plot.\n",
    "    \n",
    "    Parameters:\n",
    "    -----------\n",
    "    sliders - [list?] of sliders/features.\n",
    "    size_slider -\n",
    "    ax - Axes of plot\n",
    "    normalized_df - Normalized DataFrame of image data?\n",
    "\n",
    "    Returns:\n",
    "    --------\n",
    "    reset_button - Button (widget) to reset the plot to original.\n",
    "    \n",
    "    '''  \n",
    "    \"\"\"\n",
    "    @return[button]: return reset plot button  \n",
    "    \"\"\"  \n",
    "    #no need to pass df_2D since it's redefined before use\n",
    "    reset_button = widgets.Button(description = 'Reset Plot', \n",
    "                                  style = ButtonStyle(button_color = 'salmon'))\n",
    "    \n",
    "    def reset_button_clicked():             #removed the input (change) that isn't used\n",
    "        for s in sliders:\n",
    "            s.value = init_weight            \n",
    "        #global weights, df_2D, normalized_df   # Update weights and df_2D globals -- remove global\n",
    "        weights = pd.Series(init_weight, \n",
    "                            index = normalized_df.columns, \n",
    "                            name = \"Weight\")\n",
    "        df_2D = dimension_reduction(normalized_df, weights)   \n",
    "        toggle_image = hasattr(ax.dragpoint.artists[0], 'ab')\n",
    "        toggle_title = ax.dragpoint.artists[0].text.get_text() != ''\n",
    "\n",
    "        # Redraw the plot\n",
    "        draw_plot(ax, \n",
    "                  df_2D, \n",
    "                  size_slider.value, \n",
    "                  toggle_title, \n",
    "                  toggle_image)\n",
    "        ax.figure.canvas.draw()\n",
    "\n",
    "    reset_button.on_click(reset_button_clicked)\n",
    "\n",
    "    return reset_button\n",
    "\n",
    "def create_inverse_button(sliders, ax, normalized_df):\n",
    "    #removed size_slider and fig_show = False, as they are not used\n",
    "    '''\n",
    "    Generates button to call function to rebalance the weights based on the moved images when the inverse button is clicked\n",
    "\n",
    "    Parameters:\n",
    "    -----------\n",
    "    sliders - [list?] of sliders/features.\n",
    "    ax - Axes of plot\n",
    "    normalized_df - Normalized DataFrame of image data?\n",
    "\n",
    "    Returns:\n",
    "    --------\n",
    "    inverse_button - Button (widget) to recalculate weights based on the reorganized images in plot.\n",
    "        \n",
    "    '''\n",
    "    \"\"\"\n",
    "    @return[button]: return 'Learn New Weights' and 'Update Projections' buttons\n",
    "    \"\"\"\n",
    "#why passing unused variables?\n",
    "\n",
    "    inverse_button = widgets.Button(description = 'Apply Moved Observations',\n",
    "                                        style = ButtonStyle(button_color = 'darkseagreen'), \n",
    "                                        layout = Layout(width='22.7%'))\n",
    "#     copy_button = widgets.Button(description='Update Projections',\n",
    "#                                  style=ButtonStyle(button_color='darkseagreen'))\n",
    "\n",
    "    def inverse_button_clicked(): #removed the input (change) that isn't used\n",
    "        '''\n",
    "        Calls inverse_DR to rebalance the weights based on the moved images when the inverse button is clicked.\n",
    "        Only does so if at least 2 points moved\n",
    "        Sets new weights of sliders at end\n",
    "        \n",
    "        '''\n",
    "\n",
    "        # Check number of points moved\n",
    "        n = sum([i.selected for i in ax.dragpoint.artists])\n",
    "        if n < 2:\n",
    "            print('Need to select or move at least 2 points in the plot first.')\n",
    "            return\n",
    "\n",
    "        # Get selected data points\n",
    "        data2Dnew = pd.DataFrame([c.center for c in ax.dragpoint.artists if c.selected], \n",
    "                                    columns = ['x','y'], \n",
    "                                    index = [c.label for c in ax.dragpoint.artists if c.selected]) \n",
    "        #global normalized_df\n",
    "        dataHDpart = normalized_df.loc[data2Dnew.index]\n",
    "\n",
    "        # Learn new weights\n",
    "        #global weights\n",
    "        weights = inverse_DR(dataHDpart, data2Dnew)\n",
    "        \n",
    "        #set sliders' new weights\n",
    "        for i,s in enumerate(sliders):\n",
    "            s.value = weights[i]\n",
    "\n",
    "    inverse_button.on_click(inverse_button_clicked)\n",
    "        \n",
    "    return inverse_button\n",
    "\n",
    "        \n",
    "\n",
    "def create_plot(data2D, imgDisplaySize, title = False): \n",
    "    '''\n",
    "    Function to generate the button to activate the size slider chosen size.\n",
    "    \n",
    "    Parameters:\n",
    "    -----------\n",
    "    data2D - DataFrame or Array of projected 2D data\n",
    "    imgDisplaySize - [float]: zoom image displayed size\n",
    "    title - Boolean: toggle title. Default is False.\n",
    "\n",
    "    Returns:\n",
    "    --------\n",
    "    ax - Axes for plot\n",
    "    \n",
    "    '''\n",
    "    \"\"\"\n",
    "    @parameters:\n",
    "        data2D[pd.df or np.array]: projected 2D data\n",
    "        title[boolean]: toggle title or not \n",
    "    @return[AxesSubplot]: plotting axes\n",
    "    \"\"\"\n",
    "    # Initialize DR plot figure   \n",
    "    fig, ax = plt.subplots(figsize= (6,6), dpi=80)\n",
    "    ax.selected_text = ax.figure.text(0, \n",
    "                                      0.005, \n",
    "                                      'Selected: none', \n",
    "                                      wrap = True, \n",
    "                                      color = 'green')\n",
    "    #no ticks\n",
    "    ax.set_xticks([])\n",
    "    ax.set_yticks([])\n",
    "    ax.figure.tight_layout()\n",
    "#     global imageIndex_path_dict\n",
    "    \n",
    "    # Store state data:\n",
    "    ax.dragpoint = None\n",
    "    draw_plot(ax, data2D, imgDisplaySize, title)\n",
    "        \n",
    "    return ax\n",
    "\n",
    "\n",
    "def url_to_image(url):\n",
    "    '''\n",
    "    download the image, convert it to a NumPy array, and then read\n",
    "    it into OpenCV format\n",
    "\n",
    "    Parameters:\n",
    "    -----------\n",
    "    url - url of plot?\n",
    "\n",
    "    Returns:\n",
    "    --------\n",
    "    immage - Image of the plot? OpenCV format\n",
    "    '''\n",
    "    resp = urllib.request.urlopen(url)\n",
    "    image = np.asarray(bytearray(resp.read()), dtype=\"uint8\")\n",
    "    image = cv2.imdecode(image, cv2.IMREAD_COLOR)\n",
    "    # return the image\n",
    "    return image\n",
    "\n",
    "\n",
    "def image_preprocessing(imgIndex):\n",
    "    \"\"\"\n",
    "    segment images if background is black\n",
    "    @parameters:\n",
    "        imgIndex[str]: image index\n",
    "    @return[np.array(image)]: processed image\n",
    "    \"\"\"\n",
    "\n",
    "    #global image_paths   #variable defined (and initiated as empty) in try statement.\n",
    "                         #defining it as global here would change the value, \n",
    "                         #but the value isn't being changed, it's being used\n",
    "                         #commenting out doesn't fix, but doesn't seem to break\n",
    "    path = image_paths[imgIndex]\n",
    "    up_width = 150\n",
    "    up_height = 150\n",
    "    up_points = (up_width, up_height)    \n",
    "    src = url_to_image(path)\n",
    "    src = cv2.resize(src, \n",
    "                     up_points, \n",
    "                     interpolation = cv2.INTER_LINEAR)\n",
    "    tmp = cv2.cvtColor(src, \n",
    "                       cv2.COLOR_BGR2GRAY)        \n",
    "    _,alpha = cv2.threshold(tmp, \n",
    "                            0, \n",
    "                            255, \n",
    "                            cv2.THRESH_BINARY)\n",
    "    b, g, r = cv2.split(src)\n",
    "    rgba = [r,g,b, alpha]\n",
    "    processed_img = cv2.merge(rgba, 4)\n",
    "\n",
    "    return processed_img\n",
    "\n",
    "def draw_plot(ax, data2D, imgSize, title = False, image = True): \n",
    "    \"\"\"\n",
    "\n",
    "    Function drawing the plot? Also calls the interactive \"DraggablePoints\" Class to allow interaction with plot.\n",
    "    Creates green circles behind images on click?\n",
    "\n",
    "    @parameters:\n",
    "        ax[AxesSubplot]: plot ax\n",
    "        data2D[dataframe]: projected 2D dataframe\n",
    "        imgSize[float]: zoom parameter of OffsetImage, determine size of displaying images\n",
    "        title[boolean]: whether toggle title or not. Default is False\n",
    "        image[boolean]: whether toggle image or not. Default is True\n",
    "    \"\"\"\n",
    "    \n",
    "    labels_df = data2D.index.to_series().apply(lambda x: x.split('/')[0])\n",
    "    data2D['label'] = labels_df\n",
    "    label_list = list(set(data2D['label']))\n",
    "    conversion_dict = {k:v for k,v in zip(label_list,range(len(label_list)))}\n",
    "    data2D['label_num'] = data2D['label'].replace(conversion_dict)\n",
    "    ax.clear()\n",
    "    wid = max(data2D.x.max() - data2D.x.min(), data2D.y.max() - data2D.y.min()) # max range of x,y axes\n",
    "    if not image:\n",
    "        cnorm = Normalize(vmin = data2D.label_num.min(),                #just import from matplotlib.colors\n",
    "                            vmax = data2D.label_num.max())\n",
    "        \n",
    "        ax.circles = data2D.apply(axis=1, func=lambda row: \n",
    "                                    mpatches.Circle(xy = (row.x, row.y), \n",
    "                                                        radius = wid/70, \n",
    "                                                        alpha=0.95, \n",
    "                                                        label=row.label_num,\n",
    "                                                        color = plt.cm.Set3(cnorm(row.label_num)), \n",
    "                                                        picker = True))\n",
    "        for i,c in enumerate(ax.circles):\n",
    "            # Store state data:\n",
    "            c.index, c.label, c.selected = i, data2D.index[i], False\n",
    "            # Draw circles and text labels in plot\n",
    "            ax.add_patch(c)\n",
    "            if title:\n",
    "                c.text = ax.text(c.center[0]+c.radius, c.center[1], c.label, color='black')\n",
    "            else:\n",
    "                c.text = ax.text(c.center[0]+c.radius, c.center[1], \"\", color='none')\n",
    "    else:\n",
    "        ax.circles = []\n",
    "        for x0, y0, index in zip(data2D.x, data2D.y, data2D.index):\n",
    "            ax.circles.append(mpatches.Circle(xy = (x0, y0), \n",
    "                                                 radius = wid*imgSize/3, \n",
    "                                                 alpha = 0.5, \n",
    "                                                 color = 'none', \n",
    "                                                 picker = True))\n",
    "\n",
    "        for i,c in enumerate(ax.circles):\n",
    "            # Store state data:\n",
    "            c.index, c.label, c.selected = i, data2D.index[i], False\n",
    "            # Draw circles and text labels in plot\n",
    "            ax.add_patch(c)\n",
    "            processed_img = image_preprocessing(c.label)\n",
    "            img = OffsetImage(processed_img,zoom=imgSize)\n",
    "            c.ab = AnnotationBbox(img, (c.center[0], c.center[1]), frameon=False)\n",
    "            ax.add_artist(c.ab)\n",
    "            if title:\n",
    "                c.text = ax.text(c.center[0]+c.radius, c.center[1], c.label, color='black')\n",
    "            else:\n",
    "                c.text = ax.text(c.center[0]+c.radius, c.center[1], \"\", color='none')\n",
    "\n",
    "    # Make plot circles draggable\n",
    "    ax.dragpoint = DraggablePoints(ax, ax.circles)\n",
    "    # Clean up the plot \n",
    "    ax.set_xticks([])\n",
    "    ax.set_yticks([])\n",
    "    ax.axis('equal')\n",
    "    \n",
    "imgDisplaySize =0.30"
   ]
  },
  {
   "cell_type": "markdown",
   "metadata": {},
   "source": [
    "## Make Plot"
   ]
  },
  {
   "cell_type": "code",
   "execution_count": 13,
   "metadata": {
    "scrolled": false
   },
   "outputs": [
    {
     "data": {
      "image/png": "[encoded data removed]",
      "text/plain": [
       "<Figure size 480x480 with 1 Axes>"
      ]
     },
     "metadata": {},
     "output_type": "display_data"
    }
   ],
   "source": [
    "if 'df_2D' in locals():\n",
    "    plot_ax = create_plot(df_2D, imgDisplaySize)"
   ]
  },
  {
   "cell_type": "markdown",
   "metadata": {},
   "source": [
    "## Display the widgets to adjust the plot\n",
    "\n",
    "Will likely need to connect this to the plot display to put them on the side."
   ]
  },
  {
   "cell_type": "code",
   "execution_count": 14,
   "metadata": {
    "scrolled": false
   },
   "outputs": [
    {
     "data": {
      "application/vnd.jupyter.widget-view+json": {
       "model_id": "3c93f9648bd54fba979aac661c07b5be",
       "version_major": 2,
       "version_minor": 0
      },
      "text/plain": [
       "HBox(children=(Button(description='Apply Moved Observations', layout=Layout(width='22.7%'), style=ButtonStyle(…"
      ]
     },
     "metadata": {},
     "output_type": "display_data"
    },
    {
     "data": {
      "application/vnd.jupyter.widget-view+json": {
       "model_id": "383624e21722438cbdb9151b3653a1d2",
       "version_major": 2,
       "version_minor": 0
      },
      "text/plain": [
       "HBox(children=(FloatSlider(value=0.3, continuous_update=False, description='Adjust image size', max=1.0, reado…"
      ]
     },
     "metadata": {},
     "output_type": "display_data"
    },
    {
     "data": {
      "application/vnd.jupyter.widget-view+json": {
       "model_id": "4429d3fd563e4098a22b2acd25a91b50",
       "version_major": 2,
       "version_minor": 0
      },
      "text/plain": [
       "interactive(children=(Checkbox(value=False, description='Toggle Titles', indent=False, layout=Layout(height='2…"
      ]
     },
     "metadata": {},
     "output_type": "display_data"
    },
    {
     "data": {
      "application/vnd.jupyter.widget-view+json": {
       "model_id": "b2d959b9c60543e1aa06e15fd2c216f7",
       "version_major": 2,
       "version_minor": 0
      },
      "text/plain": [
       "interactive(children=(Checkbox(value=True, description='Toggle Images', indent=False, layout=Layout(height='20…"
      ]
     },
     "metadata": {},
     "output_type": "display_data"
    },
    {
     "data": {
      "application/vnd.jupyter.widget-view+json": {
       "model_id": "939b1c68f82a439188efb3e52bc59256",
       "version_major": 2,
       "version_minor": 0
      },
      "text/plain": [
       "FloatSlider(value=1e-05, continuous_update=False, description='Unnamed: 0', layout=Layout(height='20px', width…"
      ]
     },
     "metadata": {},
     "output_type": "display_data"
    },
    {
     "data": {
      "application/vnd.jupyter.widget-view+json": {
       "model_id": "5fde6872c1d44198843ae1f633bd4e72",
       "version_major": 2,
       "version_minor": 0
      },
      "text/plain": [
       "FloatSlider(value=1e-05, continuous_update=False, description='Lat', layout=Layout(height='20px', width='80%')…"
      ]
     },
     "metadata": {},
     "output_type": "display_data"
    },
    {
     "data": {
      "application/vnd.jupyter.widget-view+json": {
       "model_id": "f12727986c564d9ba58fc7f7cd44b322",
       "version_major": 2,
       "version_minor": 0
      },
      "text/plain": [
       "FloatSlider(value=1e-05, continuous_update=False, description='Long', layout=Layout(height='20px', width='80%'…"
      ]
     },
     "metadata": {},
     "output_type": "display_data"
    },
    {
     "data": {
      "application/vnd.jupyter.widget-view+json": {
       "model_id": "354588c65b59437fbda1fe98bfe3ca70",
       "version_major": 2,
       "version_minor": 0
      },
      "text/plain": [
       "FloatSlider(value=1e-05, continuous_update=False, description='R1', layout=Layout(height='20px', width='80%'),…"
      ]
     },
     "metadata": {},
     "output_type": "display_data"
    },
    {
     "data": {
      "application/vnd.jupyter.widget-view+json": {
       "model_id": "5fd31183e34b4e0c9edf3b6428b8ad9c",
       "version_major": 2,
       "version_minor": 0
      },
      "text/plain": [
       "FloatSlider(value=1e-05, continuous_update=False, description='G1', layout=Layout(height='20px', width='80%'),…"
      ]
     },
     "metadata": {},
     "output_type": "display_data"
    },
    {
     "data": {
      "application/vnd.jupyter.widget-view+json": {
       "model_id": "f2474290d7ee488da5148b292cfa4b35",
       "version_major": 2,
       "version_minor": 0
      },
      "text/plain": [
       "FloatSlider(value=1e-05, continuous_update=False, description='B1', layout=Layout(height='20px', width='80%'),…"
      ]
     },
     "metadata": {},
     "output_type": "display_data"
    },
    {
     "data": {
      "application/vnd.jupyter.widget-view+json": {
       "model_id": "15df610ac7e24b88ad395baea76bab25",
       "version_major": 2,
       "version_minor": 0
      },
      "text/plain": [
       "FloatSlider(value=1e-05, continuous_update=False, description='R2', layout=Layout(height='20px', width='80%'),…"
      ]
     },
     "metadata": {},
     "output_type": "display_data"
    },
    {
     "data": {
      "application/vnd.jupyter.widget-view+json": {
       "model_id": "a1ffa4166dc444138c284351dc412255",
       "version_major": 2,
       "version_minor": 0
      },
      "text/plain": [
       "FloatSlider(value=1e-05, continuous_update=False, description='G2', layout=Layout(height='20px', width='80%'),…"
      ]
     },
     "metadata": {},
     "output_type": "display_data"
    },
    {
     "data": {
      "application/vnd.jupyter.widget-view+json": {
       "model_id": "52f23b26f6fe4d2980738ea230ad2c82",
       "version_major": 2,
       "version_minor": 0
      },
      "text/plain": [
       "FloatSlider(value=1e-05, continuous_update=False, description='B2', layout=Layout(height='20px', width='80%'),…"
      ]
     },
     "metadata": {},
     "output_type": "display_data"
    },
    {
     "data": {
      "application/vnd.jupyter.widget-view+json": {
       "model_id": "f978e840b66d442da6acfc5618e40ddb",
       "version_major": 2,
       "version_minor": 0
      },
      "text/plain": [
       "FloatSlider(value=1e-05, continuous_update=False, description='R3', layout=Layout(height='20px', width='80%'),…"
      ]
     },
     "metadata": {},
     "output_type": "display_data"
    },
    {
     "data": {
      "application/vnd.jupyter.widget-view+json": {
       "model_id": "f99283ca4c2347f5914cddac82b0ad06",
       "version_major": 2,
       "version_minor": 0
      },
      "text/plain": [
       "FloatSlider(value=1e-05, continuous_update=False, description='G3', layout=Layout(height='20px', width='80%'),…"
      ]
     },
     "metadata": {},
     "output_type": "display_data"
    },
    {
     "data": {
      "application/vnd.jupyter.widget-view+json": {
       "model_id": "adf64481294c4316a529cea3d924782e",
       "version_major": 2,
       "version_minor": 0
      },
      "text/plain": [
       "FloatSlider(value=1e-05, continuous_update=False, description='B3', layout=Layout(height='20px', width='80%'),…"
      ]
     },
     "metadata": {},
     "output_type": "display_data"
    },
    {
     "data": {
      "application/vnd.jupyter.widget-view+json": {
       "model_id": "736292c388b54a7c9f7837e43c846b3c",
       "version_major": 2,
       "version_minor": 0
      },
      "text/plain": [
       "FloatSlider(value=1e-05, continuous_update=False, description='Contour_Area', layout=Layout(height='20px', wid…"
      ]
     },
     "metadata": {},
     "output_type": "display_data"
    },
    {
     "data": {
      "application/vnd.jupyter.widget-view+json": {
       "model_id": "c08817fbadf34bd192e2a3f1d9adfbfb",
       "version_major": 2,
       "version_minor": 0
      },
      "text/plain": [
       "FloatSlider(value=1e-05, continuous_update=False, description='Aspect_Ratio', layout=Layout(height='20px', wid…"
      ]
     },
     "metadata": {},
     "output_type": "display_data"
    },
    {
     "data": {
      "application/vnd.jupyter.widget-view+json": {
       "model_id": "0a441610d08f4883a58df08298e93df1",
       "version_major": 2,
       "version_minor": 0
      },
      "text/plain": [
       "FloatSlider(value=1e-05, continuous_update=False, description='Extent', layout=Layout(height='20px', width='80…"
      ]
     },
     "metadata": {},
     "output_type": "display_data"
    },
    {
     "data": {
      "application/vnd.jupyter.widget-view+json": {
       "model_id": "49fb766abc5e4f4ca1b0304172f37215",
       "version_major": 2,
       "version_minor": 0
      },
      "text/plain": [
       "FloatSlider(value=1e-05, continuous_update=False, description='Solidity', layout=Layout(height='20px', width='…"
      ]
     },
     "metadata": {},
     "output_type": "display_data"
    }
   ],
   "source": [
    "if 'df_2D' in locals():\n",
    "    size_slider = create_size_slider(imgDisplaySize)\n",
    "    sliders = create_sliders(weights)\n",
    "    size_apply_button = create_size_slider_button(size_slider, plot_ax, df_2D)\n",
    "\n",
    "    inverse_button = create_inverse_button(sliders, plot_ax, normalized_df)\n",
    "    display(widgets.HBox([inverse_button, create_slider_buttons(sliders, size_slider, plot_ax, normalized_df),\n",
    "                          create_reset_button(sliders, size_slider, plot_ax, normalized_df)]))\n",
    "    display(widgets.HBox([size_slider, size_apply_button]))\n",
    "\n",
    "    point_attribute = create_checkbox(size_slider, plot_ax, df_2D)\n",
    "\n",
    "    for slider in sliders:\n",
    "        slider.style.handle_color = 'lightgreen'\n",
    "        display(slider)"
   ]
  },
  {
   "cell_type": "code",
   "execution_count": null,
   "metadata": {},
   "outputs": [],
   "source": []
  }
 ],
 "metadata": {
  "kernelspec": {
   "display_name": "Python 3 (ipykernel)",
   "language": "python",
   "name": "python3"
  },
  "language_info": {
   "codemirror_mode": {
    "name": "ipython",
    "version": 3
   },
   "file_extension": ".py",
   "mimetype": "text/x-python",
   "name": "python",
   "nbconvert_exporter": "python",
   "pygments_lexer": "ipython3",
   "version": "3.11.3"
  }
 },
 "nbformat": 4,
 "nbformat_minor": 1
}
