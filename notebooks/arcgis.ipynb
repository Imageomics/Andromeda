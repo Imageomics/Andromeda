{
 "cells": [
  {
   "cell_type": "code",
   "execution_count": 1,
   "metadata": {},
   "outputs": [
    {
     "name": "stderr",
     "output_type": "stream",
     "text": [
      "/opt/homebrew/Caskroom/miniforge/base/envs/mapping/lib/python3.9/site-packages/scipy/__init__.py:155: UserWarning: A NumPy version >=1.18.5 and <1.25.0 is required for this version of SciPy (detected version 1.25.0\n",
      "  warnings.warn(f\"A NumPy version >={np_minversion} and <{np_maxversion}\"\n"
     ]
    }
   ],
   "source": [
    "from getpass import getpass\n",
    "from arcgis.gis import GIS\n",
    "import arcgis.features\n",
    "import pandas as pd\n",
    "from arcgis.geometry import Polygon\n",
    "# Need to do conda install -c esri arcgis, which requires Python 3.8\n",
    "# Run notebook with kernel created with:\n",
    "# python -m ipykernel install --user --name arcgis --display-name \"Python 3.8 (ArcGIS)\"\n",
    "# On Apple Silicon need Rosetta 2 emulator (see https://joelmccune.com/install-arcgis-python-api-on-apple-silicon/)\n",
    "# and downgrade urllib3=1.26.0 until fall update of arcgis package\n",
    "# TODO: update dependencies file for above\n",
    "\n",
    "# Authenticate with ArcGIS Online\n",
    "username = getpass(\"Entter ArcGIS username: \")\n",
    "\n",
    "password = getpass(\"Enter ArcGIS password: \")\n",
    "\n",
    "gis = GIS(\"https://www.arcgis.com\", username, password)\n",
    "\n",
    "# Define coordinates and area of interest\n",
    "lat = 40.322965\n",
    "lon = -74.728754\n",
    "distance_in_miles = 0.25\n",
    "# Convert distance to degrees (approx)\n",
    "distance_in_degrees = distance_in_miles / 69.0 # 69 miles per degree at equator ... less at higher latitudes\n",
    "\n",
    "# Define boundary square around the coordinates\n",
    "min_lat = lat - distance_in_degrees\n",
    "max_lat = lat + distance_in_degrees\n",
    "min_lon = lon - distance_in_degrees\n",
    "max_lon = lon + distance_in_degrees\n",
    "\n",
    "# Polygon representing the area of interest\n",
    "# https://developers.arcgis.com/documentation/common-data-types/geometry-objects.htm#:~:text=JSON%20examples-,A%202D%20polygon,-%7B%0A%20%20%22rings%22%3A%20%5B%0A%20%20%20%20%5B%0A%20%20%20%20%20%20%5B%2D97.06138%2C32.837%5D%2C%0A%20%20%20%20%20%20%5B%2D97.06133%2C32.836\n",
    "area_of_interest = Polygon({\n",
    "    \"rings\": [[[min_lon, min_lat], \n",
    "               [min_lon, max_lat], \n",
    "               [max_lon, max_lat], \n",
    "               [max_lon, min_lat], \n",
    "               [min_lon, min_lat]]],\n",
    "    \"spatialReference\": {\"wkid\": 4326}\n",
    "})\n",
    "\n"
   ]
  },
  {
   "cell_type": "code",
   "execution_count": 2,
   "metadata": {},
   "outputs": [
    {
     "data": {
      "text/plain": [
       "dict_keys(['operationalLayers', 'baseMap', 'authoringApp', 'authoringAppVersion', 'initialState', 'spatialReference', 'version'])"
      ]
     },
     "execution_count": 2,
     "metadata": {},
     "output_type": "execute_result"
    }
   ],
   "source": [
    "# Web map ID fo https://www.arcgis.com/home/search.html?restrict=false&sortField=relevance&sortOrder=desc&searchTerm=2705228b2b154d0a906ef7a54e533fac#content\n",
    "webmap_id = \"2705228b2b154d0a906ef7a54e533fac\"\n",
    "\n",
    "# Access item by ID\n",
    "webmap_item = gis.content.get(webmap_id)\n",
    "\n",
    "# https://developers.arcgis.com/python/guide/managing-your-content/\n",
    "webmap_data = webmap_item.get_data()\n",
    "\n",
    "webmap_data.keys()"
   ]
  },
  {
   "cell_type": "code",
   "execution_count": 3,
   "metadata": {},
   "outputs": [
    {
     "data": {
      "text/plain": [
       "[{'id': '188f84d8736-layer-2',\n",
       "  'opacity': 0.5,\n",
       "  'title': 'Land Use Land Cover of New Jersey 2015 - Land Use 2015',\n",
       "  'url': 'https://mapsdep.nj.gov/arcgis/rest/services/Features/Land_lu/MapServer/13',\n",
       "  'itemId': '2e7d9704d28c420a85777c37ee4636ab',\n",
       "  'layerType': 'ArcGISFeatureLayer',\n",
       "  'popupInfo': {'popupElements': [{'type': 'fields'},\n",
       "    {'type': 'attachments', 'displayType': 'auto'}],\n",
       "   'showAttachments': True,\n",
       "   'fieldInfos': [{'fieldName': 'OBJECTID',\n",
       "     'isEditable': False,\n",
       "     'label': 'OBJECTID',\n",
       "     'visible': False},\n",
       "    {'fieldName': 'ACRES',\n",
       "     'format': {'digitSeparator': True, 'places': 2},\n",
       "     'isEditable': True,\n",
       "     'label': 'ACRES',\n",
       "     'visible': True},\n",
       "    {'fieldName': 'APPROVED',\n",
       "     'isEditable': True,\n",
       "     'label': 'APPROVED',\n",
       "     'visible': True},\n",
       "    {'fieldName': 'AREASQKM',\n",
       "     'format': {'digitSeparator': True, 'places': 2},\n",
       "     'isEditable': True,\n",
       "     'label': 'Area (SQ KM)',\n",
       "     'visible': True},\n",
       "    {'fieldName': 'CHANGE15',\n",
       "     'format': {'digitSeparator': True, 'places': 0},\n",
       "     'isEditable': True,\n",
       "     'label': 'CHANGE15',\n",
       "     'visible': True},\n",
       "    {'fieldName': 'COMID',\n",
       "     'format': {'digitSeparator': True, 'places': 0},\n",
       "     'isEditable': True,\n",
       "     'label': 'ComID',\n",
       "     'visible': True},\n",
       "    {'fieldName': 'CREATED_DATE',\n",
       "     'format': {'dateFormat': 'longMonthDayYear', 'digitSeparator': False},\n",
       "     'isEditable': True,\n",
       "     'label': 'CREATED_DATE',\n",
       "     'visible': True},\n",
       "    {'fieldName': 'CREATED_USER',\n",
       "     'isEditable': True,\n",
       "     'label': 'CREATED_USER',\n",
       "     'visible': True},\n",
       "    {'fieldName': 'DV12',\n",
       "     'format': {'digitSeparator': True, 'places': 0},\n",
       "     'isEditable': True,\n",
       "     'label': 'DV12',\n",
       "     'visible': True},\n",
       "    {'fieldName': 'DV15',\n",
       "     'format': {'digitSeparator': True, 'places': 0},\n",
       "     'isEditable': True,\n",
       "     'label': 'DV15',\n",
       "     'visible': True},\n",
       "    {'fieldName': 'ELEVATION',\n",
       "     'format': {'digitSeparator': True, 'places': 2},\n",
       "     'isEditable': True,\n",
       "     'label': 'Elevation',\n",
       "     'visible': True},\n",
       "    {'fieldName': 'FCODE',\n",
       "     'format': {'digitSeparator': True, 'places': 0},\n",
       "     'isEditable': True,\n",
       "     'label': 'FCode',\n",
       "     'visible': True},\n",
       "    {'fieldName': 'FCODE_DESCRIPTION',\n",
       "     'isEditable': True,\n",
       "     'label': 'FCode  Description',\n",
       "     'visible': True},\n",
       "    {'fieldName': 'FDATE',\n",
       "     'format': {'dateFormat': 'longMonthDayYear', 'digitSeparator': False},\n",
       "     'isEditable': True,\n",
       "     'label': 'FDATE',\n",
       "     'visible': True},\n",
       "    {'fieldName': 'FTYPE',\n",
       "     'format': {'digitSeparator': True, 'places': 0},\n",
       "     'isEditable': True,\n",
       "     'label': 'FType',\n",
       "     'visible': True},\n",
       "    {'fieldName': 'FTYPE_DESCRIPTION',\n",
       "     'isEditable': True,\n",
       "     'label': 'FType Description',\n",
       "     'visible': True},\n",
       "    {'fieldName': 'FTYPE_DISPLAY',\n",
       "     'isEditable': True,\n",
       "     'label': 'FType Display Label',\n",
       "     'visible': True},\n",
       "    {'fieldName': 'GLOBALID',\n",
       "     'isEditable': False,\n",
       "     'label': 'GLOBALID',\n",
       "     'visible': False},\n",
       "    {'fieldName': 'FEATURE_ID',\n",
       "     'format': {'digitSeparator': True, 'places': 2},\n",
       "     'isEditable': True,\n",
       "     'label': 'GNIS Feature ID',\n",
       "     'visible': True},\n",
       "    {'fieldName': 'FEATURE_NAME',\n",
       "     'isEditable': True,\n",
       "     'label': 'GNIS Feature Name',\n",
       "     'visible': True},\n",
       "    {'fieldName': 'FEATURE_CLASS',\n",
       "     'isEditable': True,\n",
       "     'label': 'GNIS FeatureClass',\n",
       "     'visible': True},\n",
       "    {'fieldName': 'GNIS_ID',\n",
       "     'isEditable': True,\n",
       "     'label': 'GNIS ID',\n",
       "     'visible': True},\n",
       "    {'fieldName': 'GNIS_NAME',\n",
       "     'isEditable': True,\n",
       "     'label': 'GNIS Name',\n",
       "     'visible': True},\n",
       "    {'fieldName': 'HU8', 'isEditable': True, 'label': 'HU8', 'visible': True},\n",
       "    {'fieldName': 'IS12',\n",
       "     'format': {'digitSeparator': True, 'places': 2},\n",
       "     'isEditable': True,\n",
       "     'label': 'IS12',\n",
       "     'visible': True},\n",
       "    {'fieldName': 'IS15',\n",
       "     'format': {'digitSeparator': True, 'places': 2},\n",
       "     'isEditable': True,\n",
       "     'label': 'IS15',\n",
       "     'visible': True},\n",
       "    {'fieldName': 'ISACRES12',\n",
       "     'format': {'digitSeparator': True, 'places': 2},\n",
       "     'isEditable': True,\n",
       "     'label': 'ISACRES12',\n",
       "     'visible': True},\n",
       "    {'fieldName': 'ISACRES15',\n",
       "     'format': {'digitSeparator': True, 'places': 2},\n",
       "     'isEditable': True,\n",
       "     'label': 'ISACRES15',\n",
       "     'visible': True},\n",
       "    {'fieldName': 'ISCHANGE15',\n",
       "     'format': {'digitSeparator': True, 'places': 0},\n",
       "     'isEditable': True,\n",
       "     'label': 'ISCHANGE15',\n",
       "     'visible': True},\n",
       "    {'fieldName': 'LABEL12',\n",
       "     'isEditable': True,\n",
       "     'label': 'LABEL12',\n",
       "     'visible': True},\n",
       "    {'fieldName': 'LABEL15',\n",
       "     'isEditable': True,\n",
       "     'label': 'LABEL15',\n",
       "     'visible': True},\n",
       "    {'fieldName': 'LAST_EDITED_DATE',\n",
       "     'format': {'dateFormat': 'longMonthDayYear', 'digitSeparator': False},\n",
       "     'isEditable': True,\n",
       "     'label': 'LAST_EDITED_DATE',\n",
       "     'visible': True},\n",
       "    {'fieldName': 'LAST_EDITED_USER',\n",
       "     'isEditable': True,\n",
       "     'label': 'LAST_EDITED_USER',\n",
       "     'visible': True},\n",
       "    {'fieldName': 'LEVELELEV',\n",
       "     'format': {'digitSeparator': True, 'places': 2},\n",
       "     'isEditable': True,\n",
       "     'label': 'Level Elevation',\n",
       "     'visible': True},\n",
       "    {'fieldName': 'LU12',\n",
       "     'format': {'digitSeparator': True, 'places': 2},\n",
       "     'isEditable': True,\n",
       "     'label': 'LU12',\n",
       "     'visible': True},\n",
       "    {'fieldName': 'LU15',\n",
       "     'format': {'digitSeparator': True, 'places': 2},\n",
       "     'isEditable': True,\n",
       "     'label': 'LU15',\n",
       "     'visible': True},\n",
       "    {'fieldName': 'NHD_FEATURECLASS',\n",
       "     'isEditable': True,\n",
       "     'label': 'NHD FeatureClass',\n",
       "     'visible': True},\n",
       "    {'fieldName': 'PERMANENT_IDENTIFIER',\n",
       "     'isEditable': True,\n",
       "     'label': 'PERMANENT_IDENTIFIER',\n",
       "     'visible': True},\n",
       "    {'fieldName': 'REACHCODE',\n",
       "     'isEditable': True,\n",
       "     'label': 'ReachCode',\n",
       "     'visible': True},\n",
       "    {'fieldName': 'RESOLUTION',\n",
       "     'format': {'digitSeparator': True, 'places': 0},\n",
       "     'isEditable': True,\n",
       "     'label': 'Resolution',\n",
       "     'visible': True},\n",
       "    {'fieldName': 'SHAPE_Area',\n",
       "     'format': {'digitSeparator': True, 'places': 2},\n",
       "     'isEditable': True,\n",
       "     'label': 'SHAPE_Area',\n",
       "     'visible': False},\n",
       "    {'fieldName': 'SHAPE_Length',\n",
       "     'format': {'digitSeparator': True, 'places': 2},\n",
       "     'isEditable': True,\n",
       "     'label': 'SHAPE_Length',\n",
       "     'visible': False},\n",
       "    {'fieldName': 'STATUS',\n",
       "     'isEditable': True,\n",
       "     'label': 'STATUS',\n",
       "     'visible': True},\n",
       "    {'fieldName': 'TYPE12',\n",
       "     'isEditable': True,\n",
       "     'label': 'TYPE12',\n",
       "     'visible': True},\n",
       "    {'fieldName': 'TYPE15',\n",
       "     'isEditable': True,\n",
       "     'label': 'TYPE15',\n",
       "     'visible': True},\n",
       "    {'fieldName': 'WATERBODY_NAME',\n",
       "     'isEditable': True,\n",
       "     'label': 'Waterbody Name',\n",
       "     'visible': True}],\n",
       "   'title': 'Land Use Land Cover of New Jersey 2015 - Land Use 2015: {LABEL15}'}}]"
      ]
     },
     "execution_count": 3,
     "metadata": {},
     "output_type": "execute_result"
    }
   ],
   "source": [
    "webmap_data[\"operationalLayers\"]"
   ]
  },
  {
   "cell_type": "code",
   "execution_count": 4,
   "metadata": {},
   "outputs": [
    {
     "name": "stdout",
     "output_type": "stream",
     "text": [
      "Found 1 operational layers.\n",
      "Layer Name: Land Use Land Cover of New Jersey 2015 - Land Use 2015, URL: https://mapsdep.nj.gov/arcgis/rest/services/Features/Land_lu/MapServer/13\n"
     ]
    }
   ],
   "source": [
    "# https://developers.arcgis.com/web-map-specification/objects/operationalLayers/\n",
    "operational_layers = webmap_data[\"operationalLayers\"]\n",
    "print(f\"Found {len(operational_layers)} operational layers.\")\n",
    "    \n",
    "# Loop through each operational layer\n",
    "print(f\"Layer Name: {operational_layers[0].get('title')}, URL: {operational_layers[0].get('url')}\")\n",
    "\n"
   ]
  },
  {
   "cell_type": "code",
   "execution_count": 5,
   "metadata": {},
   "outputs": [
    {
     "name": "stdout",
     "output_type": "stream",
     "text": [
      "Found 18 features in the layer.\n",
      "{'OBJECTID': 371923, 'ACRES': 2.43043655, 'LU15': 1130, 'LABEL15': 'RESIDENTIAL, SINGLE UNIT, LOW DENSITY', 'TYPE15': 'URBAN', 'IS15': 12.82607141, 'ISACRES15': 0.31172953000000003, 'DV15': 0, 'LU12': 1130, 'LABEL12': 'RESIDENTIAL, SINGLE UNIT, LOW DENSITY', 'TYPE12': 'URBAN', 'IS12': 10, 'ISACRES12': 0.24304366, 'DV12': 0, 'CHANGE15': 0, 'ISCHANGE15': 1, 'HU8': '02040105', 'STATUS': 'DRAFT', 'APPROVED': '01/28/19', 'COMID': None, 'PERMANENT_IDENTIFIER': None, 'FDATE': None, 'RESOLUTION': None, 'GNIS_ID': None, 'GNIS_NAME': None, 'AREASQKM': None, 'ELEVATION': None, 'REACHCODE': None, 'FTYPE': None, 'FCODE': None, 'FTYPE_DESCRIPTION': None, 'FCODE_DESCRIPTION': None, 'FTYPE_DISPLAY': None, 'NHD_FEATURECLASS': None, 'WATERBODY_NAME': None, 'FEATURE_ID': None, 'FEATURE_NAME': None, 'FEATURE_CLASS': None, 'LEVELELEV': None, 'GLOBALID': '{626BFC03-091E-4DB2-B848-74FD09E020E4}', 'SHAPE_Length': 1291.7361634679703, 'SHAPE_Area': 105869.3928495188, 'CREATED_USER': 'DEP', 'CREATED_DATE': 1548667156000, 'LAST_EDITED_USER': None, 'LAST_EDITED_DATE': None}\n",
      "{'OBJECTID': 376716, 'ACRES': 8.35899046, 'LU15': 1140, 'LABEL15': 'RESIDENTIAL, RURAL, SINGLE UNIT', 'TYPE15': 'URBAN', 'IS15': 13.57034977, 'ISACRES15': 1.13434424, 'DV15': 0, 'LU12': 1140, 'LABEL12': 'RESIDENTIAL, RURAL, SINGLE UNIT', 'TYPE12': 'URBAN', 'IS12': 15, 'ISACRES12': 1.25384857, 'DV12': 0, 'CHANGE15': 0, 'ISCHANGE15': 0, 'HU8': '02040105', 'STATUS': 'DRAFT', 'APPROVED': '01/28/19', 'COMID': None, 'PERMANENT_IDENTIFIER': None, 'FDATE': None, 'RESOLUTION': None, 'GNIS_ID': None, 'GNIS_NAME': None, 'AREASQKM': None, 'ELEVATION': None, 'REACHCODE': None, 'FTYPE': None, 'FCODE': None, 'FTYPE_DESCRIPTION': None, 'FCODE_DESCRIPTION': None, 'FTYPE_DISPLAY': None, 'NHD_FEATURECLASS': None, 'WATERBODY_NAME': None, 'FEATURE_ID': None, 'FEATURE_NAME': None, 'FEATURE_CLASS': None, 'LEVELELEV': None, 'GLOBALID': '{62E4507C-7C38-4E3E-A035-74A7A2FD6CAF}', 'SHAPE_Length': 3555.2220169003554, 'SHAPE_Area': 364116.1679749123, 'CREATED_USER': 'DEP', 'CREATED_DATE': 1548667156000, 'LAST_EDITED_USER': None, 'LAST_EDITED_DATE': None}\n",
      "{'OBJECTID': 376735, 'ACRES': 30.99108292, 'LU15': 1140, 'LABEL15': 'RESIDENTIAL, RURAL, SINGLE UNIT', 'TYPE15': 'URBAN', 'IS15': 16.33936811, 'ISACRES15': 5.06374712, 'DV15': 0, 'LU12': 1140, 'LABEL12': 'RESIDENTIAL, RURAL, SINGLE UNIT', 'TYPE12': 'URBAN', 'IS12': 10, 'ISACRES12': 3.09910921, 'DV12': 0, 'CHANGE15': 0, 'ISCHANGE15': 1, 'HU8': '02040105', 'STATUS': 'DRAFT', 'APPROVED': '01/28/19', 'COMID': None, 'PERMANENT_IDENTIFIER': None, 'FDATE': None, 'RESOLUTION': None, 'GNIS_ID': None, 'GNIS_NAME': None, 'AREASQKM': None, 'ELEVATION': None, 'REACHCODE': None, 'FTYPE': None, 'FCODE': None, 'FTYPE_DESCRIPTION': None, 'FCODE_DESCRIPTION': None, 'FTYPE_DISPLAY': None, 'NHD_FEATURECLASS': None, 'WATERBODY_NAME': None, 'FEATURE_ID': None, 'FEATURE_NAME': None, 'FEATURE_CLASS': None, 'LEVELELEV': None, 'GLOBALID': '{F47247BC-2694-40E9-8DEA-B3720B1FDB91}', 'SHAPE_Length': 10037.17966567571, 'SHAPE_Area': 1349966.1720263178, 'CREATED_USER': 'DEP', 'CREATED_DATE': 1548667156000, 'LAST_EDITED_USER': None, 'LAST_EDITED_DATE': None}\n",
      "{'OBJECTID': 376744, 'ACRES': 12.18262195, 'LU15': 1140, 'LABEL15': 'RESIDENTIAL, RURAL, SINGLE UNIT', 'TYPE15': 'URBAN', 'IS15': 19.64479018, 'ISACRES15': 2.39325052, 'DV15': 0, 'LU12': 1140, 'LABEL12': 'RESIDENTIAL, RURAL, SINGLE UNIT', 'TYPE12': 'URBAN', 'IS12': 15, 'ISACRES12': 1.82738263, 'DV12': 0, 'CHANGE15': 0, 'ISCHANGE15': 1, 'HU8': '02040105', 'STATUS': 'DRAFT', 'APPROVED': '01/28/19', 'COMID': None, 'PERMANENT_IDENTIFIER': None, 'FDATE': None, 'RESOLUTION': None, 'GNIS_ID': None, 'GNIS_NAME': None, 'AREASQKM': None, 'ELEVATION': None, 'REACHCODE': None, 'FTYPE': None, 'FCODE': None, 'FTYPE_DESCRIPTION': None, 'FCODE_DESCRIPTION': None, 'FTYPE_DISPLAY': None, 'NHD_FEATURECLASS': None, 'WATERBODY_NAME': None, 'FEATURE_ID': None, 'FEATURE_NAME': None, 'FEATURE_CLASS': None, 'LEVELELEV': None, 'GLOBALID': '{236291C1-73DF-44F6-9528-52CF821C23BF}', 'SHAPE_Length': 7849.074235109121, 'SHAPE_Area': 530672.8895802363, 'CREATED_USER': 'DEP', 'CREATED_DATE': 1548667156000, 'LAST_EDITED_USER': None, 'LAST_EDITED_DATE': None}\n",
      "{'OBJECTID': 406231, 'ACRES': 76.80337262, 'LU15': 2100, 'LABEL15': 'CROPLAND AND PASTURELAND', 'TYPE15': 'AGRICULTURE', 'IS15': 0.7277461000000001, 'ISACRES15': 0.55893355, 'DV15': 0, 'LU12': 2100, 'LABEL12': 'CROPLAND AND PASTURELAND', 'TYPE12': 'AGRICULTURE', 'IS12': 0, 'ISACRES12': 0, 'DV12': 0, 'CHANGE15': 0, 'ISCHANGE15': 1, 'HU8': '02040105', 'STATUS': 'DRAFT', 'APPROVED': '01/28/19', 'COMID': None, 'PERMANENT_IDENTIFIER': None, 'FDATE': None, 'RESOLUTION': None, 'GNIS_ID': None, 'GNIS_NAME': None, 'AREASQKM': None, 'ELEVATION': None, 'REACHCODE': None, 'FTYPE': None, 'FCODE': None, 'FTYPE_DESCRIPTION': None, 'FCODE_DESCRIPTION': None, 'FTYPE_DISPLAY': None, 'NHD_FEATURECLASS': None, 'WATERBODY_NAME': None, 'FEATURE_ID': None, 'FEATURE_NAME': None, 'FEATURE_CLASS': None, 'LEVELELEV': None, 'GLOBALID': '{8A37E359-A76D-4ECC-9DC8-79FA498D24F9}', 'SHAPE_Length': 14458.94341323741, 'SHAPE_Area': 3345541.5290280515, 'CREATED_USER': 'DEP', 'CREATED_DATE': 1548667156000, 'LAST_EDITED_USER': None, 'LAST_EDITED_DATE': None}\n",
      "{'OBJECTID': 409391, 'ACRES': 1.03446777, 'LU15': 2140, 'LABEL15': 'AGRICULTURAL WETLANDS (MODIFIED)', 'TYPE15': 'WETLANDS', 'IS15': 0, 'ISACRES15': 0, 'DV15': 0, 'LU12': 2140, 'LABEL12': 'AGRICULTURAL WETLANDS (MODIFIED)', 'TYPE12': 'WETLANDS', 'IS12': 0, 'ISACRES12': 0, 'DV12': 0, 'CHANGE15': 0, 'ISCHANGE15': 0, 'HU8': '02040105', 'STATUS': 'DRAFT', 'APPROVED': '01/28/19', 'COMID': None, 'PERMANENT_IDENTIFIER': None, 'FDATE': None, 'RESOLUTION': None, 'GNIS_ID': None, 'GNIS_NAME': None, 'AREASQKM': None, 'ELEVATION': None, 'REACHCODE': None, 'FTYPE': None, 'FCODE': None, 'FTYPE_DESCRIPTION': None, 'FCODE_DESCRIPTION': None, 'FTYPE_DISPLAY': None, 'NHD_FEATURECLASS': None, 'WATERBODY_NAME': None, 'FEATURE_ID': None, 'FEATURE_NAME': None, 'FEATURE_CLASS': None, 'LEVELELEV': None, 'GLOBALID': '{9B1CB167-5D96-4593-BD55-8A1E5EB043AD}', 'SHAPE_Length': 1214.8954096449606, 'SHAPE_Area': 45061.23567048018, 'CREATED_USER': 'DEP', 'CREATED_DATE': 1548667156000, 'LAST_EDITED_USER': None, 'LAST_EDITED_DATE': None}\n",
      "{'OBJECTID': 409392, 'ACRES': 2.75361212, 'LU15': 2140, 'LABEL15': 'AGRICULTURAL WETLANDS (MODIFIED)', 'TYPE15': 'WETLANDS', 'IS15': 0, 'ISACRES15': 0, 'DV15': 0, 'LU12': 2140, 'LABEL12': 'AGRICULTURAL WETLANDS (MODIFIED)', 'TYPE12': 'WETLANDS', 'IS12': 0, 'ISACRES12': 0, 'DV12': 0, 'CHANGE15': 0, 'ISCHANGE15': 0, 'HU8': '02040105', 'STATUS': 'DRAFT', 'APPROVED': '01/28/19', 'COMID': None, 'PERMANENT_IDENTIFIER': None, 'FDATE': None, 'RESOLUTION': None, 'GNIS_ID': None, 'GNIS_NAME': None, 'AREASQKM': None, 'ELEVATION': None, 'REACHCODE': None, 'FTYPE': None, 'FCODE': None, 'FTYPE_DESCRIPTION': None, 'FCODE_DESCRIPTION': None, 'FTYPE_DISPLAY': None, 'NHD_FEATURECLASS': None, 'WATERBODY_NAME': None, 'FEATURE_ID': None, 'FEATURE_NAME': None, 'FEATURE_CLASS': None, 'LEVELELEV': None, 'GLOBALID': '{E4601E9B-C601-43A5-87B5-BE9099453A68}', 'SHAPE_Length': 1854.8692063973785, 'SHAPE_Area': 119946.86422262242, 'CREATED_USER': 'DEP', 'CREATED_DATE': 1548667156000, 'LAST_EDITED_USER': None, 'LAST_EDITED_DATE': None}\n",
      "{'OBJECTID': 414024, 'ACRES': 3.50250164, 'LU15': 4110, 'LABEL15': 'DECIDUOUS FOREST (10-50% CROWN CLOSURE)', 'TYPE15': 'FOREST', 'IS15': 0.9479073, 'ISACRES15': 0.03320047, 'DV15': 0, 'LU12': 4110, 'LABEL12': 'DECIDUOUS FOREST (10-50% CROWN CLOSURE)', 'TYPE12': 'FOREST', 'IS12': 0, 'ISACRES12': 0, 'DV12': 0, 'CHANGE15': 0, 'ISCHANGE15': 1, 'HU8': '02040105', 'STATUS': 'DRAFT', 'APPROVED': '01/28/19', 'COMID': None, 'PERMANENT_IDENTIFIER': None, 'FDATE': None, 'RESOLUTION': None, 'GNIS_ID': None, 'GNIS_NAME': None, 'AREASQKM': None, 'ELEVATION': None, 'REACHCODE': None, 'FTYPE': None, 'FCODE': None, 'FTYPE_DESCRIPTION': None, 'FCODE_DESCRIPTION': None, 'FTYPE_DISPLAY': None, 'NHD_FEATURECLASS': None, 'WATERBODY_NAME': None, 'FEATURE_ID': None, 'FEATURE_NAME': None, 'FEATURE_CLASS': None, 'LEVELELEV': None, 'GLOBALID': '{3836422A-0712-4728-8F4B-7448BBD746FD}', 'SHAPE_Length': 3327.8350068656614, 'SHAPE_Area': 152568.36122927823, 'CREATED_USER': 'DEP', 'CREATED_DATE': 1548667156000, 'LAST_EDITED_USER': None, 'LAST_EDITED_DATE': None}\n",
      "{'OBJECTID': 419968, 'ACRES': 2.48227812, 'LU15': 4120, 'LABEL15': 'DECIDUOUS FOREST (>50% CROWN CLOSURE)', 'TYPE15': 'FOREST', 'IS15': 0, 'ISACRES15': 0, 'DV15': 0, 'LU12': 4120, 'LABEL12': 'DECIDUOUS FOREST (>50% CROWN CLOSURE)', 'TYPE12': 'FOREST', 'IS12': 0, 'ISACRES12': 0, 'DV12': 0, 'CHANGE15': 0, 'ISCHANGE15': 0, 'HU8': '02040105', 'STATUS': 'DRAFT', 'APPROVED': '01/28/19', 'COMID': None, 'PERMANENT_IDENTIFIER': None, 'FDATE': None, 'RESOLUTION': None, 'GNIS_ID': None, 'GNIS_NAME': None, 'AREASQKM': None, 'ELEVATION': None, 'REACHCODE': None, 'FTYPE': None, 'FCODE': None, 'FTYPE_DESCRIPTION': None, 'FCODE_DESCRIPTION': None, 'FTYPE_DISPLAY': None, 'NHD_FEATURECLASS': None, 'WATERBODY_NAME': None, 'FEATURE_ID': None, 'FEATURE_NAME': None, 'FEATURE_CLASS': None, 'LEVELELEV': None, 'GLOBALID': '{8DAF8BEB-AF95-4A42-A9E1-FD002DAA7791}', 'SHAPE_Length': 3402.503592515022, 'SHAPE_Area': 108127.60236727513, 'CREATED_USER': 'DEP', 'CREATED_DATE': 1548667156000, 'LAST_EDITED_USER': None, 'LAST_EDITED_DATE': None}\n",
      "{'OBJECTID': 419983, 'ACRES': 14.1049625, 'LU15': 4120, 'LABEL15': 'DECIDUOUS FOREST (>50% CROWN CLOSURE)', 'TYPE15': 'FOREST', 'IS15': 2.10424492, 'ISACRES15': 0.29680296, 'DV15': 0, 'LU12': 4120, 'LABEL12': 'DECIDUOUS FOREST (>50% CROWN CLOSURE)', 'TYPE12': 'FOREST', 'IS12': 0, 'ISACRES12': 0, 'DV12': 0, 'CHANGE15': 0, 'ISCHANGE15': 1, 'HU8': '02040105', 'STATUS': 'DRAFT', 'APPROVED': '01/28/19', 'COMID': None, 'PERMANENT_IDENTIFIER': None, 'FDATE': None, 'RESOLUTION': None, 'GNIS_ID': None, 'GNIS_NAME': None, 'AREASQKM': None, 'ELEVATION': None, 'REACHCODE': None, 'FTYPE': None, 'FCODE': None, 'FTYPE_DESCRIPTION': None, 'FCODE_DESCRIPTION': None, 'FTYPE_DISPLAY': None, 'NHD_FEATURECLASS': None, 'WATERBODY_NAME': None, 'FEATURE_ID': None, 'FEATURE_NAME': None, 'FEATURE_CLASS': None, 'LEVELELEV': None, 'GLOBALID': '{33BF5616-7025-4C54-B558-8A759FF5C702}', 'SHAPE_Length': 6795.472757485243, 'SHAPE_Area': 614409.7086478288, 'CREATED_USER': 'DEP', 'CREATED_DATE': 1548667156000, 'LAST_EDITED_USER': None, 'LAST_EDITED_DATE': None}\n",
      "{'OBJECTID': 427126, 'ACRES': 3.33113801, 'LU15': 4230, 'LABEL15': 'PLANTATION', 'TYPE15': 'FOREST', 'IS15': 0.07295286000000001, 'ISACRES15': 0.0024301600000000002, 'DV15': 0, 'LU12': 4230, 'LABEL12': 'PLANTATION', 'TYPE12': 'FOREST', 'IS12': 0, 'ISACRES12': 0, 'DV12': 0, 'CHANGE15': 0, 'ISCHANGE15': 1, 'HU8': '02040105', 'STATUS': 'DRAFT', 'APPROVED': '01/28/19', 'COMID': None, 'PERMANENT_IDENTIFIER': None, 'FDATE': None, 'RESOLUTION': None, 'GNIS_ID': None, 'GNIS_NAME': None, 'AREASQKM': None, 'ELEVATION': None, 'REACHCODE': None, 'FTYPE': None, 'FCODE': None, 'FTYPE_DESCRIPTION': None, 'FCODE_DESCRIPTION': None, 'FTYPE_DISPLAY': None, 'NHD_FEATURECLASS': None, 'WATERBODY_NAME': None, 'FEATURE_ID': None, 'FEATURE_NAME': None, 'FEATURE_CLASS': None, 'LEVELELEV': None, 'GLOBALID': '{0DB23D8D-26E2-4EA6-A811-E1CDBF005C26}', 'SHAPE_Length': 2165.4731273907714, 'SHAPE_Area': 145103.79129750648, 'CREATED_USER': 'DEP', 'CREATED_DATE': 1548667156000, 'LAST_EDITED_USER': None, 'LAST_EDITED_DATE': None}\n",
      "{'OBJECTID': 427801, 'ACRES': 2.06369776, 'LU15': 4312, 'LABEL15': 'MIXED FOREST (>50% CONIFEROUS WITH >50% CROWN CLOSURE)', 'TYPE15': 'FOREST', 'IS15': 0, 'ISACRES15': 0, 'DV15': 0, 'LU12': 4312, 'LABEL12': 'MIXED FOREST (>50% CONIFEROUS WITH >50% CROWN CLOSURE)', 'TYPE12': 'FOREST', 'IS12': 0, 'ISACRES12': 0, 'DV12': 0, 'CHANGE15': 0, 'ISCHANGE15': 0, 'HU8': '02040105', 'STATUS': 'DRAFT', 'APPROVED': '01/28/19', 'COMID': None, 'PERMANENT_IDENTIFIER': None, 'FDATE': None, 'RESOLUTION': None, 'GNIS_ID': None, 'GNIS_NAME': None, 'AREASQKM': None, 'ELEVATION': None, 'REACHCODE': None, 'FTYPE': None, 'FCODE': None, 'FTYPE_DESCRIPTION': None, 'FCODE_DESCRIPTION': None, 'FTYPE_DISPLAY': None, 'NHD_FEATURECLASS': None, 'WATERBODY_NAME': None, 'FEATURE_ID': None, 'FEATURE_NAME': None, 'FEATURE_CLASS': None, 'LEVELELEV': None, 'GLOBALID': '{4FD625C4-D4A2-42BB-ACC8-A66858CA40D6}', 'SHAPE_Length': 1290.0129468316327, 'SHAPE_Area': 89894.31473877869, 'CREATED_USER': 'DEP', 'CREATED_DATE': 1548667156000, 'LAST_EDITED_USER': None, 'LAST_EDITED_DATE': None}\n",
      "{'OBJECTID': 435138, 'ACRES': 33.59298344, 'LU15': 4440, 'LABEL15': 'MIXED DECIDUOUS/CONIFEROUS BRUSH/SHRUBLAND', 'TYPE15': 'FOREST', 'IS15': 1.1625388700000001, 'ISACRES15': 0.39053149, 'DV15': 0, 'LU12': 4440, 'LABEL12': 'MIXED DECIDUOUS/CONIFEROUS BRUSH/SHRUBLAND', 'TYPE12': 'FOREST', 'IS12': 0, 'ISACRES12': 0, 'DV12': 0, 'CHANGE15': 0, 'ISCHANGE15': 1, 'HU8': '02040105', 'STATUS': 'DRAFT', 'APPROVED': '01/28/19', 'COMID': None, 'PERMANENT_IDENTIFIER': None, 'FDATE': None, 'RESOLUTION': None, 'GNIS_ID': None, 'GNIS_NAME': None, 'AREASQKM': None, 'ELEVATION': None, 'REACHCODE': None, 'FTYPE': None, 'FCODE': None, 'FTYPE_DESCRIPTION': None, 'FCODE_DESCRIPTION': None, 'FTYPE_DISPLAY': None, 'NHD_FEATURECLASS': None, 'WATERBODY_NAME': None, 'FEATURE_ID': None, 'FEATURE_NAME': None, 'FEATURE_CLASS': None, 'LEVELELEV': None, 'GLOBALID': '{D689423A-3555-42CD-902A-B495365DBD10}', 'SHAPE_Length': 6881.323361779854, 'SHAPE_Area': 1463304.5054449765, 'CREATED_USER': 'DEP', 'CREATED_DATE': 1548667156000, 'LAST_EDITED_USER': None, 'LAST_EDITED_DATE': None}\n",
      "{'OBJECTID': 445893, 'ACRES': 3.90208254, 'LU15': 6210, 'LABEL15': 'DECIDUOUS WOODED WETLANDS', 'TYPE15': 'WETLANDS', 'IS15': 0.37569125000000003, 'ISACRES15': 0.01465978, 'DV15': 0, 'LU12': 6210, 'LABEL12': 'DECIDUOUS WOODED WETLANDS', 'TYPE12': 'WETLANDS', 'IS12': 0, 'ISACRES12': 0, 'DV12': 0, 'CHANGE15': 0, 'ISCHANGE15': 1, 'HU8': '02040105', 'STATUS': 'DRAFT', 'APPROVED': '01/28/19', 'COMID': None, 'PERMANENT_IDENTIFIER': None, 'FDATE': None, 'RESOLUTION': None, 'GNIS_ID': None, 'GNIS_NAME': None, 'AREASQKM': None, 'ELEVATION': None, 'REACHCODE': None, 'FTYPE': None, 'FCODE': None, 'FTYPE_DESCRIPTION': None, 'FCODE_DESCRIPTION': None, 'FTYPE_DISPLAY': None, 'NHD_FEATURECLASS': None, 'WATERBODY_NAME': None, 'FEATURE_ID': None, 'FEATURE_NAME': None, 'FEATURE_CLASS': None, 'LEVELELEV': None, 'GLOBALID': '{1ADED42D-1977-4EAD-866F-426B4DC86207}', 'SHAPE_Length': 4076.698714751085, 'SHAPE_Area': 169974.03536711037, 'CREATED_USER': 'DEP', 'CREATED_DATE': 1548667156000, 'LAST_EDITED_USER': None, 'LAST_EDITED_DATE': None}\n",
      "{'OBJECTID': 445894, 'ACRES': 1.26870896, 'LU15': 6210, 'LABEL15': 'DECIDUOUS WOODED WETLANDS', 'TYPE15': 'WETLANDS', 'IS15': 0.16565872, 'ISACRES15': 0.00210173, 'DV15': 0, 'LU12': 6210, 'LABEL12': 'DECIDUOUS WOODED WETLANDS', 'TYPE12': 'WETLANDS', 'IS12': 0, 'ISACRES12': 0, 'DV12': 0, 'CHANGE15': 0, 'ISCHANGE15': 1, 'HU8': '02040105', 'STATUS': 'DRAFT', 'APPROVED': '01/28/19', 'COMID': None, 'PERMANENT_IDENTIFIER': None, 'FDATE': None, 'RESOLUTION': None, 'GNIS_ID': None, 'GNIS_NAME': None, 'AREASQKM': None, 'ELEVATION': None, 'REACHCODE': None, 'FTYPE': None, 'FCODE': None, 'FTYPE_DESCRIPTION': None, 'FCODE_DESCRIPTION': None, 'FTYPE_DISPLAY': None, 'NHD_FEATURECLASS': None, 'WATERBODY_NAME': None, 'FEATURE_ID': None, 'FEATURE_NAME': None, 'FEATURE_CLASS': None, 'LEVELELEV': None, 'GLOBALID': '{4767544B-538A-4C83-8420-C026FD30855B}', 'SHAPE_Length': 1197.9996564247604, 'SHAPE_Area': 55264.74106916957, 'CREATED_USER': 'DEP', 'CREATED_DATE': 1548667156000, 'LAST_EDITED_USER': None, 'LAST_EDITED_DATE': None}\n",
      "{'OBJECTID': 445909, 'ACRES': 13.96581595, 'LU15': 6210, 'LABEL15': 'DECIDUOUS WOODED WETLANDS', 'TYPE15': 'WETLANDS', 'IS15': 0.13453013, 'ISACRES15': 0.01878823, 'DV15': 0, 'LU12': 6210, 'LABEL12': 'DECIDUOUS WOODED WETLANDS', 'TYPE12': 'WETLANDS', 'IS12': 0, 'ISACRES12': 0, 'DV12': 0, 'CHANGE15': 0, 'ISCHANGE15': 1, 'HU8': '02040105', 'STATUS': 'DRAFT', 'APPROVED': '01/28/19', 'COMID': None, 'PERMANENT_IDENTIFIER': None, 'FDATE': None, 'RESOLUTION': None, 'GNIS_ID': None, 'GNIS_NAME': None, 'AREASQKM': None, 'ELEVATION': None, 'REACHCODE': None, 'FTYPE': None, 'FCODE': None, 'FTYPE_DESCRIPTION': None, 'FCODE_DESCRIPTION': None, 'FTYPE_DISPLAY': None, 'NHD_FEATURECLASS': None, 'WATERBODY_NAME': None, 'FEATURE_ID': None, 'FEATURE_NAME': None, 'FEATURE_CLASS': None, 'LEVELELEV': None, 'GLOBALID': '{6B92FC27-43D9-47CE-9CAB-E09AAEE50F61}', 'SHAPE_Length': 6246.23055564282, 'SHAPE_Area': 608348.5094206033, 'CREATED_USER': 'DEP', 'CREATED_DATE': 1548667156000, 'LAST_EDITED_USER': None, 'LAST_EDITED_DATE': None}\n",
      "{'OBJECTID': 445924, 'ACRES': 10.45470416, 'LU15': 6210, 'LABEL15': 'DECIDUOUS WOODED WETLANDS', 'TYPE15': 'WETLANDS', 'IS15': 0.59624189, 'ISACRES15': 0.06233533, 'DV15': 0, 'LU12': 6210, 'LABEL12': 'DECIDUOUS WOODED WETLANDS', 'TYPE12': 'WETLANDS', 'IS12': 0, 'ISACRES12': 0, 'DV12': 0, 'CHANGE15': 0, 'ISCHANGE15': 1, 'HU8': '02040105', 'STATUS': 'DRAFT', 'APPROVED': '01/28/19', 'COMID': None, 'PERMANENT_IDENTIFIER': None, 'FDATE': None, 'RESOLUTION': None, 'GNIS_ID': None, 'GNIS_NAME': None, 'AREASQKM': None, 'ELEVATION': None, 'REACHCODE': None, 'FTYPE': None, 'FCODE': None, 'FTYPE_DESCRIPTION': None, 'FCODE_DESCRIPTION': None, 'FTYPE_DISPLAY': None, 'NHD_FEATURECLASS': None, 'WATERBODY_NAME': None, 'FEATURE_ID': None, 'FEATURE_NAME': None, 'FEATURE_CLASS': None, 'LEVELELEV': None, 'GLOBALID': '{0CB8D553-593D-42F4-8893-7E2A434B50DD}', 'SHAPE_Length': 4192.013173831012, 'SHAPE_Area': 455405.09140458406, 'CREATED_USER': 'DEP', 'CREATED_DATE': 1548667156000, 'LAST_EDITED_USER': None, 'LAST_EDITED_DATE': None}\n",
      "{'OBJECTID': 446041, 'ACRES': 98.3542633, 'LU15': 6210, 'LABEL15': 'DECIDUOUS WOODED WETLANDS', 'TYPE15': 'WETLANDS', 'IS15': 0.00013681, 'ISACRES15': 0.00013456, 'DV15': 0, 'LU12': 6210, 'LABEL12': 'DECIDUOUS WOODED WETLANDS', 'TYPE12': 'WETLANDS', 'IS12': 0, 'ISACRES12': 0, 'DV12': 0, 'CHANGE15': 0, 'ISCHANGE15': 1, 'HU8': '02040105', 'STATUS': 'DRAFT', 'APPROVED': '01/28/19', 'COMID': None, 'PERMANENT_IDENTIFIER': None, 'FDATE': None, 'RESOLUTION': None, 'GNIS_ID': None, 'GNIS_NAME': None, 'AREASQKM': None, 'ELEVATION': None, 'REACHCODE': None, 'FTYPE': None, 'FCODE': None, 'FTYPE_DESCRIPTION': None, 'FCODE_DESCRIPTION': None, 'FTYPE_DISPLAY': None, 'NHD_FEATURECLASS': None, 'WATERBODY_NAME': None, 'FEATURE_ID': None, 'FEATURE_NAME': None, 'FEATURE_CLASS': None, 'LEVELELEV': None, 'GLOBALID': '{32260AFE-C1B4-416A-91B6-373DC8D554A3}', 'SHAPE_Length': 22858.028800779855, 'SHAPE_Area': 4284294.572016533, 'CREATED_USER': 'DEP', 'CREATED_DATE': 1548667156000, 'LAST_EDITED_USER': None, 'LAST_EDITED_DATE': None}\n"
     ]
    }
   ],
   "source": [
    "# URL of the operational layer\n",
    "layer_url = operational_layers[0].get('url')\n",
    "\n",
    "# Access the layer\n",
    "# https://developers.arcgis.com/python/api-reference/arcgis.features.toc.html\n",
    "layer = arcgis.features.FeatureLayer(layer_url)\n",
    "\n",
    "# Query the layer for features that intersect with the area of interest\n",
    "features = layer.query(geometry_filter=arcgis.geometry.filters.intersects(area_of_interest))\n",
    "\n",
    "# Check features\n",
    "print(f\"Found {len(features)} features in the layer.\")\n",
    "\n",
    "# View the feature attributes\n",
    "for feature in features:\n",
    "    print(feature.attributes)\n"
   ]
  },
  {
   "cell_type": "code",
   "execution_count": 6,
   "metadata": {},
   "outputs": [
    {
     "name": "stdout",
     "output_type": "stream",
     "text": [
      "    Object_ID                                             Region      Acres  \\\n",
      "0      371923              RESIDENTIAL, SINGLE UNIT, LOW DENSITY   2.430437   \n",
      "1      376716                    RESIDENTIAL, RURAL, SINGLE UNIT   8.358990   \n",
      "2      376735                    RESIDENTIAL, RURAL, SINGLE UNIT  30.991083   \n",
      "3      376744                    RESIDENTIAL, RURAL, SINGLE UNIT  12.182622   \n",
      "4      406231                           CROPLAND AND PASTURELAND  76.803373   \n",
      "5      409391                   AGRICULTURAL WETLANDS (MODIFIED)   1.034468   \n",
      "6      409392                   AGRICULTURAL WETLANDS (MODIFIED)   2.753612   \n",
      "7      414024            DECIDUOUS FOREST (10-50% CROWN CLOSURE)   3.502502   \n",
      "8      419968              DECIDUOUS FOREST (>50% CROWN CLOSURE)   2.482278   \n",
      "9      419983              DECIDUOUS FOREST (>50% CROWN CLOSURE)  14.104962   \n",
      "10     427126                                         PLANTATION   3.331138   \n",
      "11     427801  MIXED FOREST (>50% CONIFEROUS WITH >50% CROWN ...   2.063698   \n",
      "12     435138         MIXED DECIDUOUS/CONIFEROUS BRUSH/SHRUBLAND  33.592983   \n",
      "13     445893                          DECIDUOUS WOODED WETLANDS   3.902083   \n",
      "14     445894                          DECIDUOUS WOODED WETLANDS   1.268709   \n",
      "15     445909                          DECIDUOUS WOODED WETLANDS  13.965816   \n",
      "16     445924                          DECIDUOUS WOODED WETLANDS  10.454704   \n",
      "17     446041                          DECIDUOUS WOODED WETLANDS  98.354263   \n",
      "\n",
      "    Area (sq meters)  \n",
      "0       1.058694e+05  \n",
      "1       3.641162e+05  \n",
      "2       1.349966e+06  \n",
      "3       5.306729e+05  \n",
      "4       3.345542e+06  \n",
      "5       4.506124e+04  \n",
      "6       1.199469e+05  \n",
      "7       1.525684e+05  \n",
      "8       1.081276e+05  \n",
      "9       6.144097e+05  \n",
      "10      1.451038e+05  \n",
      "11      8.989431e+04  \n",
      "12      1.463305e+06  \n",
      "13      1.699740e+05  \n",
      "14      5.526474e+04  \n",
      "15      6.083485e+05  \n",
      "16      4.554051e+05  \n",
      "17      4.284295e+06  \n"
     ]
    }
   ],
   "source": [
    "# Store in a dataframe\n",
    "intersection_data = pd.DataFrame(columns=['Object_ID', 'Region', 'Acres', 'Area (sq meters)'])\n",
    "\n",
    "# Loop through the features\n",
    "# TODO: get only area within the area of interest and combine like regions\n",
    "for feature in features:\n",
    "    # Extract the object ID, region label, and area\n",
    "    object_id = feature.attributes['OBJECTID']\n",
    "    region_label = feature.attributes['LABEL15']\n",
    "    region_acres = feature.attributes['ACRES']\n",
    "    region_area = feature.attributes['SHAPE_Area']\n",
    "    intersection_data.loc[len(intersection_data)] = {'Object_ID': object_id, 'Region': region_label, 'Acres': region_acres, 'Area (sq meters)': region_area}\n",
    "    #intersection_data = intersection_data.append({'Region': region_label, 'Area (sq meters)': region_area}, ignore_index=True)\n",
    "\n",
    "print(intersection_data)\n"
   ]
  },
  {
   "attachments": {},
   "cell_type": "markdown",
   "metadata": {},
   "source": [
    "Try the `overlaps` filter. Will check the object IDs online to see how these compare to what we can see.\n",
    "\n",
    "Object IDs don't show up in web interface (neither does the square meter Area estimate, which is a bit high). However, it seems that `overlaps` does not count land use segments completely contained within `area_of_interest`. Comparing the differences could then be used to tell us which should be counted in full."
   ]
  },
  {
   "cell_type": "code",
   "execution_count": 7,
   "metadata": {},
   "outputs": [
    {
     "name": "stdout",
     "output_type": "stream",
     "text": [
      "Found 11 features in the layer.\n",
      "{'OBJECTID': 376716, 'ACRES': 8.35899046, 'LU15': 1140, 'LABEL15': 'RESIDENTIAL, RURAL, SINGLE UNIT', 'TYPE15': 'URBAN', 'IS15': 13.57034977, 'ISACRES15': 1.13434424, 'DV15': 0, 'LU12': 1140, 'LABEL12': 'RESIDENTIAL, RURAL, SINGLE UNIT', 'TYPE12': 'URBAN', 'IS12': 15, 'ISACRES12': 1.25384857, 'DV12': 0, 'CHANGE15': 0, 'ISCHANGE15': 0, 'HU8': '02040105', 'STATUS': 'DRAFT', 'APPROVED': '01/28/19', 'COMID': None, 'PERMANENT_IDENTIFIER': None, 'FDATE': None, 'RESOLUTION': None, 'GNIS_ID': None, 'GNIS_NAME': None, 'AREASQKM': None, 'ELEVATION': None, 'REACHCODE': None, 'FTYPE': None, 'FCODE': None, 'FTYPE_DESCRIPTION': None, 'FCODE_DESCRIPTION': None, 'FTYPE_DISPLAY': None, 'NHD_FEATURECLASS': None, 'WATERBODY_NAME': None, 'FEATURE_ID': None, 'FEATURE_NAME': None, 'FEATURE_CLASS': None, 'LEVELELEV': None, 'GLOBALID': '{62E4507C-7C38-4E3E-A035-74A7A2FD6CAF}', 'SHAPE_Length': 3555.2220169003554, 'SHAPE_Area': 364116.1679749123, 'CREATED_USER': 'DEP', 'CREATED_DATE': 1548667156000, 'LAST_EDITED_USER': None, 'LAST_EDITED_DATE': None}\n",
      "{'OBJECTID': 376735, 'ACRES': 30.99108292, 'LU15': 1140, 'LABEL15': 'RESIDENTIAL, RURAL, SINGLE UNIT', 'TYPE15': 'URBAN', 'IS15': 16.33936811, 'ISACRES15': 5.06374712, 'DV15': 0, 'LU12': 1140, 'LABEL12': 'RESIDENTIAL, RURAL, SINGLE UNIT', 'TYPE12': 'URBAN', 'IS12': 10, 'ISACRES12': 3.09910921, 'DV12': 0, 'CHANGE15': 0, 'ISCHANGE15': 1, 'HU8': '02040105', 'STATUS': 'DRAFT', 'APPROVED': '01/28/19', 'COMID': None, 'PERMANENT_IDENTIFIER': None, 'FDATE': None, 'RESOLUTION': None, 'GNIS_ID': None, 'GNIS_NAME': None, 'AREASQKM': None, 'ELEVATION': None, 'REACHCODE': None, 'FTYPE': None, 'FCODE': None, 'FTYPE_DESCRIPTION': None, 'FCODE_DESCRIPTION': None, 'FTYPE_DISPLAY': None, 'NHD_FEATURECLASS': None, 'WATERBODY_NAME': None, 'FEATURE_ID': None, 'FEATURE_NAME': None, 'FEATURE_CLASS': None, 'LEVELELEV': None, 'GLOBALID': '{F47247BC-2694-40E9-8DEA-B3720B1FDB91}', 'SHAPE_Length': 10037.17966567571, 'SHAPE_Area': 1349966.1720263178, 'CREATED_USER': 'DEP', 'CREATED_DATE': 1548667156000, 'LAST_EDITED_USER': None, 'LAST_EDITED_DATE': None}\n",
      "{'OBJECTID': 376744, 'ACRES': 12.18262195, 'LU15': 1140, 'LABEL15': 'RESIDENTIAL, RURAL, SINGLE UNIT', 'TYPE15': 'URBAN', 'IS15': 19.64479018, 'ISACRES15': 2.39325052, 'DV15': 0, 'LU12': 1140, 'LABEL12': 'RESIDENTIAL, RURAL, SINGLE UNIT', 'TYPE12': 'URBAN', 'IS12': 15, 'ISACRES12': 1.82738263, 'DV12': 0, 'CHANGE15': 0, 'ISCHANGE15': 1, 'HU8': '02040105', 'STATUS': 'DRAFT', 'APPROVED': '01/28/19', 'COMID': None, 'PERMANENT_IDENTIFIER': None, 'FDATE': None, 'RESOLUTION': None, 'GNIS_ID': None, 'GNIS_NAME': None, 'AREASQKM': None, 'ELEVATION': None, 'REACHCODE': None, 'FTYPE': None, 'FCODE': None, 'FTYPE_DESCRIPTION': None, 'FCODE_DESCRIPTION': None, 'FTYPE_DISPLAY': None, 'NHD_FEATURECLASS': None, 'WATERBODY_NAME': None, 'FEATURE_ID': None, 'FEATURE_NAME': None, 'FEATURE_CLASS': None, 'LEVELELEV': None, 'GLOBALID': '{236291C1-73DF-44F6-9528-52CF821C23BF}', 'SHAPE_Length': 7849.074235109121, 'SHAPE_Area': 530672.8895802363, 'CREATED_USER': 'DEP', 'CREATED_DATE': 1548667156000, 'LAST_EDITED_USER': None, 'LAST_EDITED_DATE': None}\n",
      "{'OBJECTID': 406231, 'ACRES': 76.80337262, 'LU15': 2100, 'LABEL15': 'CROPLAND AND PASTURELAND', 'TYPE15': 'AGRICULTURE', 'IS15': 0.7277461000000001, 'ISACRES15': 0.55893355, 'DV15': 0, 'LU12': 2100, 'LABEL12': 'CROPLAND AND PASTURELAND', 'TYPE12': 'AGRICULTURE', 'IS12': 0, 'ISACRES12': 0, 'DV12': 0, 'CHANGE15': 0, 'ISCHANGE15': 1, 'HU8': '02040105', 'STATUS': 'DRAFT', 'APPROVED': '01/28/19', 'COMID': None, 'PERMANENT_IDENTIFIER': None, 'FDATE': None, 'RESOLUTION': None, 'GNIS_ID': None, 'GNIS_NAME': None, 'AREASQKM': None, 'ELEVATION': None, 'REACHCODE': None, 'FTYPE': None, 'FCODE': None, 'FTYPE_DESCRIPTION': None, 'FCODE_DESCRIPTION': None, 'FTYPE_DISPLAY': None, 'NHD_FEATURECLASS': None, 'WATERBODY_NAME': None, 'FEATURE_ID': None, 'FEATURE_NAME': None, 'FEATURE_CLASS': None, 'LEVELELEV': None, 'GLOBALID': '{8A37E359-A76D-4ECC-9DC8-79FA498D24F9}', 'SHAPE_Length': 14458.94341323741, 'SHAPE_Area': 3345541.5290280515, 'CREATED_USER': 'DEP', 'CREATED_DATE': 1548667156000, 'LAST_EDITED_USER': None, 'LAST_EDITED_DATE': None}\n",
      "{'OBJECTID': 414024, 'ACRES': 3.50250164, 'LU15': 4110, 'LABEL15': 'DECIDUOUS FOREST (10-50% CROWN CLOSURE)', 'TYPE15': 'FOREST', 'IS15': 0.9479073, 'ISACRES15': 0.03320047, 'DV15': 0, 'LU12': 4110, 'LABEL12': 'DECIDUOUS FOREST (10-50% CROWN CLOSURE)', 'TYPE12': 'FOREST', 'IS12': 0, 'ISACRES12': 0, 'DV12': 0, 'CHANGE15': 0, 'ISCHANGE15': 1, 'HU8': '02040105', 'STATUS': 'DRAFT', 'APPROVED': '01/28/19', 'COMID': None, 'PERMANENT_IDENTIFIER': None, 'FDATE': None, 'RESOLUTION': None, 'GNIS_ID': None, 'GNIS_NAME': None, 'AREASQKM': None, 'ELEVATION': None, 'REACHCODE': None, 'FTYPE': None, 'FCODE': None, 'FTYPE_DESCRIPTION': None, 'FCODE_DESCRIPTION': None, 'FTYPE_DISPLAY': None, 'NHD_FEATURECLASS': None, 'WATERBODY_NAME': None, 'FEATURE_ID': None, 'FEATURE_NAME': None, 'FEATURE_CLASS': None, 'LEVELELEV': None, 'GLOBALID': '{3836422A-0712-4728-8F4B-7448BBD746FD}', 'SHAPE_Length': 3327.8350068656614, 'SHAPE_Area': 152568.36122927823, 'CREATED_USER': 'DEP', 'CREATED_DATE': 1548667156000, 'LAST_EDITED_USER': None, 'LAST_EDITED_DATE': None}\n",
      "{'OBJECTID': 419968, 'ACRES': 2.48227812, 'LU15': 4120, 'LABEL15': 'DECIDUOUS FOREST (>50% CROWN CLOSURE)', 'TYPE15': 'FOREST', 'IS15': 0, 'ISACRES15': 0, 'DV15': 0, 'LU12': 4120, 'LABEL12': 'DECIDUOUS FOREST (>50% CROWN CLOSURE)', 'TYPE12': 'FOREST', 'IS12': 0, 'ISACRES12': 0, 'DV12': 0, 'CHANGE15': 0, 'ISCHANGE15': 0, 'HU8': '02040105', 'STATUS': 'DRAFT', 'APPROVED': '01/28/19', 'COMID': None, 'PERMANENT_IDENTIFIER': None, 'FDATE': None, 'RESOLUTION': None, 'GNIS_ID': None, 'GNIS_NAME': None, 'AREASQKM': None, 'ELEVATION': None, 'REACHCODE': None, 'FTYPE': None, 'FCODE': None, 'FTYPE_DESCRIPTION': None, 'FCODE_DESCRIPTION': None, 'FTYPE_DISPLAY': None, 'NHD_FEATURECLASS': None, 'WATERBODY_NAME': None, 'FEATURE_ID': None, 'FEATURE_NAME': None, 'FEATURE_CLASS': None, 'LEVELELEV': None, 'GLOBALID': '{8DAF8BEB-AF95-4A42-A9E1-FD002DAA7791}', 'SHAPE_Length': 3402.503592515022, 'SHAPE_Area': 108127.60236727513, 'CREATED_USER': 'DEP', 'CREATED_DATE': 1548667156000, 'LAST_EDITED_USER': None, 'LAST_EDITED_DATE': None}\n",
      "{'OBJECTID': 419983, 'ACRES': 14.1049625, 'LU15': 4120, 'LABEL15': 'DECIDUOUS FOREST (>50% CROWN CLOSURE)', 'TYPE15': 'FOREST', 'IS15': 2.10424492, 'ISACRES15': 0.29680296, 'DV15': 0, 'LU12': 4120, 'LABEL12': 'DECIDUOUS FOREST (>50% CROWN CLOSURE)', 'TYPE12': 'FOREST', 'IS12': 0, 'ISACRES12': 0, 'DV12': 0, 'CHANGE15': 0, 'ISCHANGE15': 1, 'HU8': '02040105', 'STATUS': 'DRAFT', 'APPROVED': '01/28/19', 'COMID': None, 'PERMANENT_IDENTIFIER': None, 'FDATE': None, 'RESOLUTION': None, 'GNIS_ID': None, 'GNIS_NAME': None, 'AREASQKM': None, 'ELEVATION': None, 'REACHCODE': None, 'FTYPE': None, 'FCODE': None, 'FTYPE_DESCRIPTION': None, 'FCODE_DESCRIPTION': None, 'FTYPE_DISPLAY': None, 'NHD_FEATURECLASS': None, 'WATERBODY_NAME': None, 'FEATURE_ID': None, 'FEATURE_NAME': None, 'FEATURE_CLASS': None, 'LEVELELEV': None, 'GLOBALID': '{33BF5616-7025-4C54-B558-8A759FF5C702}', 'SHAPE_Length': 6795.472757485243, 'SHAPE_Area': 614409.7086478288, 'CREATED_USER': 'DEP', 'CREATED_DATE': 1548667156000, 'LAST_EDITED_USER': None, 'LAST_EDITED_DATE': None}\n",
      "{'OBJECTID': 427126, 'ACRES': 3.33113801, 'LU15': 4230, 'LABEL15': 'PLANTATION', 'TYPE15': 'FOREST', 'IS15': 0.07295286000000001, 'ISACRES15': 0.0024301600000000002, 'DV15': 0, 'LU12': 4230, 'LABEL12': 'PLANTATION', 'TYPE12': 'FOREST', 'IS12': 0, 'ISACRES12': 0, 'DV12': 0, 'CHANGE15': 0, 'ISCHANGE15': 1, 'HU8': '02040105', 'STATUS': 'DRAFT', 'APPROVED': '01/28/19', 'COMID': None, 'PERMANENT_IDENTIFIER': None, 'FDATE': None, 'RESOLUTION': None, 'GNIS_ID': None, 'GNIS_NAME': None, 'AREASQKM': None, 'ELEVATION': None, 'REACHCODE': None, 'FTYPE': None, 'FCODE': None, 'FTYPE_DESCRIPTION': None, 'FCODE_DESCRIPTION': None, 'FTYPE_DISPLAY': None, 'NHD_FEATURECLASS': None, 'WATERBODY_NAME': None, 'FEATURE_ID': None, 'FEATURE_NAME': None, 'FEATURE_CLASS': None, 'LEVELELEV': None, 'GLOBALID': '{0DB23D8D-26E2-4EA6-A811-E1CDBF005C26}', 'SHAPE_Length': 2165.4731273907714, 'SHAPE_Area': 145103.79129750648, 'CREATED_USER': 'DEP', 'CREATED_DATE': 1548667156000, 'LAST_EDITED_USER': None, 'LAST_EDITED_DATE': None}\n",
      "{'OBJECTID': 427801, 'ACRES': 2.06369776, 'LU15': 4312, 'LABEL15': 'MIXED FOREST (>50% CONIFEROUS WITH >50% CROWN CLOSURE)', 'TYPE15': 'FOREST', 'IS15': 0, 'ISACRES15': 0, 'DV15': 0, 'LU12': 4312, 'LABEL12': 'MIXED FOREST (>50% CONIFEROUS WITH >50% CROWN CLOSURE)', 'TYPE12': 'FOREST', 'IS12': 0, 'ISACRES12': 0, 'DV12': 0, 'CHANGE15': 0, 'ISCHANGE15': 0, 'HU8': '02040105', 'STATUS': 'DRAFT', 'APPROVED': '01/28/19', 'COMID': None, 'PERMANENT_IDENTIFIER': None, 'FDATE': None, 'RESOLUTION': None, 'GNIS_ID': None, 'GNIS_NAME': None, 'AREASQKM': None, 'ELEVATION': None, 'REACHCODE': None, 'FTYPE': None, 'FCODE': None, 'FTYPE_DESCRIPTION': None, 'FCODE_DESCRIPTION': None, 'FTYPE_DISPLAY': None, 'NHD_FEATURECLASS': None, 'WATERBODY_NAME': None, 'FEATURE_ID': None, 'FEATURE_NAME': None, 'FEATURE_CLASS': None, 'LEVELELEV': None, 'GLOBALID': '{4FD625C4-D4A2-42BB-ACC8-A66858CA40D6}', 'SHAPE_Length': 1290.0129468316327, 'SHAPE_Area': 89894.31473877869, 'CREATED_USER': 'DEP', 'CREATED_DATE': 1548667156000, 'LAST_EDITED_USER': None, 'LAST_EDITED_DATE': None}\n",
      "{'OBJECTID': 435138, 'ACRES': 33.59298344, 'LU15': 4440, 'LABEL15': 'MIXED DECIDUOUS/CONIFEROUS BRUSH/SHRUBLAND', 'TYPE15': 'FOREST', 'IS15': 1.1625388700000001, 'ISACRES15': 0.39053149, 'DV15': 0, 'LU12': 4440, 'LABEL12': 'MIXED DECIDUOUS/CONIFEROUS BRUSH/SHRUBLAND', 'TYPE12': 'FOREST', 'IS12': 0, 'ISACRES12': 0, 'DV12': 0, 'CHANGE15': 0, 'ISCHANGE15': 1, 'HU8': '02040105', 'STATUS': 'DRAFT', 'APPROVED': '01/28/19', 'COMID': None, 'PERMANENT_IDENTIFIER': None, 'FDATE': None, 'RESOLUTION': None, 'GNIS_ID': None, 'GNIS_NAME': None, 'AREASQKM': None, 'ELEVATION': None, 'REACHCODE': None, 'FTYPE': None, 'FCODE': None, 'FTYPE_DESCRIPTION': None, 'FCODE_DESCRIPTION': None, 'FTYPE_DISPLAY': None, 'NHD_FEATURECLASS': None, 'WATERBODY_NAME': None, 'FEATURE_ID': None, 'FEATURE_NAME': None, 'FEATURE_CLASS': None, 'LEVELELEV': None, 'GLOBALID': '{D689423A-3555-42CD-902A-B495365DBD10}', 'SHAPE_Length': 6881.323361779854, 'SHAPE_Area': 1463304.5054449765, 'CREATED_USER': 'DEP', 'CREATED_DATE': 1548667156000, 'LAST_EDITED_USER': None, 'LAST_EDITED_DATE': None}\n",
      "{'OBJECTID': 445893, 'ACRES': 3.90208254, 'LU15': 6210, 'LABEL15': 'DECIDUOUS WOODED WETLANDS', 'TYPE15': 'WETLANDS', 'IS15': 0.37569125000000003, 'ISACRES15': 0.01465978, 'DV15': 0, 'LU12': 6210, 'LABEL12': 'DECIDUOUS WOODED WETLANDS', 'TYPE12': 'WETLANDS', 'IS12': 0, 'ISACRES12': 0, 'DV12': 0, 'CHANGE15': 0, 'ISCHANGE15': 1, 'HU8': '02040105', 'STATUS': 'DRAFT', 'APPROVED': '01/28/19', 'COMID': None, 'PERMANENT_IDENTIFIER': None, 'FDATE': None, 'RESOLUTION': None, 'GNIS_ID': None, 'GNIS_NAME': None, 'AREASQKM': None, 'ELEVATION': None, 'REACHCODE': None, 'FTYPE': None, 'FCODE': None, 'FTYPE_DESCRIPTION': None, 'FCODE_DESCRIPTION': None, 'FTYPE_DISPLAY': None, 'NHD_FEATURECLASS': None, 'WATERBODY_NAME': None, 'FEATURE_ID': None, 'FEATURE_NAME': None, 'FEATURE_CLASS': None, 'LEVELELEV': None, 'GLOBALID': '{1ADED42D-1977-4EAD-866F-426B4DC86207}', 'SHAPE_Length': 4076.698714751085, 'SHAPE_Area': 169974.03536711037, 'CREATED_USER': 'DEP', 'CREATED_DATE': 1548667156000, 'LAST_EDITED_USER': None, 'LAST_EDITED_DATE': None}\n"
     ]
    }
   ],
   "source": [
    "# Query the layer for features that overlay the area of interest\n",
    "features = layer.query(geometry_filter=arcgis.geometry.filters.overlaps(area_of_interest))\n",
    "\n",
    "# Check features\n",
    "print(f\"Found {len(features)} features in the layer.\")\n",
    "\n",
    "# View the feature attributes\n",
    "for feature in features:\n",
    "    print(feature.attributes)"
   ]
  },
  {
   "attachments": {},
   "cell_type": "markdown",
   "metadata": {},
   "source": [
    "What will the feature analysis `summarize_within` give? This spacial analysis tool should provide the desired area, but it requires an ArcGIS Online account under an organization which we may not have."
   ]
  },
  {
   "cell_type": "code",
   "execution_count": null,
   "metadata": {},
   "outputs": [],
   "source": [
    "# This spatial analysis tool *should* do what we want, however it requires an ArcGIS Online account under an organization\n",
    "for feature in features:\n",
    "    print(arcgis.features.analysis.summarize_within(sum_within_layer = area_of_interest, summary_layer = layer, group_by_field = 'LABEL15'))"
   ]
  },
  {
   "attachments": {},
   "cell_type": "markdown",
   "metadata": {},
   "source": [
    "Alternate approach Matt says got intersection geometry"
   ]
  },
  {
   "cell_type": "code",
   "execution_count": 9,
   "metadata": {},
   "outputs": [
    {
     "name": "stdout",
     "output_type": "stream",
     "text": [
      "Feature_Geo_1: {'rings': [[[-8318737.041446664, 4912503.991715548], [-8318788.951590038, 4912501.073009888], [-8318819.649474512, 4912502.621234108], [-8318825.498053442, 4912535.14813234], [-8318831.723243505, 4912617.172253312], [-8318831.952788128, 4912622.47375669], [-8318694.735535496, 4912632.223729978], [-8318687.005670803, 4912506.804836614], [-8318692.148349541, 4912506.515654499], [-8318737.041446664, 4912503.991715548]]], 'spatialReference': {'wkid': 102100, 'latestWkid': 3857}}\n",
      "AOI_Geo_1: {'rings': [[[-74.73237718840579, 40.31934181159421], [-74.73237718840579, 40.3265881884058], [-74.7251308115942, 40.3265881884058], [-74.7251308115942, 40.31934181159421], [-74.73237718840579, 40.31934181159421]]], 'spatialReference': {'wkid': 4326}}\n",
      "Feature_Geo_2: {'rings': [[[-74.7284862886083, 40.319661903211625], [-74.7289526058689, 40.3196419125306], [-74.7292283697965, 40.319652516420874], [-74.72928090866421, 40.31987529841405], [-74.72933682968898, 40.320437092147365], [-74.72933889222085, 40.32047340260555], [-74.72810624824251, 40.32054018051103], [-74.72803681026767, 40.31968117061434], [-74.72808300702947, 40.31967919051928], [-74.7284862886083, 40.319661903211625]]], 'spatialReference': {'wkid': 4326}}\n",
      "AOI_Geo_2: {'rings': [[[-74.73237718840579, 40.31934181159421], [-74.73237718840579, 40.3265881884058], [-74.7251308115942, 40.3265881884058], [-74.7251308115942, 40.31934181159421], [-74.73237718840579, 40.31934181159421]]], 'spatialReference': {'wkid': 4326}}\n",
      "Intersection: [{'rings': [[[-74.72848628899999, 40.31966190300005], [-74.72895260599995, 40.319641913000055], [-74.72922836999999, 40.319652516000076], [-74.72928090899995, 40.319875298000056], [-74.72933682999997, 40.32043709200008], [-74.72933889199999, 40.32047340300005], [-74.72810624799996, 40.32054018100007], [-74.72803680999994, 40.31968117100007], [-74.72808300699995, 40.319679191000034], [-74.72848628899999, 40.31966190300005]]], 'spatialReference': {'wkid': 4326}}]\n"
     ]
    }
   ],
   "source": [
    "from arcgis.geometry import project\n",
    "\n",
    "# Check spatial reference of AOI\n",
    "aoi_spatial_ref = area_of_interest.spatial_reference['wkid']\n",
    "\n",
    "# Get geom of first feature\n",
    "feature_set = layer.query(geometry_filter=arcgis.geometry.filters.intersects(area_of_interest))\n",
    "feature = feature_set.features[0]\n",
    "feature_geometry = feature.geometry\n",
    "print(f\"Feature_Geo_1: {feature_geometry}\")\n",
    "print(f\"AOI_Geo_1: {area_of_interest}\")\n",
    "# Check spatial reference of feature\n",
    "feature_spatial_ref = feature_geometry['spatialReference']['wkid']\n",
    "\n",
    "# https://developers.arcgis.com/python/api-reference/arcgis.geometry.html#project\n",
    "# Match spatial refs\n",
    "feature_geometry = project(geometries=[feature_geometry],\n",
    "                            in_sr=feature_spatial_ref,\n",
    "                            out_sr=aoi_spatial_ref)[0]\n",
    "print(f\"Feature_Geo_2: {feature_geometry}\")\n",
    "print(f\"AOI_Geo_2: {area_of_interest}\")\n",
    "#from arcgis.geometry import intersect\n",
    "\n",
    "spatial_ref = aoi_spatial_ref # {'wkid': 4326}\n",
    "\n",
    "# Get intersection\n",
    "# https://developers.arcgis.com/python/api-reference/arcgis.geometry.html#intersect\n",
    "intersection = arcgis.geometry.intersect(spatial_ref, geometries = [area_of_interest], geometry = feature_geometry)\n",
    "print(f\"Intersection: {intersection}\")"
   ]
  },
  {
   "attachments": {},
   "cell_type": "markdown",
   "metadata": {},
   "source": [
    "Looks like this should be workable. \n",
    "\n",
    "This intersection should refer to `Object ID: 371923; RESIDENTIAL, SINGLE UNIT, LOW DENSITY; 2.430437 acres`, so we should be able to cylce through all intersected features like this to calculate area."
   ]
  },
  {
   "cell_type": "code",
   "execution_count": 10,
   "metadata": {},
   "outputs": [
    {
     "data": {
      "image/svg+xml": [
       "<svg xmlns=\"http://www.w3.org/2000/svg\" xmlns:xlink=\"http://www.w3.org/1999/xlink\" width=\"100.0\" height=\"100.0\" viewBox=\"-74.72939097527998 40.31958982972005 0.0014062485600447872 0.0010024345600214701\" preserveAspectRatio=\"xMinYMin meet\"><g transform=\"matrix(1,0,0,-1,0,80.64018209400012)\"><path fill-rule=\"evenodd\" fill=\"#66cc99\" stroke=\"#555555\" stroke-width=\"2.8124971200895744e-05\" opacity=\"0.6\" d=\"M -74.72848628899999,40.31966190300005 L -74.72895260599995,40.319641913000055 L -74.72922836999999,40.319652516000076 L -74.72928090899995,40.319875298000056 L -74.72933682999997,40.32043709200008 L -74.72933889199999,40.32047340300005 L -74.72810624799996,40.32054018100007 L -74.72803680999994,40.31968117100007 L -74.72808300699995,40.319679191000034 L -74.72848628899999,40.31966190300005 z\" /></g></svg>"
      ],
      "text/plain": [
       "{'rings': [[[-74.72848628899999, 40.31966190300005],\n",
       "   [-74.72895260599995, 40.319641913000055],\n",
       "   [-74.72922836999999, 40.319652516000076],\n",
       "   [-74.72928090899995, 40.319875298000056],\n",
       "   [-74.72933682999997, 40.32043709200008],\n",
       "   [-74.72933889199999, 40.32047340300005],\n",
       "   [-74.72810624799996, 40.32054018100007],\n",
       "   [-74.72803680999994, 40.31968117100007],\n",
       "   [-74.72808300699995, 40.319679191000034],\n",
       "   [-74.72848628899999, 40.31966190300005]]],\n",
       " 'spatialReference': {'wkid': 4326}}"
      ]
     },
     "execution_count": 10,
     "metadata": {},
     "output_type": "execute_result"
    }
   ],
   "source": [
    "intersection[0]"
   ]
  },
  {
   "cell_type": "code",
   "execution_count": 11,
   "metadata": {},
   "outputs": [
    {
     "data": {
      "text/plain": [
       "{'areas': [9837.50575620192], 'lengths': [393.75982037705984]}"
      ]
     },
     "execution_count": 11,
     "metadata": {},
     "output_type": "execute_result"
    }
   ],
   "source": [
    "test_area = arcgis.geometry.areas_and_lengths(polygons = intersection[0], length_unit= 9001, area_unit=9001, calculation_type='preserveShape', spatial_ref = spatial_ref)\n",
    "test_area"
   ]
  },
  {
   "attachments": {},
   "cell_type": "markdown",
   "metadata": {},
   "source": [
    "`geodesic`: {'areas': [9837.519435710936], 'lengths': [393.7598203745224]}\n",
    "\n",
    "`planar`: {'areas': [12887.976266627964], 'lengths': [457.97848215130557]}\n",
    "\n",
    "`preserveShape`: {'areas': [9837.50575620192], 'lengths': [393.75982037705984]}"
   ]
  },
  {
   "cell_type": "code",
   "execution_count": 12,
   "metadata": {},
   "outputs": [
    {
     "data": {
      "text/plain": [
       "[9837.50575620192]"
      ]
     },
     "execution_count": 12,
     "metadata": {},
     "output_type": "execute_result"
    }
   ],
   "source": [
    "test_area['areas']"
   ]
  },
  {
   "attachments": {},
   "cell_type": "markdown",
   "metadata": {},
   "source": [
    "We have area. Now let's get a list for all the features in our `area_of_interest`."
   ]
  },
  {
   "cell_type": "code",
   "execution_count": 14,
   "metadata": {},
   "outputs": [
    {
     "data": {
      "text/plain": [
       "[('RESIDENTIAL, SINGLE UNIT, LOW DENSITY', [9837.519435710936]),\n",
       " ('RESIDENTIAL, RURAL, SINGLE UNIT', [19214.545632824284]),\n",
       " ('RESIDENTIAL, RURAL, SINGLE UNIT', [9245.643083689602]),\n",
       " ('RESIDENTIAL, RURAL, SINGLE UNIT', [2414.091451106678]),\n",
       " ('CROPLAND AND PASTURELAND', [270425.88118461665]),\n",
       " ('AGRICULTURAL WETLANDS (MODIFIED)', [4187.142177020247]),\n",
       " ('AGRICULTURAL WETLANDS (MODIFIED)', [11145.591614426075]),\n",
       " ('DECIDUOUS FOREST (10-50% CROWN CLOSURE)', [1314.8407731290363]),\n",
       " ('DECIDUOUS FOREST (>50% CROWN CLOSURE)', [3879.70756537234]),\n",
       " ('DECIDUOUS FOREST (>50% CROWN CLOSURE)', [10301.133011833832]),\n",
       " ('PLANTATION', [3118.2726111932284]),\n",
       " ('MIXED FOREST (>50% CONIFEROUS WITH >50% CROWN CLOSURE)',\n",
       "  [2389.5981208965372]),\n",
       " ('MIXED DECIDUOUS/CONIFEROUS BRUSH/SHRUBLAND', [111004.5367850509]),\n",
       " ('DECIDUOUS WOODED WETLANDS', [315.45317639807905]),\n",
       " ('DECIDUOUS WOODED WETLANDS', [293.9639848545341]),\n",
       " ('DECIDUOUS WOODED WETLANDS', [1065.7152863120186]),\n",
       " ('DECIDUOUS WOODED WETLANDS', [12150.017327492169]),\n",
       " ('DECIDUOUS WOODED WETLANDS', [23253.291553701045])]"
      ]
     },
     "execution_count": 14,
     "metadata": {},
     "output_type": "execute_result"
    }
   ],
   "source": [
    "#from arcgis.geometry import project\n",
    "\n",
    "# Check spatial reference of AOI\n",
    "aoi_spatial_ref = area_of_interest.spatial_reference['wkid']\n",
    "\n",
    "feature_areas = []\n",
    "# Get geom of first feature\n",
    "feature_set = layer.query(geometry_filter=arcgis.geometry.filters.intersects(area_of_interest))\n",
    "for feature in feature_set.features:\n",
    "    feature_geometry = feature.geometry\n",
    "    region_label = feature.attributes['LABEL15']\n",
    "    feature_spatial_ref = feature_geometry['spatialReference']['wkid']\n",
    "    # https://developers.arcgis.com/python/api-reference/arcgis.geometry.html#project\n",
    "    # Match spatial refs\n",
    "    feature_geometry = project(geometries=[feature_geometry],\n",
    "                            in_sr=feature_spatial_ref,\n",
    "                            out_sr=aoi_spatial_ref)[0]\n",
    "    spatial_ref = aoi_spatial_ref # {'wkid': 4326}\n",
    "\n",
    "    # Get intersection\n",
    "    # https://developers.arcgis.com/python/api-reference/arcgis.geometry.html#intersect\n",
    "    intersection = arcgis.geometry.intersect(spatial_ref, [area_of_interest], feature_geometry)\n",
    "    area = arcgis.geometry.areas_and_lengths(polygons = intersection[0], \n",
    "                                             length_unit= 9001, \n",
    "                                             area_unit=9001, \n",
    "                                             calculation_type='geodesic', \n",
    "                                             spatial_ref = spatial_ref)\n",
    "    feature_areas.append((region_label, area['areas']))\n",
    "\n",
    "feature_areas\n"
   ]
  },
  {
   "cell_type": "code",
   "execution_count": null,
   "metadata": {},
   "outputs": [],
   "source": []
  }
 ],
 "metadata": {
  "kernelspec": {
   "display_name": "andromeda",
   "language": "python",
   "name": "python3"
  },
  "language_info": {
   "codemirror_mode": {
    "name": "ipython",
    "version": 3
   },
   "file_extension": ".py",
   "mimetype": "text/x-python",
   "name": "python",
   "nbconvert_exporter": "python",
   "pygments_lexer": "ipython3",
   "version": "3.9.16"
  },
  "orig_nbformat": 4
 },
 "nbformat": 4,
 "nbformat_minor": 2
}
